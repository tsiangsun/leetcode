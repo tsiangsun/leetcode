{
 "cells": [
  {
   "cell_type": "markdown",
   "metadata": {
    "collapsed": true
   },
   "source": [
    "Given an integer n, find the closest integer (not including itself), which is a palindrome.\n",
    "\n",
    "The 'closest' is defined as absolute difference minimized between two integers.\n",
    "\n",
    "Example:\n",
    "- Input: \"123\"\n",
    "- Output: \"121\"\n",
    "\n",
    "Note:\n",
    "\n",
    "- The input n is a positive integer represented by string, whose length will not exceed 18.\n",
    "- If there is a tie, return the smaller one as answer."
   ]
  },
  {
   "cell_type": "code",
   "execution_count": 69,
   "metadata": {},
   "outputs": [],
   "source": [
    "# doesn't handle special cases like 1001, 999, 11, 10\n",
    "def closestPalindrome(s):\n",
    "    n = int(s)\n",
    "    l = len(s)\n",
    "    res= []\n",
    "    if l == 1: return str(n - 1)\n",
    "    mid = l/2\n",
    "    for pre in s[0:mid], s[0:mid+1], str(int(s[0:mid])*10) :\n",
    "        prenum = int(pre)\n",
    "        for i in (-1, 0, 1) :\n",
    "            p = prenum + i \n",
    "            even = int(str(p) + str(p)[::-1])\n",
    "            if even > 0:\n",
    "                res.append(even)\n",
    "            odd = int(str(p) + str(p)[::-1][1:])\n",
    "            if odd > 0:\n",
    "                res.append(odd)\n",
    "    mindiff = 99999999999999\n",
    "    for r in res:\n",
    "        d = abs(r-n)\n",
    "        if  d < mindiff and d != 0:\n",
    "            result = r\n",
    "            mindiff = d\n",
    "        if d == mindiff:\n",
    "            result = min(result, r)\n",
    "    return str(result) "
   ]
  },
  {
   "cell_type": "code",
   "execution_count": 70,
   "metadata": {},
   "outputs": [
    {
     "name": "stdout",
     "output_type": "stream",
     "text": [
      "121\n",
      "1221\n",
      "999\n",
      "999\n",
      "1001\n"
     ]
    }
   ],
   "source": [
    "print closestPalindrome('123')\n",
    "print closestPalindrome('1231')\n",
    "print closestPalindrome('1001')\n",
    "print closestPalindrome('1000')\n",
    "print closestPalindrome('999')"
   ]
  },
  {
   "cell_type": "code",
   "execution_count": 71,
   "metadata": {
    "collapsed": true
   },
   "outputs": [],
   "source": [
    "# my submission\n",
    "\n",
    "class Solution(object):\n",
    "    def nearestPalindromic(self, n):\n",
    "        \"\"\"\n",
    "        :type n: str\n",
    "        :rtype: str\n",
    "        \"\"\"\n",
    "        s = n\n",
    "        n = int(s)\n",
    "        l = len(s)\n",
    "        res= []\n",
    "        if l == 1 or s == '10': return str(n - 1)\n",
    "        mid = l/2\n",
    "        for pre in s[0:mid], s[0:mid+1], str(int(s[0:mid])*10) :\n",
    "            prenum = int(pre)\n",
    "            for i in (-1, 0, 1) :\n",
    "                p = prenum + i \n",
    "                even = int(str(p) + str(p)[::-1])\n",
    "                if even > 0:\n",
    "                    res.append(even)\n",
    "                odd = int(str(p) + str(p)[::-1][1:])\n",
    "                if odd > 0:\n",
    "                    res.append(odd)\n",
    "        mindiff = 99999999999999\n",
    "        for r in res:\n",
    "            d = abs(r-n)\n",
    "            if  d < mindiff and d != 0:\n",
    "                result = r\n",
    "                mindiff = d\n",
    "            if d == mindiff:\n",
    "                result = min(result, r)\n",
    "        return str(result) "
   ]
  },
  {
   "cell_type": "code",
   "execution_count": 72,
   "metadata": {},
   "outputs": [
    {
     "name": "stdout",
     "output_type": "stream",
     "text": [
      "111\n",
      "999\n",
      "1001\n",
      "9999\n"
     ]
    }
   ],
   "source": [
    "# http://bookshadow.com/weblog/2017/04/23/leetcode-find-the-closest-palindrome/\n",
    "def nearestPalindromic(n):\n",
    "    \"\"\"\n",
    "    :type n: str\n",
    "    :rtype: str\n",
    "    \"\"\"\n",
    "    evenPal = lambda sp : int(sp + sp[::-1])\n",
    "    oddPal = lambda sp : int(sp + sp[::-1][1:])\n",
    "    sn, n = n, int(n)\n",
    "    if len(sn) == 1: return str(n - 1)\n",
    "    ans = -999999999999999999\n",
    "    mid = len(sn) / 2\n",
    "    for sp in sn[:mid], sn[:mid + 1], str(int(sn[:mid]) * 10):\n",
    "        p = int(sp)\n",
    "        for pal in evenPal, oddPal:\n",
    "            for d in -1, 0, 1:\n",
    "                val = pal(str(p + d))\n",
    "                if val == n: continue\n",
    "                ans = min(ans, val, key = lambda x : (abs(x - n), x))\n",
    "    return str(ans)\n",
    "\n",
    "s='121'\n",
    "print nearestPalindromic(s)\n",
    "s='1001'\n",
    "print nearestPalindromic(s)\n",
    "s='999'\n",
    "print nearestPalindromic(s)\n",
    "s='10000'\n",
    "print nearestPalindromic(s)"
   ]
  },
  {
   "cell_type": "code",
   "execution_count": null,
   "metadata": {
    "collapsed": true
   },
   "outputs": [],
   "source": []
  }
 ],
 "metadata": {
  "kernelspec": {
   "display_name": "Python 2",
   "language": "python",
   "name": "python2"
  },
  "language_info": {
   "codemirror_mode": {
    "name": "ipython",
    "version": 2
   },
   "file_extension": ".py",
   "mimetype": "text/x-python",
   "name": "python",
   "nbconvert_exporter": "python",
   "pygments_lexer": "ipython2",
   "version": "2.7.13"
  }
 },
 "nbformat": 4,
 "nbformat_minor": 2
}
