{
 "cells": [
  {
   "cell_type": "markdown",
   "metadata": {},
   "source": [
    "https://leetcode.com/problems/search-a-2d-matrix/description/\n",
    "    \n",
    "Write an efficient algorithm that searches for a value in an m x n matrix. This matrix has the following properties:\n",
    "\n",
    "Integers in each row are sorted from left to right.\n",
    "The first integer of each row is greater than the last integer of the previous row.\n",
    "For example,\n",
    "\n",
    "Consider the following matrix:\n",
    "\n",
    "    [\n",
    "      [1,   3,  5,  7],\n",
    "      [10, 11, 16, 20],\n",
    "      [23, 30, 34, 50]\n",
    "    ]\n",
    "Given target = 3, return true."
   ]
  },
  {
   "cell_type": "code",
   "execution_count": 10,
   "metadata": {},
   "outputs": [
    {
     "name": "stdout",
     "output_type": "stream",
     "text": [
      "True\n",
      "False\n"
     ]
    }
   ],
   "source": [
    "m = [\n",
    "  [1,   3,  5,  7],\n",
    "  [10, 11, 16, 20],\n",
    "  [23, 30, 34, 50]\n",
    "]\n",
    "\n",
    "class Solution(object):\n",
    "    def searchMatrix(self, matrix, target):\n",
    "        \"\"\"\n",
    "        :type matrix: List[List[int]]\n",
    "        :type target: int\n",
    "        :rtype: bool\n",
    "        \"\"\"\n",
    "        rows = len(matrix) \n",
    "        if rows ==0 :\n",
    "            return False\n",
    "        cols = len(matrix[0])\n",
    "        if cols ==0 :\n",
    "            return False\n",
    "        l = 0 \n",
    "        h = rows * cols - 1\n",
    "        \n",
    "        while l+1 < h:\n",
    "            mid = ( l + h ) / 2\n",
    "            r = mid / cols\n",
    "            c = mid % cols\n",
    "            if matrix[r][c] < target:\n",
    "                l = r*cols + c\n",
    "            else:\n",
    "                if matrix[r][c] > target:\n",
    "                    h = r*cols + c\n",
    "                else:\n",
    "                    return True\n",
    "        if matrix[l/cols][l%cols] == target:\n",
    "            return True\n",
    "        if matrix[h/cols][h%cols] == target:\n",
    "            return True\n",
    "        return False\n",
    "        \n",
    "sol = Solution()\n",
    "print sol.searchMatrix(m, 10)\n",
    "print sol.searchMatrix(m, 12)"
   ]
  },
  {
   "cell_type": "code",
   "execution_count": 11,
   "metadata": {},
   "outputs": [
    {
     "name": "stdout",
     "output_type": "stream",
     "text": [
      "True\n"
     ]
    }
   ],
   "source": [
    "print sol.searchMatrix([[1]], 1)"
   ]
  },
  {
   "cell_type": "code",
   "execution_count": null,
   "metadata": {
    "collapsed": true
   },
   "outputs": [],
   "source": []
  }
 ],
 "metadata": {
  "kernelspec": {
   "display_name": "Python 2",
   "language": "python",
   "name": "python2"
  },
  "language_info": {
   "codemirror_mode": {
    "name": "ipython",
    "version": 2
   },
   "file_extension": ".py",
   "mimetype": "text/x-python",
   "name": "python",
   "nbconvert_exporter": "python",
   "pygments_lexer": "ipython2",
   "version": "2.7.13"
  }
 },
 "nbformat": 4,
 "nbformat_minor": 2
}
