{
 "cells": [
  {
   "cell_type": "markdown",
   "metadata": {},
   "source": [
    "Given a collection of intervals, merge all overlapping intervals.\n",
    "\n",
    "For example,\n",
    "\n",
    "    Given [1,3],[2,6],[8,20],[15,18],\n",
    "    return [1,6],[8,20]."
   ]
  },
  {
   "cell_type": "code",
   "execution_count": 14,
   "metadata": {
    "collapsed": true
   },
   "outputs": [],
   "source": [
    "# Definition for an interval.\n",
    "class Interval(object):\n",
    "    def __init__(self, s=0, e=0):\n",
    "        self.start = s\n",
    "        self.end = e\n",
    "    def __str__(self):\n",
    "        return '['+str(self.start) +','+str(self.end)+']'\n",
    "\n",
    "class Solution(object):\n",
    "    def merge(self, intervals):\n",
    "        \"\"\"\n",
    "        :type intervals: List[Interval]\n",
    "        :rtype: List[Interval]\n",
    "        \"\"\"\n",
    "        sinterval = sorted(intervals, key = lambda x: x.start)\n",
    "        res = []\n",
    "        for inter in sinterval:\n",
    "            if len(res) != 0 and res[-1].end >= inter.start:\n",
    "                t1 = res.pop()\n",
    "                res.append(Interval(min(t1.start, inter.start), max(t1.end,inter.end)))\n",
    "            else:\n",
    "                res.append(inter)\n",
    "        return res\n",
    "    \n",
    "                "
   ]
  },
  {
   "cell_type": "code",
   "execution_count": 15,
   "metadata": {
    "collapsed": true
   },
   "outputs": [],
   "source": [
    "intervals = [Interval(1,3), Interval(2,6), Interval(15,18), Interval(8,20)]"
   ]
  },
  {
   "cell_type": "code",
   "execution_count": 16,
   "metadata": {},
   "outputs": [
    {
     "name": "stdout",
     "output_type": "stream",
     "text": [
      "[1,6]\n",
      "[8,20]\n"
     ]
    }
   ],
   "source": [
    "sol=Solution()\n",
    "for a in sol.merge(intervals):\n",
    "    print a"
   ]
  },
  {
   "cell_type": "code",
   "execution_count": null,
   "metadata": {
    "collapsed": true
   },
   "outputs": [],
   "source": []
  }
 ],
 "metadata": {
  "kernelspec": {
   "display_name": "Python 2",
   "language": "python",
   "name": "python2"
  },
  "language_info": {
   "codemirror_mode": {
    "name": "ipython",
    "version": 2
   },
   "file_extension": ".py",
   "mimetype": "text/x-python",
   "name": "python",
   "nbconvert_exporter": "python",
   "pygments_lexer": "ipython2",
   "version": "2.7.13"
  }
 },
 "nbformat": 4,
 "nbformat_minor": 2
}
