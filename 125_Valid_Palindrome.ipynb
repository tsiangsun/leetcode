{
 "cells": [
  {
   "cell_type": "markdown",
   "metadata": {},
   "source": [
    "Given a string, determine if it is a palindrome (回文), considering only alphanumeric characters and ignoring cases.\n",
    "\n",
    "For example,\n",
    "\n",
    "- \"A man, a plan, a canal: Panama\" is a palindrome.\n",
    "- \"race a car\" is not a palindrome.\n",
    "\n",
    "Note:\n",
    "\n",
    "* Have you consider that the string might be empty? This is a good question to ask during an interview.\n",
    "* For the purpose of this problem, we define empty string as valid palindrome."
   ]
  },
  {
   "cell_type": "code",
   "execution_count": 8,
   "metadata": {},
   "outputs": [
    {
     "name": "stdout",
     "output_type": "stream",
     "text": [
      "True\n"
     ]
    }
   ],
   "source": [
    "s = \"A man, a plan, a canal: Panama\"\n",
    "import re\n",
    "\n",
    "def palindrome(s):\n",
    "    s = s.lower()\n",
    "    s = re.sub(r'[^a-z0-9]*', '', s)\n",
    "    if len(s) == 0:\n",
    "        return True\n",
    "    l = 0\n",
    "    h = len(s)-1\n",
    "    while l < h:\n",
    "        if s[l] != s[h]:\n",
    "            return False\n",
    "        else:\n",
    "            l += 1\n",
    "            h -= 1\n",
    "    return True\n",
    "    \n",
    "    \n",
    "    \n",
    "print palindrome(s)\n"
   ]
  },
  {
   "cell_type": "code",
   "execution_count": 9,
   "metadata": {
    "collapsed": true
   },
   "outputs": [],
   "source": [
    "# my submission\n",
    "# Time Complexity: O (n/2)\n",
    "\n",
    "class Solution(object):\n",
    "    def isPalindrome(self, s):\n",
    "        \"\"\"\n",
    "        :type s: str\n",
    "        :rtype: bool\n",
    "        \"\"\"\n",
    "        import re\n",
    "        s = s.lower()\n",
    "        s = re.sub(r'[^a-z0-9]*', '', s)\n",
    "        if len(s) == 0:\n",
    "            return True\n",
    "        l = 0\n",
    "        h = len(s)-1\n",
    "        while l < h:\n",
    "            if s[l] != s[h]:\n",
    "                return False\n",
    "            else:\n",
    "                l += 1\n",
    "                h -= 1\n",
    "        return True\n",
    "    "
   ]
  },
  {
   "cell_type": "code",
   "execution_count": 12,
   "metadata": {},
   "outputs": [
    {
     "data": {
      "text/plain": [
       "True"
      ]
     },
     "execution_count": 12,
     "metadata": {},
     "output_type": "execute_result"
    }
   ],
   "source": [
    "# other solution\n",
    "def isPalindrome(s):\n",
    "    l, r = 0, len(s)-1\n",
    "    while l < r:\n",
    "        while l < r and not s[l].isalnum():\n",
    "            l += 1\n",
    "        while l < r and not s[r].isalnum():\n",
    "            r -= 1\n",
    "        if s[l].lower() != s[r].lower():\n",
    "            return False\n",
    "        l += 1\n",
    "        r -= 1\n",
    "    return True\n",
    "\n",
    "isPalindrome(s)"
   ]
  },
  {
   "cell_type": "code",
   "execution_count": null,
   "metadata": {
    "collapsed": true
   },
   "outputs": [],
   "source": []
  }
 ],
 "metadata": {
  "kernelspec": {
   "display_name": "Python 2",
   "language": "python",
   "name": "python2"
  },
  "language_info": {
   "codemirror_mode": {
    "name": "ipython",
    "version": 2
   },
   "file_extension": ".py",
   "mimetype": "text/x-python",
   "name": "python",
   "nbconvert_exporter": "python",
   "pygments_lexer": "ipython2",
   "version": "2.7.13"
  }
 },
 "nbformat": 4,
 "nbformat_minor": 2
}
