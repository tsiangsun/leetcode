{
 "cells": [
  {
   "cell_type": "markdown",
   "metadata": {},
   "source": [
    "Given a sorted array of distinct integers, Find the Magic index or Fixed point in the array.\n",
    "\n",
    "**Magic index or a Fixed point** in an array is an index i in the array such that A[i] = i. (**value equal to index**)"
   ]
  },
  {
   "cell_type": "code",
   "execution_count": 8,
   "metadata": {},
   "outputs": [
    {
     "name": "stdout",
     "output_type": "stream",
     "text": [
      "4\n"
     ]
    }
   ],
   "source": [
    "A = [ -1, 0, 1, 2, 4, 10 ]\n",
    "\n",
    "# Binary search\n",
    "# Time complexity: O( log n)\n",
    "\n",
    "def fixed_point(A):\n",
    "    l = 0\n",
    "    h = len(A)-1\n",
    "    while l+1<h:\n",
    "        mid = (l+h)/2\n",
    "        if A[mid] == mid:\n",
    "            return mid\n",
    "        else:\n",
    "            if A[mid] < mid:\n",
    "                l = mid\n",
    "            else:\n",
    "                h = mid\n",
    "    return None\n",
    "\n",
    "print fixed_point(A)\n",
    "            "
   ]
  },
  {
   "cell_type": "code",
   "execution_count": null,
   "metadata": {
    "collapsed": true
   },
   "outputs": [],
   "source": []
  }
 ],
 "metadata": {
  "kernelspec": {
   "display_name": "Python 2",
   "language": "python",
   "name": "python2"
  },
  "language_info": {
   "codemirror_mode": {
    "name": "ipython",
    "version": 2
   },
   "file_extension": ".py",
   "mimetype": "text/x-python",
   "name": "python",
   "nbconvert_exporter": "python",
   "pygments_lexer": "ipython2",
   "version": "2.7.13"
  }
 },
 "nbformat": 4,
 "nbformat_minor": 2
}
