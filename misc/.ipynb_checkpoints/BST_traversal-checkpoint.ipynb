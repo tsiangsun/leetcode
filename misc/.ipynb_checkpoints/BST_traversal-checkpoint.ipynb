{
 "cells": [
  {
   "cell_type": "markdown",
   "metadata": {},
   "source": [
    "## Binary search tree (BST)\n",
    "\n",
    "** A binary tree ** is a tree where each node has at most two children. It is characterized by any of the following properties:\n",
    "\n",
    "- It can be an empty tree, where root = null.\n",
    "- It can contain a root node which contain some value and two subtree, left subtree and right subtree, which are also binary tree.\n",
    "\n",
    "A binary tree is a ** binary search tree (BST)** if all the non-empty nodes follows both two properties:\n",
    "\n",
    "- Each node's left subtree contains only values less than it, and\n",
    "- Each node's right subtree contains only values greater than it.\n",
    "\n",
    "**Preorder traversal** is a tree traversal method where the current node is visited first, then the left subtree and then the right subtree. "
   ]
  },
  {
   "cell_type": "code",
   "execution_count": 4,
   "metadata": {
    "collapsed": true
   },
   "outputs": [],
   "source": [
    "class Node:\n",
    "    def __init__(self,val=None,left=None,right=None):\n",
    "        self.val = val\n",
    "        self.left = left\n",
    "        self.right = right\n",
    "        \n",
    "class BST:\n",
    "    def __init__(self):\n",
    "        self.root = Node()\n",
    "        \n",
    "    def addNode(self, value):\n",
    "        curr = self.root\n",
    "        if curr.val == None:\n",
    "            curr.val = value\n",
    "        else:\n",
    "            while True:\n",
    "                if value < curr.val:\n",
    "                    if curr.left == None:\n",
    "                        curr.left = Node(value)\n",
    "                        break\n",
    "                    else:\n",
    "                        curr = curr.left\n",
    "                else:\n",
    "                    if curr.right == None:\n",
    "                        curr.right = Node(value)\n",
    "                        break\n",
    "                    else:\n",
    "                        curr = curr.right\n",
    "                        \n",
    "    def preorder(self, root):     \n",
    "        pre = []\n",
    "        if root == None:\n",
    "            return pre\n",
    "        else:\n",
    "            l = self.preorder(root.left)\n",
    "            r = self.preorder(root.right)\n",
    "            pre = [ root.val, ] + l + r\n",
    "            return pre\n",
    "                \n",
    "    def inorder(self, root):     \n",
    "        ino = []\n",
    "        if root == None:\n",
    "            return ino\n",
    "        else:\n",
    "            l = self.inorder(root.left)\n",
    "            r = self.inorder(root.right)\n",
    "            ino = l + [ root.val, ] + r\n",
    "            return ino\n",
    "        \n",
    "    def postorder(self, root):     \n",
    "        post = []\n",
    "        if root == None:\n",
    "            return post\n",
    "        else:\n",
    "            l = self.postorder(root.left)\n",
    "            r = self.postorder(root.right)\n",
    "            post = l + r + [ root.val, ] \n",
    "            return post\n",
    "\n",
    "    def preorderIterative(self, root):\n",
    "        result = []\n",
    "        stack = []\n",
    "        node = root\n",
    "        while node != None or len(stack)>0:\n",
    "            if node != None:\n",
    "                result.append(node.val)\n",
    "                stack.append(node)\n",
    "                node = node.left\n",
    "            else:\n",
    "                node = stack.pop().right\n",
    "        return result\n",
    "    \n",
    "    def inorderIterative(self, root):\n",
    "        result = []\n",
    "        stack = []\n",
    "        node = root\n",
    "        while True :\n",
    "            if node != None:\n",
    "                stack.append(node)\n",
    "                node = node.left\n",
    "            else:\n",
    "                if len(stack) > 0:\n",
    "                    node = stack.pop()\n",
    "                    result.append(node.val)\n",
    "                    node = node.right\n",
    "                else:\n",
    "                    return result\n",
    "\n",
    "    def postorderIterative(self, root): # using two stacks \n",
    "        result = []\n",
    "        if root is None:\n",
    "            return result       \n",
    "        s1 = []\n",
    "        s2 = []\n",
    "        s1.append(root)\n",
    "        # Run while first stack is not empty\n",
    "        while (len(s1) > 0):\n",
    "            node = s1.pop()\n",
    "            s2.append(node)\n",
    "            # Push left and right children of removed item to s1\n",
    "            if node.left is not None:\n",
    "                s1.append(node.left)\n",
    "            if node.right is not None :\n",
    "                s1.append(node.right)\n",
    "\n",
    "        # Print all eleements of second stack\n",
    "        while(len(s2) > 0):\n",
    "            node = s2.pop()\n",
    "            result.append(node.val)\n",
    "        return result\n",
    "    \n",
    "        \n",
    "    def peek(self, stack):\n",
    "        if len(stack) > 0:\n",
    "            return stack[-1]\n",
    "        return None\n",
    "\n",
    "    def postorderIterative1s(self, root): # using only one stack\n",
    "        result = []\n",
    "        if root is None:\n",
    "            return result\n",
    "        stack = []\n",
    "        while (True):\n",
    "            while (root):\n",
    "                if root.right is not None:\n",
    "                    stack.append(root.right)\n",
    "                stack.append(root)         \n",
    "                root = root.left\n",
    "\n",
    "            root = stack.pop()\n",
    "\n",
    "            # If the popped item has a right child and the\n",
    "            # right child is not processed yet, then make sure\n",
    "            # right child is processed before root\n",
    "            \n",
    "            if (root.right is not None and\n",
    "                self.peek(stack) == root.right):\n",
    "                stack.pop()                  # Remove right child from stack \n",
    "                stack.append(root)           # Push root back to stack\n",
    "                root = root.right            # change root so that the \n",
    "                                             # right child is processed next\n",
    "\n",
    "            # Else print root's data and set root as None\n",
    "            else:\n",
    "                result.append(root.val) \n",
    "                root = None\n",
    "\n",
    "            if (len(stack) <= 0):\n",
    "                    break\n",
    "        return result\n",
    "            \n",
    "        \n",
    "    def inorderMorris(self, root):\n",
    "        # no recursion, no stack\n",
    "        result = []\n",
    "        current = root \n",
    "        while(current is not None):\n",
    "            if current.left is None:\n",
    "                result.append(current.val)\n",
    "                current = current.right\n",
    "            else:\n",
    "                #Find the inorder predecessor of current\n",
    "                pre = current.left\n",
    "                while(pre.right is not None and pre.right != current):\n",
    "                    pre = pre.right\n",
    "\n",
    "                # Make current as right child of its inorder predecessor\n",
    "                if(pre.right is None):\n",
    "                    pre.right = current\n",
    "                    current = current.left\n",
    "\n",
    "                # Revert the changes made in if part to restore the \n",
    "                # original tree i.e., fix the right child of predecssor\n",
    "                else:\n",
    "                    pre.right = None\n",
    "                    result.append(current.val)\n",
    "                    current = current.right\n",
    "        return result\n",
    "    \n",
    "    \n",
    "    def preorderMorris(self, root):\n",
    "        # no recursion, no stack\n",
    "        result = []\n",
    "        current = root \n",
    "        while (current is not None):\n",
    "            if current.left is None:\n",
    "                result.append(current.val)\n",
    "                current = current.right\n",
    "            else:\n",
    "                pre = current.left\n",
    "                while (pre.right is not None and pre.right != current):\n",
    "                    pre = pre.right\n",
    "                if (pre.right is None):\n",
    "                    result.append(current.val) # only diff from inorderMorris\n",
    "                    pre.right = current\n",
    "                    current = current.left\n",
    "                else:\n",
    "                    pre.right = None\n",
    "                    current = current.right\n",
    "        return result\n",
    "    \n",
    "    \n",
    "    \n",
    "    def postorderMorris(self, root):\n",
    "        dummy = Node(0)\n",
    "        dummy.left = root\n",
    "        result, cur = [], dummy\n",
    "        while cur:\n",
    "            if cur.left is None:\n",
    "                cur = cur.right\n",
    "            else:\n",
    "                node = cur.left\n",
    "                while node.right and node.right != cur:\n",
    "                    node = node.right\n",
    "            \n",
    "                if node.right is None:\n",
    "                    node.right = cur\n",
    "                    cur = cur.left\n",
    "                else:\n",
    "                    result += self.traceBack(cur.left, node)\n",
    "                    node.right = None\n",
    "                    cur = cur.right\n",
    "        \n",
    "        return result\n",
    "    \n",
    "    def traceBack(self, frm, to):\n",
    "        result, cur = [], frm\n",
    "        while cur is not to:\n",
    "            result.append(cur.val)\n",
    "            cur = cur.right\n",
    "        result.append(to.val)\n",
    "        result.reverse()\n",
    "        return result\n"
   ]
  },
  {
   "cell_type": "code",
   "execution_count": 5,
   "metadata": {},
   "outputs": [
    {
     "name": "stdout",
     "output_type": "stream",
     "text": [
      "3\n",
      "2\n",
      "5\n",
      "<__main__.Node instance at 0x109dcbbd8>\n"
     ]
    }
   ],
   "source": [
    "tree = BST()\n",
    "tree.root\n",
    "\n",
    "li = [3, 2, 1, 5, 4, 6]\n",
    "for l in li:\n",
    "    tree.addNode(l)\n",
    "\n",
    "a = tree.root\n",
    "print a.val\n",
    "print a.left.val\n",
    "print a.right.val\n",
    "print a.left.left"
   ]
  },
  {
   "cell_type": "code",
   "execution_count": 6,
   "metadata": {},
   "outputs": [
    {
     "data": {
      "text/plain": [
       "[3, 2, 1, 5, 4, 6]"
      ]
     },
     "execution_count": 6,
     "metadata": {},
     "output_type": "execute_result"
    }
   ],
   "source": [
    "tree.preorder(tree.root) #O(n) both in time and space"
   ]
  },
  {
   "cell_type": "code",
   "execution_count": 7,
   "metadata": {},
   "outputs": [
    {
     "data": {
      "text/plain": [
       "[3, 2, 1, 5, 4, 6]"
      ]
     },
     "execution_count": 7,
     "metadata": {},
     "output_type": "execute_result"
    }
   ],
   "source": [
    "tree.preorderIterative(tree.root) #O(n) both in time and space"
   ]
  },
  {
   "cell_type": "code",
   "execution_count": 8,
   "metadata": {},
   "outputs": [
    {
     "data": {
      "text/plain": [
       "[3, 2, 1, 5, 4, 6]"
      ]
     },
     "execution_count": 8,
     "metadata": {},
     "output_type": "execute_result"
    }
   ],
   "source": [
    "tree.preorderMorris(tree.root) #O(n) in time and O(1) in space"
   ]
  },
  {
   "cell_type": "code",
   "execution_count": null,
   "metadata": {
    "collapsed": true
   },
   "outputs": [],
   "source": []
  },
  {
   "cell_type": "code",
   "execution_count": 9,
   "metadata": {},
   "outputs": [
    {
     "data": {
      "text/plain": [
       "[1, 2, 3, 4, 5, 6]"
      ]
     },
     "execution_count": 9,
     "metadata": {},
     "output_type": "execute_result"
    }
   ],
   "source": [
    "tree.inorder(tree.root)"
   ]
  },
  {
   "cell_type": "code",
   "execution_count": 10,
   "metadata": {},
   "outputs": [
    {
     "data": {
      "text/plain": [
       "[1, 2, 3, 4, 5, 6]"
      ]
     },
     "execution_count": 10,
     "metadata": {},
     "output_type": "execute_result"
    }
   ],
   "source": [
    "tree.inorderIterative(tree.root)"
   ]
  },
  {
   "cell_type": "code",
   "execution_count": 11,
   "metadata": {},
   "outputs": [
    {
     "data": {
      "text/plain": [
       "[1, 2, 3, 4, 5, 6]"
      ]
     },
     "execution_count": 11,
     "metadata": {},
     "output_type": "execute_result"
    }
   ],
   "source": [
    "tree.inorderMorris(tree.root)"
   ]
  },
  {
   "cell_type": "code",
   "execution_count": null,
   "metadata": {
    "collapsed": true
   },
   "outputs": [],
   "source": []
  },
  {
   "cell_type": "code",
   "execution_count": 12,
   "metadata": {},
   "outputs": [
    {
     "data": {
      "text/plain": [
       "[1, 2, 4, 6, 5, 3]"
      ]
     },
     "execution_count": 12,
     "metadata": {},
     "output_type": "execute_result"
    }
   ],
   "source": [
    "tree.postorder(tree.root)"
   ]
  },
  {
   "cell_type": "code",
   "execution_count": 13,
   "metadata": {},
   "outputs": [
    {
     "data": {
      "text/plain": [
       "[1, 2, 4, 6, 5, 3]"
      ]
     },
     "execution_count": 13,
     "metadata": {},
     "output_type": "execute_result"
    }
   ],
   "source": [
    "tree.postorderIterative(tree.root)"
   ]
  },
  {
   "cell_type": "code",
   "execution_count": 14,
   "metadata": {},
   "outputs": [
    {
     "data": {
      "text/plain": [
       "[1, 2, 4, 6, 5, 3]"
      ]
     },
     "execution_count": 14,
     "metadata": {},
     "output_type": "execute_result"
    }
   ],
   "source": [
    "tree.postorderIterative1s(tree.root)"
   ]
  },
  {
   "cell_type": "code",
   "execution_count": 15,
   "metadata": {},
   "outputs": [
    {
     "data": {
      "text/plain": [
       "[1, 2, 4, 6, 5, 3]"
      ]
     },
     "execution_count": 15,
     "metadata": {},
     "output_type": "execute_result"
    }
   ],
   "source": [
    "tree.postorderMorris(tree.root) "
   ]
  },
  {
   "cell_type": "code",
   "execution_count": null,
   "metadata": {
    "collapsed": true
   },
   "outputs": [],
   "source": []
  }
 ],
 "metadata": {
  "kernelspec": {
   "display_name": "Python 2",
   "language": "python",
   "name": "python2"
  },
  "language_info": {
   "codemirror_mode": {
    "name": "ipython",
    "version": 2
   },
   "file_extension": ".py",
   "mimetype": "text/x-python",
   "name": "python",
   "nbconvert_exporter": "python",
   "pygments_lexer": "ipython2",
   "version": "2.7.13"
  }
 },
 "nbformat": 4,
 "nbformat_minor": 2
}
