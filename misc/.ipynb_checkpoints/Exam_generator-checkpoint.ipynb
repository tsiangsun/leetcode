{
 "cells": [
  {
   "cell_type": "code",
   "execution_count": 3,
   "metadata": {
    "collapsed": true
   },
   "outputs": [],
   "source": [
    "import random\n",
    " \n",
    "capitals = {'Alabama':'Montgomery','Alaska':'Juneau','Arizona':'Phoenix',\n",
    "            'Arkansas':'Little  Rock','California':'Sacramento','Colorado':'Denver',\n",
    "            'Connecticut':'Hartford','Deaware':'Dover','Florida':'Tallahassee',\n",
    "            'Georgia':'Atlanta','Hawaii':'Honolulu','Idaho':'Boise','Illinois':\n",
    "            'Springfield','Indiana':'Indianapolis','Iowa':'Des Moines','Kansas':\n",
    "            'Topeka','kentucky':'Frankfort','Louisana':'Baton Rouge','Maine':\n",
    "            'Augusta','Maryland':'Annapolis','Massachusetts':'Boston','Michigan':\n",
    "            'Lansing','Minnesota':'Saint Paul','Mississippi':'Jackson','Missouri':\n",
    "            'Jefferson City','Montana':'Helena','Nebraska':'Lincoln','Nevada':\n",
    "            'Carson Coty','New Hampshire':'Concord','New Jersey':'Trenton','New Mexico':\n",
    "            'Santa Fe','New york':'Albany','North Carolina':'Raleigh',\n",
    "            'North Dakota':'Bismarck','Ohio':'Coiumbus','Oklahoma':'Oklahoma City',\n",
    "            'Oregon':'Salem','Pennsylvania':'Harrisburg','Rhode Island':'Providence',\n",
    "            'South Carolina':'Columbia','South Dakota':'Pierre','Tennessee':\n",
    "            'Nashville','Texas':'Austin','Utah':'Salt Lake City','Vermont':\n",
    "            'Montpelier','virginia':'Richmond','Washington':'O;ympia','West Virginia':\n",
    "            'Charleston','Wisconsin':'Madison','Wyoming':'Cheyenne'}\n",
    "\n",
    "for quizNum in range(5):\n",
    "    \n",
    "    quizFile = open('capitalsquiz%s.txt'% (quizNum + 1),'w')\n",
    "    answerKeyFile = open('capitalsquiz_answers%s.txt' % (quizNum + 1),'w')\n",
    "    \n",
    "    quizFile.write('Name:\\n\\nDate:\\n\\nPeriod:\\n\\n')\n",
    "    quizFile.write((' ' * 20) + 'State Capitals Quiz (Form %s)' % (quizNum + 1))\n",
    "    quizFile.write('\\n\\n')\n",
    "    \n",
    "    states = list(capitals.keys())\n",
    "    random.shuffle(states)\n",
    "    \n",
    "    for questionNum in range(50):\n",
    "\n",
    "        correctAnswer = capitals[states[questionNum]]\n",
    "        wrongAnswers = list(capitals.values())\n",
    "        del wrongAnswers[wrongAnswers.index(correctAnswer)]\n",
    "        wrongAnswers = random.sample(wrongAnswers,3)\n",
    "        answerOptions = wrongAnswers + [correctAnswer]\n",
    "        random.shuffle(answerOptions)\n",
    "\n",
    "        quizFile.write('%s.What is the capital of %s?\\n' %(questionNum + 1,states[questionNum]))\n",
    "        for i in range(4):\n",
    "            quizFile.write(' %s.%s\\n' % ('ABCD'[i],answerOptions[i]))\n",
    "        quizFile.write('\\n')\n",
    "\n",
    "        answerKeyFile.write( '%s.%s\\n' % (questionNum + 1,'ABCD'[answerOptions.index(correctAnswer)]))\n",
    "\n",
    "\n",
    "    quizFile.close()\n",
    "    answerKeyFile.close()"
   ]
  },
  {
   "cell_type": "code",
   "execution_count": null,
   "metadata": {
    "collapsed": true
   },
   "outputs": [],
   "source": []
  }
 ],
 "metadata": {
  "kernelspec": {
   "display_name": "Python 2",
   "language": "python",
   "name": "python2"
  },
  "language_info": {
   "codemirror_mode": {
    "name": "ipython",
    "version": 2
   },
   "file_extension": ".py",
   "mimetype": "text/x-python",
   "name": "python",
   "nbconvert_exporter": "python",
   "pygments_lexer": "ipython2",
   "version": "2.7.13"
  }
 },
 "nbformat": 4,
 "nbformat_minor": 2
}
