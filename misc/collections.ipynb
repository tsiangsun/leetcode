{
 "cells": [
  {
   "cell_type": "markdown",
   "metadata": {},
   "source": [
    "## collections — Python High Performance container datatypes\n",
    "https://docs.python.org/2/library/collections.html\n",
    "\n",
    "- namedtuple()\t \n",
    "\n",
    "- deque\t \n",
    "\n",
    "- Counter\t \n",
    "\n",
    "- OrderedDict\t \n",
    "\n",
    "- defaultdict"
   ]
  },
  {
   "cell_type": "code",
   "execution_count": 1,
   "metadata": {
    "collapsed": true
   },
   "outputs": [],
   "source": [
    "from collections import Counter\n",
    "from collections import defaultdict\n",
    "from collections import OrderedDict\n",
    "from collections import deque\n",
    "from collections import namedtuple"
   ]
  },
  {
   "cell_type": "markdown",
   "metadata": {},
   "source": [
    "### Counter vs. defaultdict(int) \n",
    "\n",
    "- Counter supports most of the operations you can do on a **multiset**. So, if you want to use those operation then go for Counter.\n",
    "- Counter won't add new keys to the dict when you query for missing keys. So, if your queries include keys that may not be present in the dict then better use Counter.\n",
    "- Counter also has method **most_common** that allows you to sort items by their count. To get the same thing in defaultdict you'll have to use sorted.\n",
    "- Counter also allows you to create a list of **elements** from the Counter object.\n"
   ]
  },
  {
   "cell_type": "code",
   "execution_count": 16,
   "metadata": {},
   "outputs": [
    {
     "name": "stdout",
     "output_type": "stream",
     "text": [
      "Counter({'blue': 3, 'red': 2, 'green': 1})\n"
     ]
    }
   ],
   "source": [
    "cnt = Counter()\n",
    "for word in ['red', 'blue', 'red', 'green', 'blue', 'blue']:\n",
    "    cnt[word] += 1\n",
    "print cnt"
   ]
  },
  {
   "cell_type": "code",
   "execution_count": 33,
   "metadata": {},
   "outputs": [
    {
     "name": "stdout",
     "output_type": "stream",
     "text": [
      "defaultdict(<type 'int'>, {'blue': 3, 'green': 1, 'red': 2})\n"
     ]
    }
   ],
   "source": [
    "d = defaultdict(int)\n",
    "for word in ['red', 'blue', 'red', 'green', 'blue', 'blue']:\n",
    "    d[word] += 1\n",
    "print d"
   ]
  },
  {
   "cell_type": "code",
   "execution_count": 32,
   "metadata": {},
   "outputs": [
    {
     "name": "stdout",
     "output_type": "stream",
     "text": [
      "[('a', 9), ('b', 7), ('c', 2), ('e', 1), ('d', 1)]\n",
      "[('a', 9), ('b', 7)]\n",
      "['a', 'a', 'a', 'a', 'a', 'a', 'a', 'a', 'a', 'c', 'c', 'b', 'b', 'b', 'b', 'b', 'b', 'b', 'e', 'd']\n"
     ]
    }
   ],
   "source": [
    "c = Counter('aaaaaaaaabbbbbbbccde')\n",
    "print c.most_common()\n",
    "print c.most_common(2)   #return 2 most common items and their counts\n",
    "\n",
    "print list(c.elements())  # list all elements with counted duplicates"
   ]
  },
  {
   "cell_type": "code",
   "execution_count": 31,
   "metadata": {},
   "outputs": [
    {
     "name": "stdout",
     "output_type": "stream",
     "text": [
      "8\n",
      "Counter({'c': 5, 'b': 2, 'a': 1})\n",
      "['a', 'c', 'b']\n",
      "set(['a', 'c', 'b'])\n",
      "{'a': 1, 'c': 5, 'b': 2}\n",
      "[('a', 1), ('c', 5), ('b', 2)]\n",
      "[('a', 1), ('b', 2)]\n",
      "Counter({'c': 5, 'b': 2, 'a': 1})\n"
     ]
    }
   ],
   "source": [
    "print sum(c.values())                 # total of all counts\n",
    "# c.clear()                           # reset all counts\n",
    "c = Counter(dict([('a',1), ('b',2), ('c',5)])) \n",
    "print c                               # convert from a list of (elem, cnt) pairs\n",
    "print list(c)                         # list unique elements\n",
    "print set(c)                          # convert to a set\n",
    "print dict(c)                         # convert to a regular dictionary\n",
    "print c.items()                       # convert to a list of (elem, cnt) pairs\n",
    "\n",
    "n=2\n",
    "print c.most_common()[:-n-1:-1]       # n least common elements\n",
    "c += Counter()                        # remove zero and negative counts\n",
    "print c"
   ]
  },
  {
   "cell_type": "code",
   "execution_count": 35,
   "metadata": {},
   "outputs": [
    {
     "name": "stdout",
     "output_type": "stream",
     "text": [
      "Counter({'a': 3, 'd': 3, 's': 3, 'e': 2, 'q': 2, 'w': 2, ' ': 1})\n"
     ]
    },
    {
     "data": {
      "text/plain": [
       "True"
      ]
     },
     "execution_count": 35,
     "metadata": {},
     "output_type": "execute_result"
    }
   ],
   "source": [
    "s='qweqwe asdasdasd'\n",
    "c= Counter(s)\n",
    "c1 =Counter('qweqwe asdasdasd')\n",
    "print c\n",
    "c == c1"
   ]
  },
  {
   "cell_type": "code",
   "execution_count": null,
   "metadata": {
    "collapsed": true
   },
   "outputs": [],
   "source": []
  }
 ],
 "metadata": {
  "kernelspec": {
   "display_name": "Python 2",
   "language": "python",
   "name": "python2"
  },
  "language_info": {
   "codemirror_mode": {
    "name": "ipython",
    "version": 2
   },
   "file_extension": ".py",
   "mimetype": "text/x-python",
   "name": "python",
   "nbconvert_exporter": "python",
   "pygments_lexer": "ipython2",
   "version": "2.7.13"
  }
 },
 "nbformat": 4,
 "nbformat_minor": 2
}
