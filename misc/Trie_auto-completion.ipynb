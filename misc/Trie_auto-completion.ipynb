{
 "cells": [
  {
   "cell_type": "code",
   "execution_count": 20,
   "metadata": {
    "collapsed": false
   },
   "outputs": [
    {
     "name": "stdout",
     "output_type": "stream",
     "text": [
      "['reservations', 'restaurants']\n",
      "['reservations', 'restaurants']\n",
      "['restaurants']\n",
      "[]\n",
      "['bars']\n"
     ]
    }
   ],
   "source": [
    "class TrieNode:\n",
    "    def __init__(self):\n",
    "        # ex: self.children['a'] -> another TrieNode or None\n",
    "        # ex: self.children['r'] -> TrieNode 'r'\n",
    "        # ex: self.children['r'].children['e']-> TrieNode 're' or None\n",
    "        self.children = {}\n",
    "        self.isEnd = False\n",
    "\n",
    "class Trie:\n",
    "    def __init__(self):\n",
    "        self.root = TrieNode()\n",
    "\n",
    "    def insert(self, string):\n",
    "        p = self.root\n",
    "        for c in string:\n",
    "            if c not in p.children:\n",
    "                p.children[c] = TrieNode()\n",
    "                p.isEnd = False\n",
    "            p = p.children[c]\n",
    "        p.isEnd = True\n",
    "\n",
    "    # Implement this method\n",
    "    # ex: re -> [restaurants, reservation]\n",
    "    # rest -> [restaurants]\n",
    "    # b -> []\n",
    "    def getAllSuggestions(self, prefix):\n",
    "        prefix = prefix.lower()\n",
    "        mynode = self.root\n",
    "        for s in prefix:\n",
    "            if s in mynode.children:\n",
    "                mynode = mynode.children[s]\n",
    "            else:\n",
    "                return []\n",
    "        res = []\n",
    "        postli = []\n",
    "        wordli = []\n",
    "        self.searchLeft(mynode, wordli, postli) #recursive dfs \n",
    "        if postli:\n",
    "            for a in postli:\n",
    "                res.append(prefix + ''.join(a) )\n",
    "        else: \n",
    "            res.append(prefix)\n",
    "        return res\n",
    "    \n",
    "    def searchLeft(self, mynode, wordli, postli):\n",
    "        if mynode.isEnd:\n",
    "            postli.append(wordli[:])\n",
    "        for c, node in mynode.children.items():\n",
    "            wordli.append(c)\n",
    "            self.searchLeft(node, wordli, postli)\n",
    "            wordli.pop()\n",
    "        \n",
    "        \n",
    "words = ['restaurants', 'reservations', 'bars', 'breakfast']\n",
    "\n",
    "trie = Trie()\n",
    "for word in words:\n",
    "    trie.insert(word)\n",
    "\n",
    "print(trie.getAllSuggestions('r'))\n",
    "print(trie.getAllSuggestions('res'))\n",
    "print(trie.getAllSuggestions('rest'))\n",
    "print(trie.getAllSuggestions('be'))\n",
    "print(trie.getAllSuggestions('ba'))"
   ]
  },
  {
   "cell_type": "code",
   "execution_count": 9,
   "metadata": {
    "collapsed": false
   },
   "outputs": [
    {
     "data": {
      "text/plain": [
       "[('r', <__main__.TrieNode instance at 0x7f2b2a6559e0>),\n",
       " ('b', <__main__.TrieNode instance at 0x7f2b2a66f6c8>)]"
      ]
     },
     "execution_count": 9,
     "metadata": {},
     "output_type": "execute_result"
    }
   ],
   "source": [
    "trie.root.children.items()"
   ]
  },
  {
   "cell_type": "code",
   "execution_count": null,
   "metadata": {
    "collapsed": true
   },
   "outputs": [],
   "source": [
    "def searchLeft(trie, mynode):\n",
    "    queue = []\n",
    "    li = []\n",
    "    queue.append(mynode.children.items())\n",
    "    while queue:\n",
    "        n = queue.pop(0)\n",
    "        #visited n\n",
    "        #queue.append(n.children.items())\n",
    "        #li.append(key->char)\n",
    "        #if n.isEnd:\n",
    "        #    return li\n",
    "    return []"
   ]
  },
  {
   "cell_type": "code",
   "execution_count": 16,
   "metadata": {
    "collapsed": false
   },
   "outputs": [
    {
     "data": {
      "text/plain": [
       "['ba']"
      ]
     },
     "execution_count": 16,
     "metadata": {},
     "output_type": "execute_result"
    }
   ],
   "source": [
    "prefix = 'ba'\n",
    "li = []#['vs','bs']\n",
    "res = []\n",
    "if li:\n",
    "    for a in li:\n",
    "        res.append(prefix+a)\n",
    "else: \n",
    "    res.append(prefix)\n",
    "#[ prefix + l for l in li ]\n",
    "res"
   ]
  },
  {
   "cell_type": "code",
   "execution_count": 20,
   "metadata": {
    "collapsed": false
   },
   "outputs": [
    {
     "name": "stdout",
     "output_type": "stream",
     "text": [
      "'goodbye' in trie:  True\n",
      "['gold', 'gerald', 'goodbye']\n",
      "['to', 'too', 'tom']\n",
      "[]\n",
      "['to', 'too', 'tom', 'ted', 'tea', 'gold', 'team', 'stan', 'help', 'money', 'hello', 'gerald', 'goodbye', 'standard']\n"
     ]
    }
   ],
   "source": [
    "#online example of Trie data structure\n",
    "\n",
    "class Node:\n",
    "    def __init__(self, label=None, data=None):\n",
    "        self.label = label\n",
    "        self.data = data\n",
    "        self.children = dict()\n",
    "    \n",
    "    def addChild(self, key, data=None):\n",
    "        if not isinstance(key, Node):\n",
    "            self.children[key] = Node(key, data)\n",
    "        else:\n",
    "            self.children[key.label] = key\n",
    "    \n",
    "    def __getitem__(self, key):\n",
    "        return self.children[key]\n",
    "\n",
    "class Trie:\n",
    "    def __init__(self):\n",
    "        self.head = Node()\n",
    "    \n",
    "    def __getitem__(self, key):\n",
    "        return self.head.children[key]\n",
    "    \n",
    "    def add(self, word):\n",
    "        current_node = self.head\n",
    "        word_finished = True\n",
    "        \n",
    "        for i in range(len(word)):\n",
    "            if word[i] in current_node.children:\n",
    "                current_node = current_node.children[word[i]]\n",
    "            else:\n",
    "                word_finished = False\n",
    "                break\n",
    "        \n",
    "        # For ever new letter, create a new child node\n",
    "        if not word_finished:\n",
    "            while i < len(word):\n",
    "                current_node.addChild(word[i])\n",
    "                current_node = current_node.children[word[i]]\n",
    "                i += 1\n",
    "        \n",
    "        # Let's store the full word at the end node so we don't need to\n",
    "        # travel back up the tree to reconstruct the word\n",
    "        current_node.data = word\n",
    "    \n",
    "    def has_word(self, word):\n",
    "        if word == '':\n",
    "            return False\n",
    "        if word == None:\n",
    "            raise ValueError('Trie.has_word requires a not-Null string')\n",
    "        \n",
    "        # Start at the top\n",
    "        current_node = self.head\n",
    "        exists = True\n",
    "        for letter in word:\n",
    "            if letter in current_node.children:\n",
    "                current_node = current_node.children[letter]\n",
    "            else:\n",
    "                exists = False\n",
    "                break\n",
    "        \n",
    "        # Still need to check if we just reached a word like 't'\n",
    "        # that isn't actually a full word in our dictionary\n",
    "        if exists:\n",
    "            if current_node.data == None:\n",
    "                exists = False\n",
    "        \n",
    "        return exists\n",
    "    \n",
    "    def start_with_prefix(self, prefix):\n",
    "        \"\"\" Returns a list of all words in tree that start with prefix \"\"\"\n",
    "        words = list()\n",
    "        if prefix == None:\n",
    "            raise ValueError('Requires not-Null prefix')\n",
    "        \n",
    "        # Determine end-of-prefix node\n",
    "        top_node = self.head\n",
    "        for letter in prefix:\n",
    "            if letter in top_node.children:\n",
    "                top_node = top_node.children[letter]\n",
    "            else:\n",
    "                # Prefix not in tree, go no further\n",
    "                return words\n",
    "        \n",
    "        # Get words under prefix\n",
    "        if top_node == self.head:\n",
    "            queue = [node for key, node in top_node.children.iteritems()]\n",
    "        else:\n",
    "            queue = [top_node]\n",
    "        \n",
    "        # Perform a breadth first search under the prefix\n",
    "        # A cool effect of using BFS as opposed to DFS is that BFS will return\n",
    "        # a list of words ordered by increasing length\n",
    "        while queue:\n",
    "            current_node = queue.pop()\n",
    "            if current_node.data != None:\n",
    "                # Isn't it nice to not have to go back up the tree?\n",
    "                words.append(current_node.data)\n",
    "            \n",
    "            queue = [node for key,node in current_node.children.iteritems()] + queue\n",
    "        \n",
    "        return words\n",
    "    \n",
    "    def getData(self, word):\n",
    "        \"\"\" This returns the 'data' of the node identified by the given word \"\"\"\n",
    "        if not self.has_word(word):\n",
    "            raise ValueError('{} not found in trie'.format(word))\n",
    "        \n",
    "        # Race to the bottom, get data\n",
    "        current_node = self.head\n",
    "        for letter in word:\n",
    "            current_node = current_node[letter]\n",
    "        \n",
    "        return current_node.data\n",
    "\n",
    "if __name__ == '__main__':\n",
    "    \"\"\" Example use \"\"\"\n",
    "    trie = Trie()\n",
    "    words = 'hello goodbye help gerald gold tea ted team to too tom stan standard money'\n",
    "    for word in words.split():\n",
    "        trie.add(word)\n",
    "    print \"'goodbye' in trie: \", trie.has_word('goodbye')\n",
    "    print trie.start_with_prefix('g')\n",
    "    print trie.start_with_prefix('to')\n",
    "    print trie.start_with_prefix('duciyige')\n",
    "    print trie.start_with_prefix('')"
   ]
  },
  {
   "cell_type": "code",
   "execution_count": 6,
   "metadata": {
    "collapsed": true
   },
   "outputs": [],
   "source": [
    "\"\"\"\n",
    "A fast data structure for searching strings with autocomplete support.\n",
    "\"\"\"\n",
    "\n",
    "class Trie(object):\n",
    "    def __init__(self):\n",
    "        self.children = {}\n",
    "        self.flag = False # Flag to represent that a word ends at this node\n",
    "\n",
    "    def add(self, char):\n",
    "        self.children[char] = Trie()\n",
    "\n",
    "    def insert(self, word):\n",
    "        node = self\n",
    "        for char in word:\n",
    "            if char not in node.children:\n",
    "                node.add(char)\n",
    "            node = node.children[char]\n",
    "        node.flag = True\n",
    "\n",
    "    def contains(self, word):\n",
    "        node = self\n",
    "        for char in word:\n",
    "            if char not in node.children:\n",
    "                return False\n",
    "            node = node.children[char]\n",
    "        return node.flag\n",
    "\n",
    "    def all_suffixes(self, prefix):\n",
    "        results = set()\n",
    "        if self.flag:\n",
    "            results.add(prefix)\n",
    "        if not self.children: return results\n",
    "        return reduce(lambda a, b: a | b, \n",
    "            [node.all_suffixes(prefix + char) for (char, node) in self.children.items()]\n",
    "                     ) | results\n",
    "\n",
    "    def autocomplete(self, prefix):\n",
    "        node = self\n",
    "        for char in prefix:\n",
    "            if char not in node.children:\n",
    "                return set()\n",
    "            node = node.children[char]\n",
    "        return list(node.all_suffixes(prefix))\n"
   ]
  },
  {
   "cell_type": "code",
   "execution_count": 7,
   "metadata": {
    "collapsed": false
   },
   "outputs": [
    {
     "name": "stdout",
     "output_type": "stream",
     "text": [
      "['a', 'apple', 'angel', 'angle']\n",
      "['angel', 'angle']\n",
      "['angle']\n",
      "[]\n"
     ]
    }
   ],
   "source": [
    "from collections import defaultdict\n",
    "\n",
    "class TrieNode:\n",
    "    \n",
    "    def __init__(self):\n",
    "        self.children = defaultdict(TrieNode)\n",
    "        self.isEnd = False\n",
    "        \n",
    "    def insert(self, word):\n",
    "        node = self\n",
    "        for w in word:\n",
    "            node = node.children[w]\n",
    "        node.isEnd = True\n",
    "        \n",
    "    def search(self, word):\n",
    "        node = self\n",
    "        for w in word:\n",
    "            if w in node.children:\n",
    "                node = node.children[w]\n",
    "            else:\n",
    "                return []\n",
    "        # prefix match\n",
    "        # traverse currnt node to all leaf nodes\n",
    "        result = []\n",
    "        self.traverse(node, list(word), result)\n",
    "        return [''.join(r) for r in result]\n",
    "\n",
    "    def traverse(self, root, prefix, result):\n",
    "        if root.isEnd:\n",
    "            result.append(prefix[:])\n",
    "        for c,n in root.children.items():\n",
    "            prefix.append(c)\n",
    "            self.traverse(n, prefix, result)\n",
    "            prefix.pop(-1)\n",
    "            \n",
    "            \n",
    "if __name__ == \"__main__\":\n",
    "    words = ['a', 'apple', 'angle', 'angel', 'bat', 'bats']\n",
    "    root = TrieNode()\n",
    "    for w in words:\n",
    "        root.insert(w)\n",
    "    print root.search('a') # 'a', 'apple', 'angle', 'angel'\n",
    "    print root.search('ang') # 'angle', 'angel'\n",
    "    print root.search('angl') # 'angle'\n",
    "    print root.search('z') # []"
   ]
  },
  {
   "cell_type": "code",
   "execution_count": 10,
   "metadata": {
    "collapsed": false
   },
   "outputs": [
    {
     "name": "stdout",
     "output_type": "stream",
     "text": [
      "3\n"
     ]
    }
   ],
   "source": [
    "li = [1,2,3]\n",
    "print li.pop()"
   ]
  },
  {
   "cell_type": "code",
   "execution_count": 21,
   "metadata": {
    "collapsed": false
   },
   "outputs": [],
   "source": [
    "res = [];   postli = []"
   ]
  },
  {
   "cell_type": "code",
   "execution_count": 22,
   "metadata": {
    "collapsed": false
   },
   "outputs": [
    {
     "data": {
      "text/plain": [
       "[]"
      ]
     },
     "execution_count": 22,
     "metadata": {},
     "output_type": "execute_result"
    }
   ],
   "source": [
    "postli"
   ]
  },
  {
   "cell_type": "code",
   "execution_count": null,
   "metadata": {
    "collapsed": true
   },
   "outputs": [],
   "source": []
  }
 ],
 "metadata": {
  "kernelspec": {
   "display_name": "Python 2",
   "language": "python",
   "name": "python2"
  },
  "language_info": {
   "codemirror_mode": {
    "name": "ipython",
    "version": 2
   },
   "file_extension": ".py",
   "mimetype": "text/x-python",
   "name": "python",
   "nbconvert_exporter": "python",
   "pygments_lexer": "ipython2",
   "version": "2.7.13"
  }
 },
 "nbformat": 4,
 "nbformat_minor": 2
}
