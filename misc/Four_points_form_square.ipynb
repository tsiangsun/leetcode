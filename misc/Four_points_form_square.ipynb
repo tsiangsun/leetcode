{
 "cells": [
  {
   "cell_type": "markdown",
   "metadata": {},
   "source": [
    "### Given locaitons of 4 points, determine if they can make a square."
   ]
  },
  {
   "cell_type": "code",
   "execution_count": 9,
   "metadata": {},
   "outputs": [],
   "source": [
    "# test if any combinations of vertices give 4 identical sides' length AND 2 identical diagonals\n",
    "def formSquare(points):\n",
    "    if len(points) != 4:\n",
    "        return False\n",
    "    if testSquare(points[0], points[1], points[2], points[3]):\n",
    "        return True\n",
    "    if testSquare(points[0], points[2], points[1], points[3]):\n",
    "        return True\n",
    "    if testSquare(points[0], points[3], points[1], points[2]):\n",
    "        return True\n",
    "    return False\n",
    "\n",
    "def testSquare(a,b,c,d):\n",
    "    dis1 = (a[0]-c[0])**2  + (a[1]-c[1])**2\n",
    "    dis2 = (a[0]-d[0])**2  + (a[1]-d[1])**2\n",
    "    dis3 = (b[0]-c[0])**2  + (b[1]-c[1])**2\n",
    "    dis4 = (b[0]-d[0])**2  + (b[1]-d[1])**2\n",
    "    dia1 = (a[0]-b[0])**2  + (a[1]-b[1])**2\n",
    "    dia2 = (c[0]-d[0])**2  + (c[1]-d[1])**2\n",
    "    if not (dis1 == dis2 and dis2==dis3 and dis3 == dis4):\n",
    "        return False\n",
    "    if dia1 != dia2:\n",
    "        return False\n",
    "    return True\n"
   ]
  },
  {
   "cell_type": "code",
   "execution_count": 10,
   "metadata": {},
   "outputs": [
    {
     "data": {
      "text/plain": [
       "True"
      ]
     },
     "execution_count": 10,
     "metadata": {},
     "output_type": "execute_result"
    }
   ],
   "source": [
    "points = [(10,20), (20,20), (20,10), (10,10)]\n",
    "formSquare(points)"
   ]
  },
  {
   "cell_type": "code",
   "execution_count": null,
   "metadata": {
    "collapsed": true
   },
   "outputs": [],
   "source": []
  }
 ],
 "metadata": {
  "kernelspec": {
   "display_name": "Python 2",
   "language": "python",
   "name": "python2"
  },
  "language_info": {
   "codemirror_mode": {
    "name": "ipython",
    "version": 2
   },
   "file_extension": ".py",
   "mimetype": "text/x-python",
   "name": "python",
   "nbconvert_exporter": "python",
   "pygments_lexer": "ipython2",
   "version": "2.7.13"
  }
 },
 "nbformat": 4,
 "nbformat_minor": 2
}
