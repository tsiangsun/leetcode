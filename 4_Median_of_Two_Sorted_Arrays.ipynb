{
 "cells": [
  {
   "cell_type": "markdown",
   "metadata": {},
   "source": [
    "https://leetcode.com/problems/median-of-two-sorted-arrays/description/\n",
    "    \n",
    "There are two sorted arrays nums1 and nums2 of size m and n respectively.\n",
    "\n",
    "Find the median of the two sorted arrays. The overall run time complexity should be **O(log (m+n))**.\n",
    "\n",
    "Example 1:\n",
    "\n",
    "    nums1 = [1, 3]\n",
    "    nums2 = [2]\n",
    "\n",
    "The median is 2.0\n",
    "\n",
    "Example 2:\n",
    "\n",
    "    nums1 = [1, 2]\n",
    "    nums2 = [3, 4]\n",
    "\n",
    "The median is (2 + 3)/2 = 2.5"
   ]
  },
  {
   "cell_type": "markdown",
   "metadata": {},
   "source": [
    "------------------------------------------------\n",
    "\n",
    "这道题是典型的二分+DC:\n",
    "\n",
    "1. 判断总元素数量n是奇数还是偶数。如果是奇数，则结果为第n/2+1个元素，如果是偶数，则结果为（第n／2元素+第n／2+1元素）／2。\n",
    "\n",
    "2. 假设要找第k个元素。在A和B中分别寻找各自数组的第k/2个元素，比较两个找到的元素的大小，若A中元素小，则抛弃掉A中的k／2个元素，反之抛弃掉B中的k／2个元素，并继续寻找A和B中的第k（这里k＝k－k／2）个元素。\n",
    "\n",
    "3. 几个边界条件：\n",
    "1）当其中一个数组元素全部被抛弃时，直接返回另一个数组中的第k个元素。\n",
    "2）如果k＝＝1，则直接返回两个数组中第一个元素较小的那一个。\n",
    "3）如果一个数组剩余元素不足k／2个，则抛弃另一个数组的k／2个元素（肯定不会将要找的第k个元素抛弃掉，因为就算不足的那个数组的元素也一起被抛弃掉，抛掉的元素还是不足k个）。"
   ]
  },
  {
   "cell_type": "code",
   "execution_count": 1,
   "metadata": {
    "collapsed": true
   },
   "outputs": [],
   "source": [
    "class Solution:\n",
    "    \"\"\"\n",
    "    @param A: An integer array.\n",
    "    @param B: An integer array.\n",
    "    @return: a double whose format is *.5 or *.0\n",
    "    \"\"\"\n",
    "    def findMedianSortedArrays(self, A, B):\n",
    "        n = len(A) + len(B)\n",
    "        if n % 2 == 1:\n",
    "            return self.findKth(A, B, n / 2 + 1)\n",
    "        else:\n",
    "            smaller = self.findKth(A, B, n / 2)\n",
    "            bigger = self.findKth(A, B, n / 2 + 1)\n",
    "            return (smaller + bigger) / 2.0\n",
    "\n",
    "    def findKth(self, A, B, k):\n",
    "        if len(A) == 0:\n",
    "            return B[k - 1]\n",
    "        if len(B) == 0:\n",
    "            return A[k - 1]\n",
    "        if k == 1:\n",
    "            return min(A[0], B[0])\n",
    "        \n",
    "        a = A[k / 2 - 1] if len(A) >= k / 2 else None\n",
    "        b = B[k / 2 - 1] if len(B) >= k / 2 else None\n",
    "        \n",
    "        if b is None or (a is not None and a < b):\n",
    "            return self.findKth(A[k / 2:], B, k - k / 2)\n",
    "        return self.findKth(A, B[k / 2:], k - k / 2)"
   ]
  },
  {
   "cell_type": "code",
   "execution_count": 5,
   "metadata": {},
   "outputs": [
    {
     "name": "stdout",
     "output_type": "stream",
     "text": [
      "2\n"
     ]
    }
   ],
   "source": [
    "A = [1,2,4]\n",
    "B = [1,1,3,5]\n",
    "sol = Solution()\n",
    "print sol.findMedianSortedArrays(A,B)"
   ]
  },
  {
   "cell_type": "code",
   "execution_count": null,
   "metadata": {
    "collapsed": true
   },
   "outputs": [],
   "source": []
  }
 ],
 "metadata": {
  "kernelspec": {
   "display_name": "Python 2",
   "language": "python",
   "name": "python2"
  },
  "language_info": {
   "codemirror_mode": {
    "name": "ipython",
    "version": 2
   },
   "file_extension": ".py",
   "mimetype": "text/x-python",
   "name": "python",
   "nbconvert_exporter": "python",
   "pygments_lexer": "ipython2",
   "version": "2.7.13"
  }
 },
 "nbformat": 4,
 "nbformat_minor": 2
}
