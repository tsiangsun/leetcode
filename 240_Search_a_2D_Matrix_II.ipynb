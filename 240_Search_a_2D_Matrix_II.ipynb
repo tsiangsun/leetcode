{
 "cells": [
  {
   "cell_type": "markdown",
   "metadata": {},
   "source": [
    "https://leetcode.com/problems/search-a-2d-matrix-ii/description/\n",
    "\n",
    "Write an efficient algorithm that searches for a value in an m x n matrix. This matrix has the following properties:\n",
    "\n",
    "- Integers in each row are sorted in ascending from left to right.\n",
    "- Integers in each column are sorted in ascending from top to bottom.\n",
    "\n",
    "For example,\n",
    "\n",
    "Consider the following matrix:\n",
    "\n",
    "    [\n",
    "      [1,   4,  7, 11, 15],\n",
    "      [2,   5,  8, 12, 19],\n",
    "      [3,   6,  9, 16, 22],\n",
    "      [10, 13, 14, 17, 24],\n",
    "      [18, 21, 23, 26, 30]\n",
    "    ]\n",
    "    \n",
    "Given target = 5, return true.\n",
    "\n",
    "Given target = 20, return false."
   ]
  },
  {
   "cell_type": "markdown",
   "metadata": {},
   "source": [
    "从左下角开始向右上角搜索，若当前元素比target小则向右，大则向上，相等则向右上。这样最多走m＋n步，所以时间复杂度为O(m+n)。"
   ]
  },
  {
   "cell_type": "code",
   "execution_count": 10,
   "metadata": {
    "collapsed": true
   },
   "outputs": [],
   "source": [
    "m = [\n",
    "  [1,   4,  7, 11, 15],\n",
    "  [2,   5,  8, 12, 19],\n",
    "  [3,   6,  9, 16, 22],\n",
    "  [10, 13, 14, 17, 24],\n",
    "  [18, 21, 23, 26, 30]\n",
    "]\n",
    "\n",
    "# Time Complexity: O(m+n)\n",
    "\n",
    "class Solution(object):\n",
    "    def searchMatrix(self, matrix, target):\n",
    "        \"\"\"\n",
    "        :type matrix: List[List[int]]\n",
    "        :type target: int\n",
    "        :rtype: bool\n",
    "        \"\"\"\n",
    "        count = 0\n",
    "        rows = len(matrix) \n",
    "        if rows ==0 :\n",
    "            return False\n",
    "        cols = len(matrix[0])\n",
    "        if cols ==0 :\n",
    "            return False\n",
    "        r = rows-1\n",
    "        c = 0\n",
    "        while r >= 0 and c < cols:\n",
    "            if matrix[r][c] < target:\n",
    "                c += 1\n",
    "            else:\n",
    "                if matrix[r][c] > target:\n",
    "                    r -= 1\n",
    "                else:\n",
    "                    count += 1\n",
    "                    r -= 1\n",
    "                    c += 1\n",
    "        if count != 0:\n",
    "            return True\n",
    "        else:\n",
    "            return False            \n",
    "            "
   ]
  },
  {
   "cell_type": "code",
   "execution_count": 11,
   "metadata": {},
   "outputs": [
    {
     "name": "stdout",
     "output_type": "stream",
     "text": [
      "True\n",
      "False\n"
     ]
    }
   ],
   "source": [
    "sol=Solution()\n",
    "print sol.searchMatrix(m, 5)\n",
    "print sol.searchMatrix(m, 20)"
   ]
  },
  {
   "cell_type": "code",
   "execution_count": null,
   "metadata": {
    "collapsed": true
   },
   "outputs": [],
   "source": []
  }
 ],
 "metadata": {
  "kernelspec": {
   "display_name": "Python 2",
   "language": "python",
   "name": "python2"
  },
  "language_info": {
   "codemirror_mode": {
    "name": "ipython",
    "version": 2
   },
   "file_extension": ".py",
   "mimetype": "text/x-python",
   "name": "python",
   "nbconvert_exporter": "python",
   "pygments_lexer": "ipython2",
   "version": "2.7.13"
  }
 },
 "nbformat": 4,
 "nbformat_minor": 2
}
