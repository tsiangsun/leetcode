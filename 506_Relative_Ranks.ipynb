{
 "cells": [
  {
   "cell_type": "markdown",
   "metadata": {},
   "source": [
    "Given scores of N athletes, find their relative ranks and the people with the top three highest scores, who will be awarded medals: \"Gold Medal\", \"Silver Medal\" and \"Bronze Medal\".\n",
    "\n",
    "Example 1:\n",
    "- Input: [5, 4, 3, 2, 1]\n",
    "- Output: [\"Gold Medal\", \"Silver Medal\", \"Bronze Medal\", \"4\", \"5\"]\n",
    "\n",
    "Explanation: The first three athletes got the top three highest scores, so they got \"Gold Medal\", \"Silver Medal\" and \"Bronze Medal\". \n",
    "\n",
    "For the left two athletes, you just need to output their relative ranks according to their scores.\n",
    "\n",
    "Note:\n",
    "- N is a positive integer and won't exceed 10,000.\n",
    "- All the scores of athletes are guaranteed to be unique."
   ]
  },
  {
   "cell_type": "code",
   "execution_count": 1,
   "metadata": {
    "collapsed": true
   },
   "outputs": [],
   "source": [
    "# My submission\n",
    "class Solution(object):\n",
    "    def findRelativeRanks(self, nums):\n",
    "        \"\"\"\n",
    "        :type nums: List[int]\n",
    "        :rtype: List[str]\n",
    "        \"\"\"\n",
    "        L = len(nums)\n",
    "        li = []\n",
    "        for i, n in enumerate(nums):\n",
    "            li.append((i,n))\n",
    "            \n",
    "        ls = sorted(li, key = lambda x: x[1], reverse=True)\n",
    "        ans = ['0'] * L\n",
    "        for r, x in enumerate(ls):\n",
    "            ans[x[0]] = str(r+1)\n",
    "        \n",
    "        if L>0 :\n",
    "            x = ls[0]\n",
    "            ans[x[0]] = \"Gold Medal\"\n",
    "        if L>1 :\n",
    "            x = ls[1]\n",
    "            ans[x[0]] = \"Silver Medal\"\n",
    "        if L>2 :\n",
    "            x = ls[2]\n",
    "            ans[x[0]] = \"Bronze Medal\"\n",
    "        \n",
    "        return ans"
   ]
  },
  {
   "cell_type": "code",
   "execution_count": 2,
   "metadata": {},
   "outputs": [
    {
     "name": "stdout",
     "output_type": "stream",
     "text": [
      "['5', 'Bronze Medal', '4', 'Silver Medal', 'Gold Medal']\n"
     ]
    }
   ],
   "source": [
    "sol = Solution()\n",
    "print sol.findRelativeRanks([1,3,2,4,5])"
   ]
  },
  {
   "cell_type": "code",
   "execution_count": null,
   "metadata": {
    "collapsed": true
   },
   "outputs": [],
   "source": []
  }
 ],
 "metadata": {
  "kernelspec": {
   "display_name": "Python 2",
   "language": "python",
   "name": "python2"
  },
  "language_info": {
   "codemirror_mode": {
    "name": "ipython",
    "version": 2
   },
   "file_extension": ".py",
   "mimetype": "text/x-python",
   "name": "python",
   "nbconvert_exporter": "python",
   "pygments_lexer": "ipython2",
   "version": "2.7.13"
  }
 },
 "nbformat": 4,
 "nbformat_minor": 2
}
