{
 "cells": [
  {
   "cell_type": "markdown",
   "metadata": {},
   "source": [
    "You are given two non-empty linked lists representing two non-negative integers. The digits are stored in reverse order and each of their nodes contain a single digit. Add the two numbers and return it as a linked list.\n",
    "\n",
    "You may assume the two numbers do not contain any leading zero, except the number 0 itself.\n",
    "\n",
    "- Input: (2 -> 4 -> 3) + (5 -> 6 -> 4)\n",
    "- Output: 7 -> 0 -> 8"
   ]
  },
  {
   "cell_type": "code",
   "execution_count": 5,
   "metadata": {
    "collapsed": true
   },
   "outputs": [],
   "source": [
    "# Definition for singly-linked list.\n",
    "class ListNode(object):\n",
    "    def __init__(self, x):\n",
    "        self.val = x\n",
    "        self.next = None\n",
    "\n",
    "class Solution(object):\n",
    "    def addTwoNumbers(self, l1, l2):\n",
    "        \"\"\"\n",
    "        :type l1: ListNode\n",
    "        :type l2: ListNode\n",
    "        :rtype: ListNode\n",
    "        \"\"\"\n",
    "        if l1 == None:\n",
    "            return l2\n",
    "        else:\n",
    "            if l2 == None:\n",
    "                return l1\n",
    "        carry = 0\n",
    "        s = l1.val + l2.val + carry\n",
    "        digit = s%10\n",
    "        carry = s//10\n",
    "        head = ListNode(digit)\n",
    "        curr = head\n",
    "        l1 = l1.next\n",
    "        l2 = l2.next\n",
    "        while l1 != None or l2 != None or carry != 0:\n",
    "            \n",
    "            if l1 != None :\n",
    "                a = l1.val\n",
    "                l1 = l1.next\n",
    "            else:\n",
    "                a = 0\n",
    "            if l2 != None:\n",
    "                b = l2.val\n",
    "                l2 = l2.next\n",
    "            else:\n",
    "                b = 0\n",
    "                \n",
    "            s = a + b + carry\n",
    "            digit = s%10\n",
    "            carry = s//10\n",
    "            curr.next = ListNode(digit)\n",
    "            curr = curr.next\n",
    "\n",
    "        curr.next = None\n",
    "        return head\n",
    "\n"
   ]
  },
  {
   "cell_type": "code",
   "execution_count": 14,
   "metadata": {
    "collapsed": true
   },
   "outputs": [],
   "source": [
    "l1 = ListNode(2)\n",
    "l1.next = ListNode(4)\n",
    "l1.next.next = ListNode(3)\n",
    "\n",
    "l2 = ListNode(5)\n",
    "l2.next = ListNode(6)\n",
    "l2.next.next = ListNode(9)"
   ]
  },
  {
   "cell_type": "code",
   "execution_count": 15,
   "metadata": {},
   "outputs": [],
   "source": [
    "sol=Solution()\n",
    "h = sol.addTwoNumbers(l1,l2)"
   ]
  },
  {
   "cell_type": "code",
   "execution_count": 16,
   "metadata": {},
   "outputs": [
    {
     "name": "stdout",
     "output_type": "stream",
     "text": [
      "7 0 3 1\n"
     ]
    }
   ],
   "source": [
    "while h != None:\n",
    "    print h.val,\n",
    "    h = h.next"
   ]
  },
  {
   "cell_type": "markdown",
   "metadata": {},
   "source": [
    "-------"
   ]
  },
  {
   "cell_type": "code",
   "execution_count": 17,
   "metadata": {},
   "outputs": [],
   "source": [
    "# cleaner code\n",
    "def addTwoNumbers(l1, l2):\n",
    "    carry = 0\n",
    "    root = n = ListNode(0)\n",
    "    while l1 or l2 or carry:\n",
    "        v1 = v2 = 0\n",
    "        if l1:\n",
    "            v1 = l1.val\n",
    "            l1 = l1.next\n",
    "        if l2:\n",
    "            v2 = l2.val\n",
    "            l2 = l2.next\n",
    "        carry, val = divmod(v1+v2+carry, 10)\n",
    "        n.next = ListNode(val)\n",
    "        n = n.next\n",
    "    return root.next"
   ]
  },
  {
   "cell_type": "code",
   "execution_count": 18,
   "metadata": {},
   "outputs": [
    {
     "name": "stdout",
     "output_type": "stream",
     "text": [
      "7 0 3 1\n"
     ]
    }
   ],
   "source": [
    "h = addTwoNumbers(l1, l2)\n",
    "while h != None:\n",
    "    print h.val,\n",
    "    h = h.next"
   ]
  },
  {
   "cell_type": "code",
   "execution_count": null,
   "metadata": {
    "collapsed": true
   },
   "outputs": [],
   "source": []
  }
 ],
 "metadata": {
  "kernelspec": {
   "display_name": "Python 2",
   "language": "python",
   "name": "python2"
  },
  "language_info": {
   "codemirror_mode": {
    "name": "ipython",
    "version": 2
   },
   "file_extension": ".py",
   "mimetype": "text/x-python",
   "name": "python",
   "nbconvert_exporter": "python",
   "pygments_lexer": "ipython2",
   "version": "2.7.13"
  }
 },
 "nbformat": 4,
 "nbformat_minor": 2
}
