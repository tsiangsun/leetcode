{
 "cells": [
  {
   "cell_type": "markdown",
   "metadata": {},
   "source": [
    "Given an array where every element occurs three times, except one element which occurs only once. Find the element that occurs once. Expected time complexity is O(n) and O(1) extra space."
   ]
  },
  {
   "cell_type": "code",
   "execution_count": 1,
   "metadata": {
    "collapsed": true
   },
   "outputs": [],
   "source": [
    "nums = [12, 1, 12, 3, 12, 1, 1, 2, 3, 3]"
   ]
  },
  {
   "cell_type": "markdown",
   "metadata": {},
   "source": [
    "We can use sorting to do it in O(nLogn) time. We can also use hashing, it has the worst case time complexity of O(n), but requires extra space.\n",
    "\n",
    "We can use bitwise operators for a solution that is O(n) time and uses O(1) extra space. The solution is not easy like other XOR based solutions, because all elements appear odd number of times here.\n",
    "\n",
    "Run a loop for all elements in array. At the end of every iteration, maintain following two values.\n",
    "\n",
    "    ones: The bits that have appeared 1st time or 4th time or 7th time .. etc.\n",
    "\n",
    "    twos: The bits that have appeared 2nd time or 5th time or 8th time .. etc.\n",
    "\n",
    "Finally, we return the value of ‘ones’\n",
    "\n",
    "How to maintain the values of ‘ones’ and ‘twos’?\n",
    "‘ones’ and ‘twos’ are initialized as 0. For every new element in array, find out the common set bits in the new element and previous value of ‘ones’. These common set bits are actually the bits that should be added to ‘twos’. So do bitwise OR of the common set bits with ‘twos’. ‘twos’ also gets some extra bits that appear third time. These extra bits are removed later.\n",
    "\n",
    "- Update ‘ones’ by doing XOR of new element with previous value of ‘ones’. There may be some bits which appear 3rd time. These extra bits are also removed later.\n",
    "\n",
    "- Both ‘ones’ and ‘twos’ contain those extra bits which appear 3rd time. Remove these extra bits by finding out common set bits in ‘ones’ and ‘twos’.\n"
   ]
  },
  {
   "cell_type": "code",
   "execution_count": 26,
   "metadata": {
    "collapsed": true
   },
   "outputs": [],
   "source": [
    "class Solution(object):\n",
    "    def singleNumber(self, nums):\n",
    "        \"\"\"\n",
    "        :type nums: List[int]\n",
    "        :rtype: int\n",
    "        \"\"\"\n",
    "        ones = 0\n",
    "        twos = 0\n",
    "        for n in nums:\n",
    "            #The expression \"ones & n\" gives the bits that are \n",
    "            #there in both 'ones' AND new element n.  We\n",
    "            #add these bits to 'twos' using bitwise OR\n",
    "            twos = twos | (ones & n)\n",
    "            print 'twos =', \"{0:b}\".format(twos)\n",
    "            \n",
    "            #XOR the new bits with previous 'ones' to get all bits\n",
    "            #appearing odd number of times\n",
    "            ones = ones ^ n\n",
    "            print 'ones =', \"{0:b}\".format(ones)\n",
    "            \n",
    "            #The common bits are those bits which appear third time\n",
    "            #So these bits should not be there in both 'ones' and 'twos'.\n",
    "            #common_bits contains all these bits as 0, so that the bits can \n",
    "            #be removed from 'ones' and 'twos' \n",
    "            common_bits = ~(ones & twos)\n",
    "            print 'comm =', \"{0:b}\".format(common_bits)\n",
    "            \n",
    "            #Remove common bits (the bits that appear third time)\n",
    "            ones = ones & common_bits\n",
    "            twos = twos & common_bits\n",
    "            print 'new twos =', \"{0:b}\".format(twos)\n",
    "            print 'new ones =', \"{0:b}\".format(ones)\n",
    "            print '---------------------'\n",
    "        return ones\n"
   ]
  },
  {
   "cell_type": "code",
   "execution_count": 22,
   "metadata": {},
   "outputs": [
    {
     "name": "stdout",
     "output_type": "stream",
     "text": [
      "0b10\n",
      "10\n"
     ]
    }
   ],
   "source": [
    "nums = [3,3,2,3]\n",
    "a = 2\n",
    "print bin(a)\n",
    "print \"{0:b}\".format(a)"
   ]
  },
  {
   "cell_type": "code",
   "execution_count": 23,
   "metadata": {},
   "outputs": [
    {
     "name": "stdout",
     "output_type": "stream",
     "text": [
      "twos = 0\n",
      "ones = 11\n",
      "comm = -1\n",
      "new twos = 0\n",
      "new ones = 11\n",
      "---------------------\n",
      "twos = 11\n",
      "ones = 0\n",
      "comm = -1\n",
      "new twos = 11\n",
      "new ones = 0\n",
      "---------------------\n",
      "twos = 11\n",
      "ones = 10\n",
      "comm = -11\n",
      "new twos = 1\n",
      "new ones = 0\n",
      "---------------------\n",
      "twos = 1\n",
      "ones = 11\n",
      "comm = -10\n",
      "new twos = 0\n",
      "new ones = 10\n",
      "---------------------\n",
      "10 0b10 2\n"
     ]
    }
   ],
   "source": [
    "sol=Solution()\n",
    "la = sol.singleNumber(nums)\n",
    "print \"{0:b}\".format(la), bin(la), la"
   ]
  },
  {
   "cell_type": "markdown",
   "metadata": {},
   "source": [
    "Explanation for algorithm\n",
    "---------\n",
    "Basically, it makes use of the fact that `x^x = 0`. So all paired elements get XOR'd and vanish leaving the lonely element.  Since **bitwise XOR operation is associative and commutative**, it does not matter in what fashion elements appear in array, we still get the same answer. \n",
    "\n",
    "ones - At any point of time, this variable holds XOR of all the elements which have \n",
    "appeared \"only\" once. \n",
    "\n",
    "twos - At any point of time, this variable holds XOR of all the elements which have \n",
    "appeared \"only\" twice. \n",
    "\n",
    "1. A new number appears - It gets XOR'd to the variable \"ones\". \n",
    "2. A number gets repeated(appears twice) - It is removed from \"ones\" and XOR'd to the variable \"twos\". \n",
    "3. A number appears for the third time - It gets removed from both \"ones\" and \"twos\". \n",
    "\n",
    "The final answer we want is the value present in \"ones\" - coz, it holds the unique element. \n",
    "\n",
    "So if we explain how steps 1 to 3 happens in the code, we are done. \n",
    "Before explaining above 3 steps, lets look at last three lines of the code, \n",
    "\n",
    "    not_threes = ~(ones & twos) \n",
    "    ones & = not_threes \n",
    "    twos & = not_threes \n",
    "\n",
    "All it does is, common 1's between \"ones\" and \"twos\" are converted to zero. \n",
    "\n",
    "For simplicity, in all the below explanations - consider we have got only 4 elements in the array (one unique element and 3 repeated elements - in any order). \n",
    "\n",
    "### Explanation for step 1 \n",
    "\n",
    "Lets say a new element(x) appears. \n",
    "CURRENT SITUATION - Both variables - \"ones\" and \"twos\" has not recorded \"x\". \n",
    "\n",
    "Observe the statement \"twos| = ones & x\". \n",
    "Since bit representation of \"x\" is not present in \"ones\", AND condition yields nothing. So \"twos\" does not get bit representation of \"x\". \n",
    "But, in next step \"ones ^= x\" - \"ones\" ends up adding bits of \"x\". Thus new element gets recorded in \"ones\" but not in \"twos\". \n",
    "\n",
    "The last 3 lines of code as explained already, converts common 1's b/w \"ones\" and \"twos\" to zeros. \n",
    "Since as of now, only \"ones\" has \"x\" and not \"twos\" - last 3 lines does nothing. \n",
    "\n",
    "### Explanation for step 2. \n",
    "\n",
    "Lets say an element(x) appears twice. \n",
    "CURRENT SITUATION - \"ones\" has recorded \"x\" but not \"twos\". \n",
    "\n",
    "Now due to the statement, \"twos| = ones & x\" - \"twos\" ends up getting bits of x. \n",
    "But due to the statement, \"ones ^ = x\" - \"ones\" removes \"x\" from its binary representation. \n",
    "\n",
    "Again, last 3 lines of code does nothing. \n",
    "So ultimately, \"twos\" ends up getting bits of \"x\" and \"ones\" ends up losing bits of \"x\". \n",
    "\n",
    "### Explanation for step 3. \n",
    " \n",
    "Lets say an element(x) appears for the third time. \n",
    "CURRENT SITUATION - \"ones\" does not have bit representation of \"x\" but \"twos\" has. \n",
    "\n",
    "Though \"ones & x\" does not yield nothing .. \"twos\" by itself has bit representation of \"x\". So after this statement, \"two\" has bit representation of \"x\". \n",
    "Due to \"ones^=x\", after this step, \"one\" also ends up getting bit representation of \"x\". \n",
    "\n",
    "Now last 3 lines of code removes common 1's of \"ones\" and \"twos\" - which is the bit representation of \"x\". \n",
    "Thus both \"ones\" and \"twos\" ends up losing bit representation of \"x\". \n"
   ]
  },
  {
   "cell_type": "code",
   "execution_count": 30,
   "metadata": {
    "collapsed": true
   },
   "outputs": [],
   "source": [
    "#my submission\n",
    "class Solution(object):\n",
    "    def singleNumber(self, nums):\n",
    "        \"\"\"\n",
    "        :type nums: List[int]\n",
    "        :rtype: int\n",
    "        \"\"\"\n",
    "        ones = 0\n",
    "        twos = 0\n",
    "        for x in nums:\n",
    "            twos = twos | (ones & x)\n",
    "            ones = ones ^ x\n",
    "            threes = ones & twos\n",
    "            ones = ones & ~threes\n",
    "            twos = twos & ~threes\n",
    "            \n",
    "        return ones"
   ]
  },
  {
   "cell_type": "code",
   "execution_count": null,
   "metadata": {
    "collapsed": true
   },
   "outputs": [],
   "source": []
  },
  {
   "cell_type": "markdown",
   "metadata": {},
   "source": [
    "法2：我们把数组中数字的每一位累加起来对3取余，剩下的结果就是那个单独数组该位上的数字，由于我们累加的过程都要对3取余，那么每一位上累加的过程就是0->1->2->0，换成二进制的表示为00->01->10->00，那么我们可以写出对应关系：\n",
    "\n",
    "    00 (+) 1 = 01\n",
    "    01 (+) 1 = 10\n",
    "    10 (+) 1 = 00 ( mod 3)\n",
    "\n",
    "那么我们用ab来表示开始的状态，对于加1操作后，得到的新状态的ab的算法如下：\n",
    "\n",
    "    b = (b XOR n) & ~a;\n",
    "    a = (a XOR n) & ~b;\n"
   ]
  },
  {
   "cell_type": "code",
   "execution_count": 27,
   "metadata": {
    "collapsed": true
   },
   "outputs": [],
   "source": [
    "# \n",
    "class Solution2(object):\n",
    "    def singleNumber(self, nums):\n",
    "        \"\"\"\n",
    "        :type nums: List[int]\n",
    "        :rtype: inta\n",
    "        \"\"\"\n",
    "        a = 0\n",
    "        b = 0\n",
    "        for n in nums:\n",
    "            b = (b ^ n) & ~a\n",
    "            a = (a ^ n) & ~b\n",
    "            \n",
    "        return b"
   ]
  },
  {
   "cell_type": "code",
   "execution_count": 28,
   "metadata": {},
   "outputs": [
    {
     "name": "stdout",
     "output_type": "stream",
     "text": [
      "2\n"
     ]
    }
   ],
   "source": [
    "nums = [3,3,2,3]\n",
    "sol2 = Solution2()\n",
    "print sol2.singleNumber(nums)"
   ]
  },
  {
   "cell_type": "code",
   "execution_count": null,
   "metadata": {
    "collapsed": true
   },
   "outputs": [],
   "source": []
  }
 ],
 "metadata": {
  "kernelspec": {
   "display_name": "Python 2",
   "language": "python",
   "name": "python2"
  },
  "language_info": {
   "codemirror_mode": {
    "name": "ipython",
    "version": 2
   },
   "file_extension": ".py",
   "mimetype": "text/x-python",
   "name": "python",
   "nbconvert_exporter": "python",
   "pygments_lexer": "ipython2",
   "version": "2.7.13"
  }
 },
 "nbformat": 4,
 "nbformat_minor": 2
}
