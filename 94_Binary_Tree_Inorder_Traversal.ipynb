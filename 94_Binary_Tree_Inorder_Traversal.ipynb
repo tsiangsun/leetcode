{
 "cells": [
  {
   "cell_type": "markdown",
   "metadata": {},
   "source": [
    "Given a binary tree, return the inorder traversal of its nodes' values.\n",
    "\n",
    "For example:\n",
    "\n",
    "    Given binary tree [1,null,2,3],\n",
    "       1\n",
    "        \\\n",
    "         2\n",
    "        /\n",
    "       3\n",
    "    return [1,3,2].\n",
    "\n",
    "Note: Recursive solution is trivial, could you do it iteratively?"
   ]
  },
  {
   "cell_type": "code",
   "execution_count": 2,
   "metadata": {
    "collapsed": true
   },
   "outputs": [],
   "source": [
    "class TreeNode(object):\n",
    "    def __init__(self, x):\n",
    "        self.val = x\n",
    "        self.left = None\n",
    "        self.right = None\n",
    "        \n",
    "class Solution(object):\n",
    "    # Recursive solution \n",
    "    def inorderTraversal(self, root):\n",
    "        \"\"\"\n",
    "        :type root: TreeNode\n",
    "        :rtype: List[int]\n",
    "        \"\"\"\n",
    "        if root is None:\n",
    "            return []\n",
    "        res = [root.val,]\n",
    "        left = self.inorderTraversal(root.left)\n",
    "        right = self.inorderTraversal(root.right)\n",
    "        res = left + res + right\n",
    "        return res\n",
    "    \n",
    "    # Iterative solution \n",
    "    def inorderIterative(self, root):\n",
    "        result = []\n",
    "        stack = []\n",
    "        node = root\n",
    "        while True :\n",
    "            if node != None:\n",
    "                stack.append(node)\n",
    "                node = node.left\n",
    "            else:\n",
    "                if len(stack) > 0:\n",
    "                    node = stack.pop()\n",
    "                    result.append(node.val)\n",
    "                    node = node.right\n",
    "                else:\n",
    "                    return result"
   ]
  },
  {
   "cell_type": "code",
   "execution_count": 4,
   "metadata": {
    "collapsed": true
   },
   "outputs": [],
   "source": [
    "tree = TreeNode(1)\n",
    "tree.right = TreeNode(2)\n",
    "tree.right.left = TreeNode(3)"
   ]
  },
  {
   "cell_type": "code",
   "execution_count": 5,
   "metadata": {},
   "outputs": [
    {
     "name": "stdout",
     "output_type": "stream",
     "text": [
      "[1, 3, 2]\n",
      "[1, 3, 2]\n"
     ]
    }
   ],
   "source": [
    "sol = Solution()\n",
    "print sol.inorderTraversal(tree)\n",
    "print sol.inorderIterative(tree)"
   ]
  },
  {
   "cell_type": "code",
   "execution_count": 6,
   "metadata": {},
   "outputs": [
    {
     "name": "stdout",
     "output_type": "stream",
     "text": [
      "[3, 1, 4, 0, 5, 6, 2]\n",
      "[3, 1, 4, 0, 5, 6, 2]\n"
     ]
    }
   ],
   "source": [
    "root = TreeNode(0)\n",
    "root.left = TreeNode(1)\n",
    "root.right = TreeNode(2)\n",
    "root.left.left = TreeNode(3)\n",
    "root.left.right = TreeNode(4)\n",
    "root.right.left = TreeNode(5)\n",
    "root.right.left.right = TreeNode(6)\n",
    "\n",
    "print sol.inorderTraversal(root)\n",
    "print sol.inorderIterative(root)"
   ]
  },
  {
   "cell_type": "code",
   "execution_count": 7,
   "metadata": {},
   "outputs": [
    {
     "name": "stdout",
     "output_type": "stream",
     "text": [
      "[3, 1, 4, 0, 5, 6, 2]\n"
     ]
    }
   ],
   "source": [
    "class Solution2:\n",
    "    def inorderTraversal(self, root):\n",
    "        res, stack, current = [], [], root\n",
    "        while stack or current:\n",
    "            if current:\n",
    "                stack.append(current)\n",
    "                current = current.left\n",
    "            else:\n",
    "                parent = stack.pop()\n",
    "                res.append(parent.val)\n",
    "                current = parent.right\n",
    "        return res\n",
    "    \n",
    "sol2 = Solution2()\n",
    "print sol2.inorderTraversal(root)"
   ]
  },
  {
   "cell_type": "code",
   "execution_count": null,
   "metadata": {
    "collapsed": true
   },
   "outputs": [],
   "source": []
  }
 ],
 "metadata": {
  "kernelspec": {
   "display_name": "Python 2",
   "language": "python",
   "name": "python2"
  },
  "language_info": {
   "codemirror_mode": {
    "name": "ipython",
    "version": 2
   },
   "file_extension": ".py",
   "mimetype": "text/x-python",
   "name": "python",
   "nbconvert_exporter": "python",
   "pygments_lexer": "ipython2",
   "version": "2.7.13"
  }
 },
 "nbformat": 4,
 "nbformat_minor": 2
}
