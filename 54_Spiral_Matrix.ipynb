{
 "cells": [
  {
   "cell_type": "markdown",
   "metadata": {},
   "source": [
    "Given a matrix of m x n elements (m rows, n columns), return all elements of the matrix in spiral order.\n",
    "\n",
    "For example,\n",
    "Given the following matrix:\n",
    "\n",
    "    [\n",
    "     [ 1, 2, 3 ],\n",
    "     [ 4, 5, 6 ],\n",
    "     [ 7, 8, 9 ]\n",
    "    ]\n",
    "\n",
    "You should return `[1,2,3,6,9,8,7,4,5]`."
   ]
  },
  {
   "cell_type": "code",
   "execution_count": 1,
   "metadata": {
    "collapsed": true
   },
   "outputs": [],
   "source": [
    "class Solution(object):\n",
    "    def spiralOrder(self, matrix):\n",
    "        \"\"\"\n",
    "        :type matrix: List[List[int]]\n",
    "        :rtype: List[int]\n",
    "        \"\"\"\n",
    "        mat = matrix\n",
    "        li = []\n",
    "        while len(mat)>0:\n",
    "            top = mat.pop(0)\n",
    "            for x in top:\n",
    "                li.append(x)\n",
    "            mat = [list(i) for i in reversed(zip(*mat))]\n",
    "\n",
    "        return li"
   ]
  },
  {
   "cell_type": "code",
   "execution_count": null,
   "metadata": {
    "collapsed": true
   },
   "outputs": [],
   "source": []
  }
 ],
 "metadata": {
  "kernelspec": {
   "display_name": "Python 2",
   "language": "python",
   "name": "python2"
  },
  "language_info": {
   "codemirror_mode": {
    "name": "ipython",
    "version": 2
   },
   "file_extension": ".py",
   "mimetype": "text/x-python",
   "name": "python",
   "nbconvert_exporter": "python",
   "pygments_lexer": "ipython2",
   "version": "2.7.13"
  }
 },
 "nbformat": 4,
 "nbformat_minor": 2
}
