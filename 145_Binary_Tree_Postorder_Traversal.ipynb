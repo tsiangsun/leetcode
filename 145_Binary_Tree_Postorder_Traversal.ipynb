{
 "cells": [
  {
   "cell_type": "markdown",
   "metadata": {},
   "source": [
    "Given a binary tree, return the postorder traversal of its nodes' values.\n",
    "\n",
    "For example:\n",
    "\n",
    "    Given binary tree {1,#,2,3},\n",
    "       1\n",
    "        \\\n",
    "         2\n",
    "        /\n",
    "       3\n",
    "    return [3,2,1].\n",
    "\n",
    "Note: Recursive solution is trivial, could you do it iteratively?"
   ]
  },
  {
   "cell_type": "code",
   "execution_count": 22,
   "metadata": {
    "collapsed": true
   },
   "outputs": [],
   "source": [
    "class TreeNode(object):\n",
    "    def __init__(self, x):\n",
    "        self.val = x\n",
    "        self.left = None\n",
    "        self.right = None\n",
    "        \n",
    "root = TreeNode(0)\n",
    "root.left = TreeNode(1)\n",
    "root.right = TreeNode(2)\n",
    "root.left.left = TreeNode(3)\n",
    "root.left.right = TreeNode(4)\n",
    "root.right.left = TreeNode(5)\n",
    "root.right.left.right = TreeNode(6)"
   ]
  },
  {
   "cell_type": "code",
   "execution_count": 41,
   "metadata": {},
   "outputs": [],
   "source": [
    "class Solution(object):\n",
    "    # Recursive solution \n",
    "    def postorderTraversal(self, root):\n",
    "        \"\"\"\n",
    "        :type root: TreeNode\n",
    "        :rtype: List[int]\n",
    "        \"\"\"\n",
    "        if root is None:\n",
    "            return []\n",
    "        res = [root.val,]\n",
    "        left = self.postorderTraversal(root.left)\n",
    "        right = self.postorderTraversal(root.right)\n",
    "        res = left + right + res\n",
    "        return res\n",
    "    \n",
    "    def postorderIterative(self, root):\n",
    "        # using only one stack\n",
    "        def stackpeek(stack):\n",
    "            if len(stack)>0:\n",
    "                return stack[-1]\n",
    "            else:\n",
    "                return None\n",
    "            \n",
    "        if root is None:\n",
    "            return []\n",
    "        result = []\n",
    "        stack = []\n",
    "        node = root\n",
    "        prev = None\n",
    "        while len(stack)>0 or node is not None:\n",
    "            if node is not None:\n",
    "                stack.append(node)\n",
    "                node = node.left\n",
    "            else:\n",
    "                parent = stackpeek(stack)\n",
    "                if parent.right is None:\n",
    "                    prev = stack.pop()\n",
    "                    result.append(prev.val)\n",
    "                \n",
    "                    while len(stack)>0 and prev == stackpeek(stack).right :\n",
    "                        prev = stack.pop()\n",
    "                        result.append(prev.val)\n",
    "                else:\n",
    "                    node = parent.right\n",
    "        return result\n",
    "        \n",
    "        \n",
    "    def postorderIterative2(self, root): \n",
    "        # using two stacks \n",
    "        result = []\n",
    "        if root is None:\n",
    "            return result       \n",
    "        s1 = []\n",
    "        s2 = []\n",
    "        s1.append(root)\n",
    "\n",
    "        while (len(s1) > 0):\n",
    "            # Remove top item on s1 and append to s2\n",
    "            node = s1.pop()\n",
    "            s2.append(node)\n",
    "            # Push left and right children of removed item to s1\n",
    "            if node.left is not None:\n",
    "                s1.append(node.left)\n",
    "            if node.right is not None :\n",
    "                s1.append(node.right)\n",
    "                \n",
    "        while(len(s2) > 0):\n",
    "            node = s2.pop()\n",
    "            result.append(node.val)\n",
    "        return result\n",
    "    "
   ]
  },
  {
   "cell_type": "code",
   "execution_count": 42,
   "metadata": {},
   "outputs": [
    {
     "name": "stdout",
     "output_type": "stream",
     "text": [
      "[3, 4, 1, 6, 5, 2, 0]\n",
      "[3, 4, 1, 6, 5, 2, 0]\n",
      "[3, 4, 1, 6, 5, 2, 0]\n"
     ]
    }
   ],
   "source": [
    "sol = Solution()\n",
    "print(sol.postorderTraversal(root))\n",
    "print(sol.postorderIterative(root))\n",
    "print(sol.postorderIterative2(root))"
   ]
  },
  {
   "cell_type": "code",
   "execution_count": 45,
   "metadata": {
    "collapsed": true
   },
   "outputs": [],
   "source": [
    "class Solution2:\n",
    "    def postorderTraversal(self, root):\n",
    "        result, stack, current, prev = [], [], root, None\n",
    "        while stack or current:\n",
    "            if current:\n",
    "                stack.append(current)\n",
    "                current = current.left\n",
    "            else:\n",
    "                parent = stack[-1]\n",
    "                if parent.right in (None, prev):\n",
    "                    prev = stack.pop()\n",
    "                    result.append(prev.val)\n",
    "                else:\n",
    "                    current = parent.right\n",
    "        return result"
   ]
  },
  {
   "cell_type": "code",
   "execution_count": 46,
   "metadata": {},
   "outputs": [
    {
     "name": "stdout",
     "output_type": "stream",
     "text": [
      "[3, 4, 1, 6, 5, 2, 0]\n"
     ]
    }
   ],
   "source": [
    "sol2 = Solution2()\n",
    "print(sol2.postorderTraversal(root))"
   ]
  },
  {
   "cell_type": "code",
   "execution_count": null,
   "metadata": {
    "collapsed": true
   },
   "outputs": [],
   "source": []
  }
 ],
 "metadata": {
  "kernelspec": {
   "display_name": "Python 2",
   "language": "python",
   "name": "python2"
  },
  "language_info": {
   "codemirror_mode": {
    "name": "ipython",
    "version": 2
   },
   "file_extension": ".py",
   "mimetype": "text/x-python",
   "name": "python",
   "nbconvert_exporter": "python",
   "pygments_lexer": "ipython2",
   "version": "2.7.13"
  }
 },
 "nbformat": 4,
 "nbformat_minor": 2
}
