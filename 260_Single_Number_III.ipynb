{
 "cells": [
  {
   "cell_type": "markdown",
   "metadata": {},
   "source": [
    "Given an array of numbers nums, in which exactly two elements appear only once and all the other elements appear exactly twice. Find the two elements that appear only once.\n",
    "\n",
    "For example:\n",
    "\n",
    "    Given nums = [1, 2, 1, 3, 2, 5], return [3, 5].\n",
    "\n",
    "**Note: The order of the result is not important. **  So in the above example, [5, 3] is also correct.\n",
    "\n",
    "Your algorithm should run in linear runtime complexity. Could you implement it using only constant space complexity?"
   ]
  },
  {
   "cell_type": "markdown",
   "metadata": {},
   "source": [
    "---------\n",
    "### Two's Complement binary for Negative Integers:\n",
    "\n",
    "Negative numbers are written with a leading one instead of a leading zero. So if you are using only 8 bits for your twos-complement numbers, then you treat patterns from \"00000000\" to \"01111111\" as the whole numbers from 0 to 127, and reserve \"1xxxxxxx\" for writing negative numbers. A negative number, -x, is written using the bit pattern for (x-1) with all of the bits complemented (switched from 1 to 0 or 0 to 1). \n",
    "\n",
    "## -x = ~(x-1)\n",
    "\n",
    "So -1 is complement(1 - 1) = complement(0) = \"11111111\", and -10 is complement(10 - 1) = complement(9) = complement(\"00001001\") = \"11110110\". This means that negative numbers go all the way down to -128 (\"10000000\").\n",
    "\n",
    "Of course, Python doesn't use 8-bit numbers. It USED to use however many bits were native to your machine, but since that was non-portable, it has recently switched to using an INFINITE number of bits. Thus the number -5 is treated by bitwise operators as if it were written \"...1111111111111111111011\".\n",
    "\n",
    "- x << y\n",
    "Returns x with the bits shifted to the left by y places (and new bits on the right-hand-side are zeros). This is the same as multiplying x by 2\\*\\*y.\n",
    "\n",
    "- x >> y\n",
    "Returns x with the bits shifted to the right by y places. This is the same as //'ing x by 2\\*\\*y.\n",
    "\n",
    "- x & y\n",
    "Does a \"bitwise and\". Each bit of the output is 1 if the corresponding bit of x AND of y is 1, otherwise it's 0.\n",
    "\n",
    "- x | y\n",
    "Does a \"bitwise or\". Each bit of the output is 0 if the corresponding bit of x AND of y is 0, otherwise it's 1.\n",
    "\n",
    "- x ^ y\n",
    "Does a \"bitwise exclusive or, XOR\". Each bit of the output is the same as the corresponding bit in x if that bit in y is 0, and it's the complement of the bit in x if that bit in y is 1.\n",
    "\n",
    "- ~ x\n",
    "Returns the complement of x - the number you get by switching each 1 for a 0 and each 0 for a 1. This is the same as -x - 1. \n",
    "\n",
    "## ~x = -x -1 \n",
    "\n",
    "Just remember about that infinite series of 1 bits in a negative number, and these should all make sense."
   ]
  },
  {
   "cell_type": "markdown",
   "metadata": {},
   "source": [
    "这道题其实是很巧妙的利用了Single Number 单独的数字的解法，因为那道解法是可以准确的找出只出现了一次的数字，但前提是其他数字必须出现两次才行。而这题有两个数字都只出现了一次，那么我们如果能想办法把原数组分为两个小数组，不相同的两个数字分别在两个小数组中，这样分别调用Single Number 单独的数字的解法就可以得到答案。那么如何实现呢？\n",
    "\n",
    "首先我们先把原数组全部 异或 起来，那么我们会得到一个数字，这个数字是两个不相同的数字异或的结果，记做 axorb，我们取出其中任意一位为‘1’的位，为了方便起见，我们用 axorb &= -axorb 来取出最右端为‘1’的位，然后和原数组中的数字挨个相与，那么我们要求的两个不同的数字就被分到了两个小组中，分别将两个小组中的数字都异或起来，就可以得到最终结果了，两个只出现一次的数\n"
   ]
  },
  {
   "cell_type": "code",
   "execution_count": 3,
   "metadata": {
    "collapsed": true
   },
   "outputs": [],
   "source": [
    "class Solution(object):\n",
    "    def singleNumber(self, nums):\n",
    "        \"\"\"\n",
    "        :type nums: List[int]\n",
    "        :rtype: int\n",
    "        \"\"\"\n",
    "        axorb = 0\n",
    "        res = [ 0, 0 ]\n",
    "        for x in nums:\n",
    "            axorb = axorb ^ x\n",
    "        diffbit = axorb & -axorb\n",
    "        for x in nums:\n",
    "            if x & diffbit:\n",
    "                res[0] ^= x\n",
    "            else:\n",
    "                res[1] ^= x\n",
    "        return res"
   ]
  },
  {
   "cell_type": "code",
   "execution_count": 4,
   "metadata": {},
   "outputs": [
    {
     "name": "stdout",
     "output_type": "stream",
     "text": [
      "[3, 5]\n"
     ]
    }
   ],
   "source": [
    "nums = [1, 2, 1, 3, 2, 5]\n",
    "sol=Solution()\n",
    "print sol.singleNumber(nums)"
   ]
  },
  {
   "cell_type": "code",
   "execution_count": null,
   "metadata": {
    "collapsed": true
   },
   "outputs": [],
   "source": []
  }
 ],
 "metadata": {
  "kernelspec": {
   "display_name": "Python 2",
   "language": "python",
   "name": "python2"
  },
  "language_info": {
   "codemirror_mode": {
    "name": "ipython",
    "version": 2
   },
   "file_extension": ".py",
   "mimetype": "text/x-python",
   "name": "python",
   "nbconvert_exporter": "python",
   "pygments_lexer": "ipython2",
   "version": "2.7.13"
  }
 },
 "nbformat": 4,
 "nbformat_minor": 2
}
