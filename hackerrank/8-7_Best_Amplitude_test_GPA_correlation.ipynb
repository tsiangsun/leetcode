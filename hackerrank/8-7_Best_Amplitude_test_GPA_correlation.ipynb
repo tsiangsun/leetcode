{
 "cells": [
  {
   "cell_type": "code",
   "execution_count": 2,
   "metadata": {
    "collapsed": true
   },
   "outputs": [],
   "source": [
    "tests=5\n",
    "N = 5  #students\n",
    "GPA = [7.5, 7.7, 7.9, 8.1, 8.3]\n",
    "score = [[10.0, 30.0, 20.0, 40.0, 50.0], \n",
    "         [11.0, 9.0, 5.0, 19.0, 29.0], \n",
    "         [21.0, 9.0, 15.0, 19.0, 39.0], \n",
    "         [91.0, 9.0, 75.0, 19.0, 89.0], \n",
    "         [81.0, 99.0, 55.0, 59.0, 89.0]]"
   ]
  },
  {
   "cell_type": "code",
   "execution_count": 6,
   "metadata": {
    "collapsed": true
   },
   "outputs": [],
   "source": []
  },
  {
   "cell_type": "code",
   "execution_count": 14,
   "metadata": {
    "collapsed": false
   },
   "outputs": [
    {
     "name": "stdout",
     "output_type": "stream",
     "text": [
      "1\n"
     ]
    }
   ],
   "source": [
    "import math\n",
    "import sys\n",
    "sg = sum(GPA)\n",
    "gvar = sum([g*g for g in GPA])  - sg * sg /N\n",
    "testr = []\n",
    "for test in score:\n",
    "    st = sum(test)\n",
    "    tvar = sum([t*t for t in test])  - st * st / N\n",
    "    gt = zip(GPA, test)\n",
    "    gtvar = sum([x*y for (x,y) in gt]) - sg * st / N\n",
    "    r = gtvar / math.sqrt(gvar * tvar)\n",
    "    testr.append(r)\n",
    "\n",
    "#print testr\n",
    "mr = max(testr)\n",
    "print testr.index(mr)+1"
   ]
  },
  {
   "cell_type": "code",
   "execution_count": 15,
   "metadata": {
    "collapsed": false
   },
   "outputs": [
    {
     "ename": "ValueError",
     "evalue": "invalid literal for int() with base 10: ''",
     "output_type": "error",
     "traceback": [
      "\u001b[0;31m---------------------------------------------------------------------------\u001b[0m",
      "\u001b[0;31mValueError\u001b[0m                                Traceback (most recent call last)",
      "\u001b[0;32m<ipython-input-15-8d1b860e13c6>\u001b[0m in \u001b[0;36m<module>\u001b[0;34m()\u001b[0m\n\u001b[1;32m      3\u001b[0m \u001b[0;32mimport\u001b[0m \u001b[0msys\u001b[0m\u001b[0;34m\u001b[0m\u001b[0m\n\u001b[1;32m      4\u001b[0m \u001b[0;32mimport\u001b[0m \u001b[0mmath\u001b[0m\u001b[0;34m\u001b[0m\u001b[0m\n\u001b[0;32m----> 5\u001b[0;31m \u001b[0mT\u001b[0m \u001b[0;34m=\u001b[0m \u001b[0mint\u001b[0m\u001b[0;34m(\u001b[0m\u001b[0msys\u001b[0m\u001b[0;34m.\u001b[0m\u001b[0mstdin\u001b[0m\u001b[0;34m.\u001b[0m\u001b[0mreadline\u001b[0m\u001b[0;34m(\u001b[0m\u001b[0;34m)\u001b[0m\u001b[0;34m.\u001b[0m\u001b[0mstrip\u001b[0m\u001b[0;34m(\u001b[0m\u001b[0;34m)\u001b[0m\u001b[0;34m)\u001b[0m\u001b[0;34m\u001b[0m\u001b[0m\n\u001b[0m\u001b[1;32m      6\u001b[0m \u001b[0;32mfor\u001b[0m \u001b[0mi\u001b[0m \u001b[0;32min\u001b[0m \u001b[0mrange\u001b[0m\u001b[0;34m(\u001b[0m\u001b[0mT\u001b[0m\u001b[0;34m)\u001b[0m\u001b[0;34m:\u001b[0m\u001b[0;34m\u001b[0m\u001b[0m\n\u001b[1;32m      7\u001b[0m     \u001b[0mN\u001b[0m \u001b[0;34m=\u001b[0m \u001b[0mint\u001b[0m\u001b[0;34m(\u001b[0m\u001b[0msys\u001b[0m\u001b[0;34m.\u001b[0m\u001b[0mstdin\u001b[0m\u001b[0;34m.\u001b[0m\u001b[0mreadline\u001b[0m\u001b[0;34m(\u001b[0m\u001b[0;34m)\u001b[0m\u001b[0;34m.\u001b[0m\u001b[0mstrip\u001b[0m\u001b[0;34m(\u001b[0m\u001b[0;34m)\u001b[0m\u001b[0;34m)\u001b[0m\u001b[0;34m\u001b[0m\u001b[0m\n",
      "\u001b[0;31mValueError\u001b[0m: invalid literal for int() with base 10: ''"
     ]
    }
   ],
   "source": [
    "#my solution using pearson correlation coefficient:  \n",
    "# r = Sxy / sqrt(Sxx * Syy), where Sxy = (Sum x*y) - (Sum x) * (Sum y) / N\n",
    "import sys\n",
    "import math\n",
    "T = int(sys.stdin.readline().strip())\n",
    "for i in range(T):\n",
    "    N = int(sys.stdin.readline().strip())\n",
    "    GPA = map(float, sys.stdin.readline().split())\n",
    "    score = []\n",
    "    #print GPA\n",
    "    for t in range(5):\n",
    "        s = map(float, sys.stdin.readline().split())\n",
    "        score.append(s)\n",
    "    #print score\n",
    "    sg = sum(GPA)\n",
    "    gvar = sum([g*g for g in GPA])  - sg * sg /N\n",
    "    testr = []\n",
    "    for test in score:\n",
    "        st = sum(test)\n",
    "        tvar = sum([t*t for t in test])  - st * st / N\n",
    "        gt = zip(GPA, test)\n",
    "        gtvar = sum([x*y for (x,y) in gt]) - sg * st / N\n",
    "        if gvar !=0 and tvar !=0:\n",
    "            r = gtvar / math.sqrt(gvar * tvar)\n",
    "        else:\n",
    "            r = 0\n",
    "        testr.append(r)\n",
    "\n",
    "    #print testr\n",
    "    mr = max(testr)\n",
    "    print testr.index(mr)+1"
   ]
  },
  {
   "cell_type": "markdown",
   "metadata": {},
   "source": [
    "## Official solution: Correlation Matrix\n",
    "    \n",
    "Here, we are going to build a correlation matrix. The function name SS(x, y) goes for Sum of Squares. We are going to calculate the sum of squared matrix. Then we calculate the correlation matrix. If something went wrong, we just return 0 for the current value. Finally, the argmax function will return the better score based on the matrix we just built - i.e. it will automatically select the one with the highest correlation."
   ]
  },
  {
   "cell_type": "code",
   "execution_count": 16,
   "metadata": {
    "collapsed": false
   },
   "outputs": [
    {
     "name": "stdout",
     "output_type": "stream",
     "text": [
      "1\n",
      "4\n",
      "6.8 7.3 6.9 8.0\n",
      "1 1 1 1\n",
      "0 2 1.9 3\n",
      "0 0 0 1\n",
      "2 2 2 2\n",
      "5 6 7 8\n",
      "3\n"
     ]
    }
   ],
   "source": [
    "import numpy as np\n",
    "import math\n",
    "\n",
    "def main():\n",
    "    N = int(raw_input())\n",
    "    for _ in xrange(N):\n",
    "        raw_input()\n",
    "        ratings = [float(i) for i in raw_input().strip().split()]\n",
    "        corrs = [corr(ratings, [float(i) for i in raw_input().strip().split()]) for j in xrange(5)]\n",
    "        print np.argmax(corrs) + 1\n",
    "\n",
    "def SS(x, y):\n",
    "    return sum(i * j for (i, j) in zip(x, y)) - (sum(x) * sum(y)) / len(x)\n",
    "\n",
    "def corr(x, y):\n",
    "    try:\n",
    "        corrln = SS(x, y) / math.sqrt(abs(SS(x, x) * SS(y, y)))\n",
    "    except:\n",
    "        corrln = 0\n",
    "    return corrln\n",
    "\n",
    "if __name__ == \"__main__\":\n",
    "    main()"
   ]
  },
  {
   "cell_type": "code",
   "execution_count": null,
   "metadata": {
    "collapsed": true
   },
   "outputs": [],
   "source": []
  }
 ],
 "metadata": {
  "kernelspec": {
   "display_name": "Python 2",
   "language": "python",
   "name": "python2"
  },
  "language_info": {
   "codemirror_mode": {
    "name": "ipython",
    "version": 2
   },
   "file_extension": ".py",
   "mimetype": "text/x-python",
   "name": "python",
   "nbconvert_exporter": "python",
   "pygments_lexer": "ipython2",
   "version": "2.7.13"
  }
 },
 "nbformat": 4,
 "nbformat_minor": 2
}
