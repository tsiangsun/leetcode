{
 "cells": [
  {
   "cell_type": "code",
   "execution_count": 2,
   "metadata": {
    "collapsed": false
   },
   "outputs": [
    {
     "name": "stdout",
     "output_type": "stream",
     "text": [
      "3\n",
      "{[()]}\n",
      "{[(])}\n",
      "{{[[(())]]}}\n"
     ]
    }
   ],
   "source": [
    "#!/bin/python\n",
    "\n",
    "import sys\n",
    "\n",
    "li = []\n",
    "t = int(raw_input().strip())\n",
    "for a0 in xrange(t):\n",
    "    s = raw_input().strip()\n",
    "    li.append(s)"
   ]
  },
  {
   "cell_type": "code",
   "execution_count": 10,
   "metadata": {
    "collapsed": false
   },
   "outputs": [
    {
     "name": "stdout",
     "output_type": "stream",
     "text": [
      "['{[()]}', '{[(])}', '{{[[(())]]}}']\n"
     ]
    }
   ],
   "source": [
    "print li\n",
    "my = li[0]\n",
    "\n",
    "class Stack:\n",
    "    def __init__(self):\n",
    "        self.items = []\n",
    "\n",
    "    def isEmpty(self):\n",
    "        return self.items == []\n",
    "\n",
    "    def push(self, item):\n",
    "        self.items.append(item)\n",
    "\n",
    "    def pop(self):\n",
    "        return self.items.pop()\n",
    "\n",
    "    def peek(self):\n",
    "        return self.items[len(self.items)-1]\n",
    "\n",
    "    def size(self):\n",
    "        return len(self.items)\n",
    "    "
   ]
  },
  {
   "cell_type": "code",
   "execution_count": 22,
   "metadata": {
    "collapsed": false
   },
   "outputs": [
    {
     "name": "stdout",
     "output_type": "stream",
     "text": [
      "YES\n",
      "NO\n",
      "YES\n"
     ]
    }
   ],
   "source": [
    "for my in li:\n",
    "    mystack = Stack()\n",
    "    flag = 0\n",
    "    md = {')':'(', ']':'[', '}':'{'}\n",
    "    for c in my:\n",
    "        if c in ('(', '[', '{'):\n",
    "            mystack.push(c)\n",
    "        else: \n",
    "            if mystack.isEmpty():\n",
    "                flag = -1 \n",
    "                break\n",
    "            else: \n",
    "                last = mystack.pop()\n",
    "                if md[c] != last :\n",
    "                    flag = -2\n",
    "                    break\n",
    "    if mystack.isEmpty():\n",
    "        if flag == 0:\n",
    "            print 'YES'\n",
    "        else:\n",
    "            print 'NO'\n",
    "    else:\n",
    "        print 'NO'\n",
    "\n"
   ]
  },
  {
   "cell_type": "code",
   "execution_count": null,
   "metadata": {
    "collapsed": true
   },
   "outputs": [],
   "source": [
    "import sys\n",
    "li = []\n",
    "md = {')':'(', ']':'[', '}':'{'}\n",
    "\n",
    "t = int(raw_input().strip())\n",
    "for a0 in xrange(t):\n",
    "    s = raw_input().strip()\n",
    "    li.append(s)\n",
    "    \n",
    "class Stack:\n",
    "    def __init__(self):\n",
    "        self.items = []\n",
    "\n",
    "    def isEmpty(self):\n",
    "        return self.items == []\n",
    "\n",
    "    def push(self, item):\n",
    "        self.items.append(item)\n",
    "\n",
    "    def pop(self):\n",
    "        return self.items.pop()\n",
    "\n",
    "    def peek(self):\n",
    "        return self.items[len(self.items)-1]\n",
    "\n",
    "    def size(self):\n",
    "        return len(self.items)\n",
    "    \n",
    "md = {')':'(', ']':'[', '}':'{'}\n",
    "\n",
    "for my in li:\n",
    "    mystack = Stack()\n",
    "    flag = 0\n",
    "    md = {')':'(', ']':'[', '}':'{'}\n",
    "    for c in my:\n",
    "        if c in ('(', '[', '{'):\n",
    "            mystack.push(c)\n",
    "        else: \n",
    "            if mystack.isEmpty():\n",
    "                flag = -1 \n",
    "                break\n",
    "            else: \n",
    "                last = mystack.pop()\n",
    "                if md[c] != last :\n",
    "                    flag = -2\n",
    "                    break\n",
    "    if mystack.isEmpty():\n",
    "        if flag == 0:\n",
    "            print 'YES'\n",
    "        else:\n",
    "            print 'NO'\n",
    "    else:\n",
    "        print 'NO'"
   ]
  },
  {
   "cell_type": "markdown",
   "metadata": {},
   "source": [
    "Official solution: http://thedataincubator.github.io/coding-challenges/challenges/balanced-parentheses.html"
   ]
  },
  {
   "cell_type": "code",
   "execution_count": null,
   "metadata": {
    "collapsed": true
   },
   "outputs": [],
   "source": [
    "PAIR = {')':'(','}':'{',']':'['}\n",
    "\n",
    "def balanced(s):\n",
    "    stack = []\n",
    "    for char in s:\n",
    "        if char in '({[':\n",
    "            stack.append(char)\n",
    "        else:\n",
    "            if not stack or stack.pop() != PAIR[char]:\n",
    "                return False\n",
    "    if stack:\n",
    "        return False\n",
    "    return True\n",
    "\n",
    "if __name__ == '__main__':\n",
    "    import sys\n",
    "    _ = sys.stdin.readline()\n",
    "    for line in sys.stdin:\n",
    "        print 'YES' if balanced(line.strip()) else 'NO'"
   ]
  }
 ],
 "metadata": {
  "kernelspec": {
   "display_name": "Python 2",
   "language": "python",
   "name": "python2"
  },
  "language_info": {
   "codemirror_mode": {
    "name": "ipython",
    "version": 2
   },
   "file_extension": ".py",
   "mimetype": "text/x-python",
   "name": "python",
   "nbconvert_exporter": "python",
   "pygments_lexer": "ipython2",
   "version": "2.7.13"
  }
 },
 "nbformat": 4,
 "nbformat_minor": 2
}
