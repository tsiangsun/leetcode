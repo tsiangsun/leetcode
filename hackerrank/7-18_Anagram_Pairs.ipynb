{
 "cells": [
  {
   "cell_type": "code",
   "execution_count": 1,
   "metadata": {
    "collapsed": true
   },
   "outputs": [],
   "source": [
    "s='pvmupwjjjf'"
   ]
  },
  {
   "cell_type": "code",
   "execution_count": 14,
   "metadata": {
    "collapsed": false
   },
   "outputs": [
    {
     "name": "stdout",
     "output_type": "stream",
     "text": [
      "[('j', [6, 7, 8]), ('p', [0, 4])]\n"
     ]
    },
    {
     "data": {
      "text/plain": [
       "0"
      ]
     },
     "execution_count": 14,
     "metadata": {},
     "output_type": "execute_result"
    }
   ],
   "source": [
    "def sherlockAndAnagrams(s):\n",
    "    # Complete this function\n",
    "    count = 0\n",
    "    dic = dict()\n",
    "    for i, c in enumerate(s):\n",
    "        if c in dic:\n",
    "            dic[c].append(i)\n",
    "        else:\n",
    "            dic[c]=[i]\n",
    "    print [ (key, value) for key, value in dic.items() if len(value)>1]\n",
    "    return count\n",
    " \n",
    "sherlockAndAnagrams(s)"
   ]
  },
  {
   "cell_type": "code",
   "execution_count": 12,
   "metadata": {
    "collapsed": false
   },
   "outputs": [
    {
     "name": "stdout",
     "output_type": "stream",
     "text": [
      "[('f', [9]), ('j', [6, 7, 8]), ('m', [2]), ('p', [0, 4]), ('u', [3]), ('w', [5]), ('v', [1])]\n"
     ]
    },
    {
     "data": {
      "text/plain": [
       "0"
      ]
     },
     "execution_count": 12,
     "metadata": {},
     "output_type": "execute_result"
    }
   ],
   "source": [
    "sherlockAndAnagrams(s)"
   ]
  },
  {
   "cell_type": "code",
   "execution_count": 15,
   "metadata": {
    "collapsed": true
   },
   "outputs": [],
   "source": [
    "from collections import Counter\n",
    "\n",
    "def sort_string(word):\n",
    "    return ''.join(sorted(word))\n",
    "\n",
    "def count_anagrams(word):\n",
    "    l = len(word)\n",
    "    substrings = [sort_string(word[i:i+n]) for n in xrange(1, l)\n",
    "                  for i in xrange(0, l-n+1)]\n",
    "    counter = Counter(substrings)\n",
    "    sum_pairs = 0\n",
    "    for v in counter.values():\n",
    "        sum_pairs += v * (v-1) / 2\n",
    "    return sum_pairs\n",
    "\n",
    "if __name__ == '__main__':\n",
    "    import sys\n",
    "    _ = sys.stdin.readline()\n",
    "    for line in sys.stdin:\n",
    "        print count_anagrams(line.strip())"
   ]
  },
  {
   "cell_type": "code",
   "execution_count": null,
   "metadata": {
    "collapsed": true
   },
   "outputs": [],
   "source": []
  }
 ],
 "metadata": {
  "kernelspec": {
   "display_name": "Python 2",
   "language": "python",
   "name": "python2"
  },
  "language_info": {
   "codemirror_mode": {
    "name": "ipython",
    "version": 2
   },
   "file_extension": ".py",
   "mimetype": "text/x-python",
   "name": "python",
   "nbconvert_exporter": "python",
   "pygments_lexer": "ipython2",
   "version": "2.7.13"
  }
 },
 "nbformat": 4,
 "nbformat_minor": 2
}
