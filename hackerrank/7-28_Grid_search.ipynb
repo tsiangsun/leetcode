{
 "cells": [
  {
   "cell_type": "code",
   "execution_count": 1,
   "metadata": {
    "collapsed": false
   },
   "outputs": [
    {
     "name": "stdout",
     "output_type": "stream",
     "text": [
      "1\n",
      "10 10\n",
      "7283455864\n",
      "6731158619\n",
      "8988242643\n",
      "3830589324\n",
      "2229505813\n",
      "5633845374\n",
      "6473530293\n",
      "7053106601\n",
      "0834282956\n",
      "4607924137\n",
      "3 4\n",
      "9505\n",
      "3845\n",
      "3530\n"
     ]
    }
   ],
   "source": [
    "import sys\n",
    "\n",
    "t = int(raw_input().strip())\n",
    "for a0 in xrange(t):\n",
    "    R,C = raw_input().strip().split(' ')\n",
    "    R,C = [int(R),int(C)]\n",
    "    G = []\n",
    "    G_i = 0\n",
    "    for G_i in xrange(R):\n",
    "        G_t = str(raw_input().strip())\n",
    "        G.append(G_t)\n",
    "    r,c = raw_input().strip().split(' ')\n",
    "    r,c = [int(r),int(c)]\n",
    "    P = []\n",
    "    P_i = 0\n",
    "    for P_i in xrange(r):\n",
    "        P_t = str(raw_input().strip())\n",
    "        P.append(P_t)"
   ]
  },
  {
   "cell_type": "code",
   "execution_count": 2,
   "metadata": {
    "collapsed": false
   },
   "outputs": [
    {
     "data": {
      "text/plain": [
       "['7283455864',\n",
       " '6731158619',\n",
       " '8988242643',\n",
       " '3830589324',\n",
       " '2229505813',\n",
       " '5633845374',\n",
       " '6473530293',\n",
       " '7053106601',\n",
       " '0834282956',\n",
       " '4607924137']"
      ]
     },
     "execution_count": 2,
     "metadata": {},
     "output_type": "execute_result"
    }
   ],
   "source": [
    "G"
   ]
  },
  {
   "cell_type": "code",
   "execution_count": 6,
   "metadata": {
    "collapsed": false
   },
   "outputs": [
    {
     "name": "stdout",
     "output_type": "stream",
     "text": [
      "10 10 3 4\n"
     ]
    }
   ],
   "source": [
    "print R, C, r, c"
   ]
  },
  {
   "cell_type": "code",
   "execution_count": 13,
   "metadata": {
    "collapsed": false
   },
   "outputs": [
    {
     "name": "stdout",
     "output_type": "stream",
     "text": [
      "YES\n"
     ]
    }
   ],
   "source": [
    "flag=0\n",
    "for i, row in enumerate(G):\n",
    "    a = row.find(P[0])\n",
    "    while a>=0:\n",
    "        for j in range(1,r):\n",
    "            b = G[i+j].find(P[j],a)\n",
    "            if b!=a:\n",
    "                flag=0\n",
    "                break\n",
    "            else:\n",
    "                if j==r-1:\n",
    "                    flag=1\n",
    "                    print 'YES'\n",
    "        a = row.find(P[0],a+1)\n",
    "if flag==0:\n",
    "    print 'NO'"
   ]
  },
  {
   "cell_type": "code",
   "execution_count": 11,
   "metadata": {
    "collapsed": true
   },
   "outputs": [],
   "source": [
    "def gird_search(G,P,r):\n",
    "    flag=0\n",
    "    for i, row in enumerate(G):\n",
    "        a = row.find(P[0])\n",
    "        while a>=0:\n",
    "            for j in range(1,r):\n",
    "                b = G[i+j].find(P[j],a)\n",
    "                if b!=a:\n",
    "                    flag=0\n",
    "                    break\n",
    "                else:\n",
    "                    if j==r-1:\n",
    "                        flag=1\n",
    "                        return 'YES'\n",
    "            a = row.find(P[0],a+1)\n",
    "    if flag==0:\n",
    "        return 'NO'"
   ]
  },
  {
   "cell_type": "code",
   "execution_count": 14,
   "metadata": {
    "collapsed": false
   },
   "outputs": [
    {
     "data": {
      "text/plain": [
       "'YES'"
      ]
     },
     "execution_count": 14,
     "metadata": {},
     "output_type": "execute_result"
    }
   ],
   "source": [
    "gird_search(G,P,r)"
   ]
  },
  {
   "cell_type": "markdown",
   "metadata": {},
   "source": [
    "# Official solution:\n",
    "http://thedataincubator.github.io/coding-challenges/challenges/the-grid-search.html\n",
    "\n",
    "## Pattern GO\n",
    "\n",
    "The aim is to look for pattern in a grid. We need to figure out two things:\n",
    "\n",
    "    1 - How are we going to represent the grid and the pattern?\n",
    "\n",
    "    2 - How are we going to search through the grid to find the pattern?\n",
    "\n",
    "For this solution, in the main() function, we initialize the grid and the pattern. Instead of creating a list of lists (the common way to implement a matrix), we decide to ** create a list of strings, each string representing a row of the grid matrix**. The aim here is to compare substrings to substrings, instead of comparing characters to characters.\n",
    "\n",
    "Then, we search through the grid, row by row: find_all will take a row of the grid and the first row of the pattern. We look for the full pattern only if we found a match in the previous step. If we do not find an exact match, we break the loop as soon as possible, and restart (this optimization is actually not necessary to pass all HR tests).\n",
    "\n",
    "    Last, we print YES/NO as needed.\n",
    "\n",
    "\n",
    "## Optimization\n",
    "\n",
    "When we work on structures such as matrices, the aim is to think about cases we can avoid. Here, we don’t need to check every cell of the matrix. In the first example, the grid is 10x10 and the pattern is 3x4. Let’s say we are on the first row r, which is length 10. If we haven’t found the pattern by index 7, then we don’t need to check the rest of row (since the rest of the row is too short to contain the pattern). The only case when this won’t be more efficient is if the pattern has one row. The, we’ll need to check every cell."
   ]
  },
  {
   "cell_type": "code",
   "execution_count": 15,
   "metadata": {
    "collapsed": false
   },
   "outputs": [
    {
     "name": "stdout",
     "output_type": "stream",
     "text": [
      "\n"
     ]
    },
    {
     "ename": "SyntaxError",
     "evalue": "unexpected EOF while parsing (<string>, line 0)",
     "output_type": "error",
     "traceback": [
      "\u001b[0;36m  File \u001b[0;32m\"<string>\"\u001b[0;36m, line \u001b[0;32munknown\u001b[0m\n\u001b[0;31m    \u001b[0m\n\u001b[0m    ^\u001b[0m\n\u001b[0;31mSyntaxError\u001b[0m\u001b[0;31m:\u001b[0m unexpected EOF while parsing\n"
     ]
    }
   ],
   "source": [
    "def find_all(string, substring):\n",
    "    index = []\n",
    "    L = len(string)\n",
    "    l = len(substring)\n",
    "    # Needed for optimization\n",
    "    for i in xrange(L-l+1):\n",
    "        # Check if current grid row is equal to the first row of the pattern\n",
    "        if string[i:i+l] == substring:\n",
    "            index.append(i)\n",
    "    return index\n",
    "\n",
    "\n",
    "def find_pattern(grid, pattern):\n",
    "    # Needed for optimization\n",
    "    # R = rows, C = columns (grid is a list of strings)\n",
    "    R, C = len(grid), len(grid[0])\n",
    "    r, c = len(pattern), len(pattern[0])\n",
    "    for i in xrange(R-r+1):\n",
    "        indeces = find_all(grid[i], pattern[0])\n",
    "        # Continue only if we found a match for the first row of 'pattern'\n",
    "        if indeces:\n",
    "            for idx in indeces:\n",
    "                for j in xrange(i+1, i+r):\n",
    "                    if pattern[j-i] != grid[j][idx:idx+c]:\n",
    "                        break\n",
    "                else:\n",
    "                    # Loop finished normally\n",
    "                    print 'YES'\n",
    "                    return\n",
    "\n",
    "    print 'NO'\n",
    "    return\n",
    "\n",
    "def main():\n",
    "    T = input()\n",
    "    for i in xrange(T):\n",
    "        R, C = map(int, raw_input().strip().split())\n",
    "        grid = []\n",
    "        for k in xrange(R):\n",
    "            grid.append(raw_input().strip())\n",
    "        r, c = map(int, raw_input().strip().split())\n",
    "        pattern = []\n",
    "        for k in xrange(r):\n",
    "            pattern.append(raw_input().strip())\n",
    "        # Initialize the main grid and the pattern\n",
    "        find_pattern(grid, pattern)\n",
    "\n",
    "if __name__ == '__main__':\n",
    "    main()"
   ]
  },
  {
   "cell_type": "code",
   "execution_count": null,
   "metadata": {
    "collapsed": true
   },
   "outputs": [],
   "source": []
  }
 ],
 "metadata": {
  "kernelspec": {
   "display_name": "Python 2",
   "language": "python",
   "name": "python2"
  },
  "language_info": {
   "codemirror_mode": {
    "name": "ipython",
    "version": 2
   },
   "file_extension": ".py",
   "mimetype": "text/x-python",
   "name": "python",
   "nbconvert_exporter": "python",
   "pygments_lexer": "ipython2",
   "version": "2.7.13"
  }
 },
 "nbformat": 4,
 "nbformat_minor": 2
}
