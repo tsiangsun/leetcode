{
 "cells": [
  {
   "cell_type": "code",
   "execution_count": 41,
   "metadata": {
    "collapsed": true,
    "deletable": true,
    "editable": true
   },
   "outputs": [],
   "source": [
    "from collections import defaultdict\n",
    "class Graph(object):\n",
    "    \n",
    "    def __init__(self):\n",
    "        self.nodes = defaultdict(list)\n",
    " \n",
    "    def addNode(self,u):\n",
    "        self.nodes[u] = []\n",
    "        \n",
    "    # function to add an undirected edge between u, v\n",
    "    def addEdge(self,u,v):\n",
    "        self.nodes[u].append(v)\n",
    "        self.nodes[v].append(u)\n",
    "        \n",
    "    def BFS(self, head):\n",
    "        self.dist = [-1]*(len(self.nodes)+1)\n",
    "        visited = [0]*(len(self.nodes)+1)\n",
    "        queue = []\n",
    "        queue.append(head)\n",
    "        visited[head] = 1 \n",
    "        self.dist[head] = 0\n",
    "        \n",
    "        while queue!=[]:\n",
    "            s = queue.pop(0)\n",
    "            #print s, \n",
    "            for n in self.nodes[s]:\n",
    "                if visited[n] == 0:\n",
    "                    visited[n] = 1\n",
    "                    self.dist[n] = self.dist[s] + 6\n",
    "                    queue.append(n)\n",
    "            \n",
    "        self.dist.pop(head)\n",
    "        self.dist.pop(0)\n",
    "        for x in range(len(self.dist)):\n",
    "            print self.dist[x],\n",
    "        print\n",
    "        return 0\n",
    "                \n",
    "        \n",
    "    def DFSUtil(self,v,visited):\n",
    "        visited[v]= 1\n",
    "        print v,\n",
    "        for i in self.nodes[v]:\n",
    "            if visited[i] == 0:\n",
    "                self.DFSUtil(i, visited)\n",
    " \n",
    "    def DFS(self,v):\n",
    "        visited = [0]*(len(self.graph))\n",
    "        self.DFSUtil(v,visited)\n",
    "                  \n",
    "    "
   ]
  },
  {
   "cell_type": "code",
   "execution_count": 42,
   "metadata": {
    "collapsed": true,
    "deletable": true,
    "editable": true
   },
   "outputs": [],
   "source": [
    "n=4\n",
    "m=3\n",
    "head=1\n",
    "\n",
    "g = Graph()\n",
    "for i in range(1,n+1):\n",
    "    g.addNode(i)\n",
    "    \n"
   ]
  },
  {
   "cell_type": "code",
   "execution_count": 43,
   "metadata": {
    "collapsed": true,
    "deletable": true,
    "editable": true
   },
   "outputs": [],
   "source": [
    "g.addEdge(1, 2)\n",
    "g.addEdge(1, 3)"
   ]
  },
  {
   "cell_type": "code",
   "execution_count": 44,
   "metadata": {
    "collapsed": false,
    "deletable": true,
    "editable": true
   },
   "outputs": [
    {
     "name": "stdout",
     "output_type": "stream",
     "text": [
      "defaultdict(<type 'list'>, {1: [2, 3], 2: [1], 3: [1], 4: []})\n"
     ]
    }
   ],
   "source": [
    "print g.nodes"
   ]
  },
  {
   "cell_type": "code",
   "execution_count": 37,
   "metadata": {
    "collapsed": false,
    "deletable": true,
    "editable": true
   },
   "outputs": [
    {
     "data": {
      "text/plain": [
       "4"
      ]
     },
     "execution_count": 37,
     "metadata": {},
     "output_type": "execute_result"
    }
   ],
   "source": [
    "len(g.nodes)"
   ]
  },
  {
   "cell_type": "code",
   "execution_count": 28,
   "metadata": {
    "collapsed": false,
    "deletable": true,
    "editable": true
   },
   "outputs": [
    {
     "name": "stdout",
     "output_type": "stream",
     "text": [
      "[1, 2, 3]\n",
      "1\n",
      "[2, 3]\n"
     ]
    }
   ],
   "source": [
    "queue = []\n",
    "queue.append(1)\n",
    "queue.append(2)\n",
    "queue.append(3)\n",
    "print queue\n",
    "print queue.pop(0)\n",
    "print queue"
   ]
  },
  {
   "cell_type": "code",
   "execution_count": 38,
   "metadata": {
    "collapsed": false,
    "deletable": true,
    "editable": true
   },
   "outputs": [
    {
     "name": "stdout",
     "output_type": "stream",
     "text": [
      "1 2 3 [6, 6, -1]\n"
     ]
    }
   ],
   "source": [
    "g.BFS(1)"
   ]
  },
  {
   "cell_type": "code",
   "execution_count": 39,
   "metadata": {
    "collapsed": false,
    "deletable": true,
    "editable": true
   },
   "outputs": [
    {
     "name": "stdout",
     "output_type": "stream",
     "text": [
      "[6, 6, -1]\n"
     ]
    }
   ],
   "source": [
    "print g.dist"
   ]
  },
  {
   "cell_type": "code",
   "execution_count": 46,
   "metadata": {
    "collapsed": false,
    "deletable": true,
    "editable": true
   },
   "outputs": [
    {
     "ename": "ValueError",
     "evalue": "invalid literal for int() with base 10: ''",
     "output_type": "error",
     "traceback": [
      "\u001b[0;31m---------------------------------------------------------------------------\u001b[0m",
      "\u001b[0;31mValueError\u001b[0m                                Traceback (most recent call last)",
      "\u001b[0;32m<ipython-input-46-be5f2122711e>\u001b[0m in \u001b[0;36m<module>\u001b[0;34m()\u001b[0m\n\u001b[1;32m     42\u001b[0m \u001b[0;34m\u001b[0m\u001b[0m\n\u001b[1;32m     43\u001b[0m \u001b[0;34m\u001b[0m\u001b[0m\n\u001b[0;32m---> 44\u001b[0;31m \u001b[0mq\u001b[0m \u001b[0;34m=\u001b[0m \u001b[0mint\u001b[0m\u001b[0;34m(\u001b[0m\u001b[0msys\u001b[0m\u001b[0;34m.\u001b[0m\u001b[0mstdin\u001b[0m\u001b[0;34m.\u001b[0m\u001b[0mreadline\u001b[0m\u001b[0;34m(\u001b[0m\u001b[0;34m)\u001b[0m\u001b[0;34m.\u001b[0m\u001b[0mstrip\u001b[0m\u001b[0;34m(\u001b[0m\u001b[0;34m)\u001b[0m\u001b[0;34m)\u001b[0m\u001b[0;34m\u001b[0m\u001b[0m\n\u001b[0m\u001b[1;32m     45\u001b[0m \u001b[0;32mfor\u001b[0m \u001b[0mi\u001b[0m \u001b[0;32min\u001b[0m \u001b[0mrange\u001b[0m\u001b[0;34m(\u001b[0m\u001b[0mq\u001b[0m\u001b[0;34m)\u001b[0m\u001b[0;34m:\u001b[0m\u001b[0;34m\u001b[0m\u001b[0m\n\u001b[1;32m     46\u001b[0m     \u001b[0mg\u001b[0m \u001b[0;34m=\u001b[0m \u001b[0mGraph\u001b[0m\u001b[0;34m(\u001b[0m\u001b[0;34m)\u001b[0m\u001b[0;34m\u001b[0m\u001b[0m\n",
      "\u001b[0;31mValueError\u001b[0m: invalid literal for int() with base 10: ''"
     ]
    }
   ],
   "source": [
    "# my solution\n",
    "import sys\n",
    "from collections import defaultdict\n",
    "\n",
    "\n",
    "class Graph(object):\n",
    "    \n",
    "    def __init__(self):\n",
    "        self.nodes = defaultdict(list)\n",
    " \n",
    "    def addNode(self,u):\n",
    "        self.nodes[u] = []\n",
    "        \n",
    "    # function to add an undirected edge between u, v\n",
    "    def addEdge(self,u,v):\n",
    "        self.nodes[u].append(v)\n",
    "        self.nodes[v].append(u)\n",
    "        \n",
    "    def BFS(self, head):\n",
    "        self.dist = [-1]*(len(self.nodes)+1)\n",
    "        visited = [0]*(len(self.nodes)+1)\n",
    "        queue = []\n",
    "        queue.append(head)\n",
    "        visited[head] = 1 \n",
    "        self.dist[head] = 0\n",
    "        \n",
    "        while queue!=[]:\n",
    "            s = queue.pop(0)\n",
    "            #print s, \n",
    "            for n in self.nodes[s]:\n",
    "                if visited[n] == 0:\n",
    "                    visited[n] = 1\n",
    "                    self.dist[n] = self.dist[s] + 6\n",
    "                    queue.append(n)\n",
    "            \n",
    "        self.dist.pop(head)\n",
    "        self.dist.pop(0)\n",
    "        for x in range(len(self.dist)):\n",
    "            print self.dist[x],\n",
    "        print\n",
    "        return 0\n",
    "                \n",
    "     \n",
    "q = int(sys.stdin.readline().strip())\n",
    "for i in range(q):\n",
    "    g = Graph()\n",
    "    n, m = map(int, sys.stdin.readline().strip().split())\n",
    "    for x in range(1,n+1):\n",
    "        g.addNode(x)\n",
    "    for edge in range(m):\n",
    "        u, v = map(int, sys.stdin.readline().strip().split())\n",
    "        g.addEdge(u,v)\n",
    "    head = int(sys.stdin.readline().strip())\n",
    "    g.BFS(head)"
   ]
  },
  {
   "cell_type": "markdown",
   "metadata": {
    "deletable": true,
    "editable": true
   },
   "source": [
    "#  Official solution:\n",
    "http://thedataincubator.github.io/coding-challenges/challenges/bfsshortreach.html"
   ]
  },
  {
   "cell_type": "code",
   "execution_count": 45,
   "metadata": {
    "collapsed": false,
    "deletable": true,
    "editable": true
   },
   "outputs": [
    {
     "ename": "ValueError",
     "evalue": "invalid literal for int() with base 10: ''",
     "output_type": "error",
     "traceback": [
      "\u001b[0;31m---------------------------------------------------------------------------\u001b[0m",
      "\u001b[0;31mValueError\u001b[0m                                Traceback (most recent call last)",
      "\u001b[0;32m<ipython-input-45-5d969d2882fb>\u001b[0m in \u001b[0;36m<module>\u001b[0;34m()\u001b[0m\n\u001b[1;32m     24\u001b[0m \u001b[0;32mif\u001b[0m \u001b[0m__name__\u001b[0m \u001b[0;34m==\u001b[0m \u001b[0;34m'__main__'\u001b[0m\u001b[0;34m:\u001b[0m\u001b[0;34m\u001b[0m\u001b[0m\n\u001b[1;32m     25\u001b[0m     \u001b[0;32mimport\u001b[0m \u001b[0msys\u001b[0m\u001b[0;34m\u001b[0m\u001b[0m\n\u001b[0;32m---> 26\u001b[0;31m     \u001b[0mT\u001b[0m \u001b[0;34m=\u001b[0m \u001b[0mint\u001b[0m\u001b[0;34m(\u001b[0m\u001b[0msys\u001b[0m\u001b[0;34m.\u001b[0m\u001b[0mstdin\u001b[0m\u001b[0;34m.\u001b[0m\u001b[0mreadline\u001b[0m\u001b[0;34m(\u001b[0m\u001b[0;34m)\u001b[0m\u001b[0;34m)\u001b[0m\u001b[0;34m\u001b[0m\u001b[0m\n\u001b[0m\u001b[1;32m     27\u001b[0m     \u001b[0;32mfor\u001b[0m \u001b[0mi\u001b[0m \u001b[0;32min\u001b[0m \u001b[0mxrange\u001b[0m\u001b[0;34m(\u001b[0m\u001b[0mT\u001b[0m\u001b[0;34m)\u001b[0m\u001b[0;34m:\u001b[0m\u001b[0;34m\u001b[0m\u001b[0m\n\u001b[1;32m     28\u001b[0m         \u001b[0mgraph\u001b[0m\u001b[0;34m,\u001b[0m \u001b[0mN\u001b[0m \u001b[0;34m=\u001b[0m \u001b[0mload_graph\u001b[0m\u001b[0;34m(\u001b[0m\u001b[0msys\u001b[0m\u001b[0;34m.\u001b[0m\u001b[0mstdin\u001b[0m\u001b[0;34m)\u001b[0m\u001b[0;34m\u001b[0m\u001b[0m\n",
      "\u001b[0;31mValueError\u001b[0m: invalid literal for int() with base 10: ''"
     ]
    }
   ],
   "source": [
    "from collections import defaultdict\n",
    "\n",
    "def load_graph(stream):\n",
    "    N, M = map(int, stream.readline().split())\n",
    "    graph = defaultdict(list)\n",
    "    for i in xrange(M):\n",
    "        a, b = map(int, stream.readline().split())\n",
    "        graph[a].append(b)\n",
    "        graph[b].append(a)\n",
    "    return graph, N\n",
    "\n",
    "def calc_distances(graph, N, S):\n",
    "    dists = defaultdict(lambda: -1)\n",
    "    dists[S] = 0\n",
    "    queue = [S]\n",
    "    while queue:\n",
    "        v = queue.pop(0)\n",
    "        for neighbor in graph[v]:\n",
    "            if dists[neighbor] < 0:\n",
    "                queue.append(neighbor)\n",
    "                dists[neighbor] = dists[v] + 6\n",
    "    print \" \".join(str(dists[n]) for n in xrange(1, N+1) if n != S)\n",
    "\n",
    "if __name__ == '__main__':\n",
    "    import sys\n",
    "    T = int(sys.stdin.readline())\n",
    "    for i in xrange(T):\n",
    "        graph, N = load_graph(sys.stdin)\n",
    "        S = int(sys.stdin.readline())\n",
    "        calc_distances(graph, N, S)"
   ]
  },
  {
   "cell_type": "markdown",
   "metadata": {
    "collapsed": true,
    "deletable": true,
    "editable": true
   },
   "source": [
    "# Graph:  Depth First Search & Breath First Search \n"
   ]
  },
  {
   "cell_type": "code",
   "execution_count": 1,
   "metadata": {
    "collapsed": true
   },
   "outputs": [],
   "source": [
    "from collections import defaultdict\n",
    "class Graph(object):\n",
    "    \n",
    "    def __init__(self):\n",
    "        self.nodes = defaultdict(list)\n",
    " \n",
    "    def addNode(self,u):\n",
    "        self.nodes[u] = []\n",
    "        \n",
    "    # function to add an undirected edge between u, v\n",
    "    def addEdge(self,u,v):\n",
    "        self.nodes[u].append(v)\n",
    "        self.nodes[v].append(u)\n",
    "        \n",
    "    def BFS(self, head):\n",
    "        visited = [0]*(len(self.nodes))\n",
    "        queue = []\n",
    "        queue.append(head)\n",
    "        visited[head] = 1 \n",
    "        while queue:\n",
    "            s = queue.pop(0)\n",
    "            print s, \n",
    "            for n in self.nodes[s]:\n",
    "                if visited[n] == 0:\n",
    "                    visited[n] = 1\n",
    "                    queue.append(n)\n",
    "                \n",
    "        \n",
    "    def DFSUtil(self, s, visited):\n",
    "        visited[s]= 1\n",
    "        print s,\n",
    "        for i in self.nodes[s]:\n",
    "            if visited[i] == 0:\n",
    "                self.DFSUtil(i, visited)\n",
    " \n",
    "    def DFS(self, head):\n",
    "        visited = [0]*(len(self.nodes))\n",
    "        self.DFSUtil(head,visited)"
   ]
  },
  {
   "cell_type": "code",
   "execution_count": 2,
   "metadata": {
    "collapsed": true
   },
   "outputs": [],
   "source": [
    "g = Graph()\n",
    "n = 6\n",
    "for i in range(0,n):\n",
    "    g.addNode(i)"
   ]
  },
  {
   "cell_type": "code",
   "execution_count": 6,
   "metadata": {
    "collapsed": true
   },
   "outputs": [],
   "source": [
    "g.addEdge(0, 1)\n",
    "g.addEdge(0, 4)\n",
    "g.addEdge(1, 2)\n",
    "g.addEdge(1, 3)\n",
    "g.addEdge(3, 4)\n",
    "g.addEdge(3, 5)\n",
    "g.addEdge(4, 6)"
   ]
  },
  {
   "cell_type": "code",
   "execution_count": 7,
   "metadata": {
    "collapsed": false
   },
   "outputs": [
    {
     "data": {
      "text/plain": [
       "defaultdict(list,\n",
       "            {0: [1, 4, 1, 4],\n",
       "             1: [0, 2, 3, 0, 2, 3],\n",
       "             2: [1, 1],\n",
       "             3: [1, 4, 5, 1, 4, 5],\n",
       "             4: [0, 3, 0, 3, 6],\n",
       "             5: [3, 3],\n",
       "             6: [4]})"
      ]
     },
     "execution_count": 7,
     "metadata": {},
     "output_type": "execute_result"
    }
   ],
   "source": [
    "g.nodes"
   ]
  },
  {
   "cell_type": "code",
   "execution_count": 8,
   "metadata": {
    "collapsed": false
   },
   "outputs": [
    {
     "name": "stdout",
     "output_type": "stream",
     "text": [
      "0 1 4 2 3 6 5\n"
     ]
    }
   ],
   "source": [
    "g.BFS(0)"
   ]
  },
  {
   "cell_type": "code",
   "execution_count": 9,
   "metadata": {
    "collapsed": false
   },
   "outputs": [
    {
     "name": "stdout",
     "output_type": "stream",
     "text": [
      "0 1 2 3 4 6 5\n"
     ]
    }
   ],
   "source": [
    "g.DFS(0)"
   ]
  },
  {
   "cell_type": "code",
   "execution_count": null,
   "metadata": {
    "collapsed": true
   },
   "outputs": [],
   "source": []
  }
 ],
 "metadata": {
  "kernelspec": {
   "display_name": "Python 2",
   "language": "python",
   "name": "python2"
  },
  "language_info": {
   "codemirror_mode": {
    "name": "ipython",
    "version": 2
   },
   "file_extension": ".py",
   "mimetype": "text/x-python",
   "name": "python",
   "nbconvert_exporter": "python",
   "pygments_lexer": "ipython2",
   "version": "2.7.13"
  }
 },
 "nbformat": 4,
 "nbformat_minor": 2
}
