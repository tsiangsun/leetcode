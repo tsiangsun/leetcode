{
 "cells": [
  {
   "cell_type": "code",
   "execution_count": 13,
   "metadata": {
    "collapsed": true
   },
   "outputs": [],
   "source": [
    "from itertools import combinations"
   ]
  },
  {
   "cell_type": "code",
   "execution_count": 10,
   "metadata": {
    "collapsed": true
   },
   "outputs": [],
   "source": [
    "s= 'dyggxxpklorellnmp'"
   ]
  },
  {
   "cell_type": "code",
   "execution_count": 23,
   "metadata": {
    "collapsed": false
   },
   "outputs": [
    {
     "name": "stdout",
     "output_type": "stream",
     "text": [
      "ggxxplllp\n",
      "gg\n",
      "xx\n",
      "pp\n",
      "ll\n",
      "ll\n",
      "ll\n"
     ]
    },
    {
     "data": {
      "text/plain": [
       "6"
      ]
     },
     "execution_count": 23,
     "metadata": {},
     "output_type": "execute_result"
    }
   ],
   "source": [
    "def square_subseq(s):\n",
    "    # Complete this function\n",
    "    count = 0\n",
    "    dic = dict()\n",
    "    for i, c in enumerate(s):\n",
    "        if c in dic:\n",
    "            dic[c].append(i)\n",
    "        else:\n",
    "            dic[c]=[i]\n",
    "    #print [ (key, value) for key, value in dic.items() if len(value)>1]\n",
    "    for c, ind in dic.items():\n",
    "        if len(ind)==1:\n",
    "            s = s.replace(c,'')\n",
    "    print s\n",
    "    if len(s)==0:\n",
    "        return 0\n",
    "    else:\n",
    "        M = len(s)/2\n",
    "        for m in range(1,M+1):\n",
    "            com = combinations(s,2*m)\n",
    "            for l in com:\n",
    "                subs = ''.join(l)\n",
    "                #print subs\n",
    "                if subs[0:m] == subs[m:2*m] :\n",
    "                    count += 1\n",
    "                    print subs\n",
    "\n",
    "    return count\n",
    "\n",
    "\n",
    "square_subseq(s)"
   ]
  },
  {
   "cell_type": "code",
   "execution_count": null,
   "metadata": {
    "collapsed": true
   },
   "outputs": [],
   "source": [
    "import sys\n",
    "T = int(sys.stdin.readline().strip())\n",
    "\n",
    "def square_subseq(s):\n",
    "    # Complete this function\n",
    "    count = 0\n",
    "    dic = dict()\n",
    "    for i, c in enumerate(s):\n",
    "        if c in dic:\n",
    "            dic[c].append(i)\n",
    "        else:\n",
    "            dic[c]=[i]\n",
    "    #print [ (key, value) for key, value in dic.items() if len(value)>1]\n",
    "    for c, ind in dic.items():\n",
    "        if len(ind)==1:\n",
    "            s = s.replace(c,'')\n",
    "    print s\n",
    "    if len(s)==0:\n",
    "        return 0\n",
    "    else:\n",
    "        M = len(s)/2\n",
    "        for m in range(1,M+1):\n",
    "            com = combinations(s,2*m)\n",
    "            for l in com:\n",
    "                subs = ''.join(l)\n",
    "                #print subs\n",
    "                if subs[0:m] == subs[m:2*m] :\n",
    "                    count += 1\n",
    "                    #print subs\n",
    "    return count\n",
    "    \n",
    "    \n",
    "for i in range(T):\n",
    "    S = sys.stdin.readline().strip()\n",
    "    #print S\n",
    "    print square_subseq(S)"
   ]
  },
  {
   "cell_type": "markdown",
   "metadata": {},
   "source": [
    "# Official solution:"
   ]
  },
  {
   "cell_type": "markdown",
   "metadata": {},
   "source": [
    "This problem effectively involves a reduction to a relative of a classic ** dynamic programming DP** problem: the Longest Common Subsequence. http://www.geeksforgeeks.org/dynamic-programming-set-4-longest-common-subsequence/\n",
    "\n",
    "First, let’s construct an algorithm to find the number of common subsequences between two strings, s1 and s2. We can develop a recursive formula for N(i,j), the number of substrings in s1[:i] and s2[:j]. \n",
    "\n",
    "If s1[i] ≠ s2[j], this will be the number of substrings in s1[:i-1] and s2[:j] plus the number of substrings in s1[:i] and s2[:j-1]. This double counts the number of substrings in s1[:i-1] and s2[:j-1], so the proper expression is\n",
    "\n",
    "`N(i,j) = N(i-1,j) + N(i,j-1) - N(i-1,j-1)     | s1[i] ≠ s2[j]  `\n",
    "\n",
    "If s1[i] = s2[j],we need to add to this count the number of subsequences including these two elements. This number is one (the one-element subsequence) plus N(i-1,j-1) (each of those subsequences with these elements appended).\n",
    "\n",
    "`N(i,j) = N(i-1,j) + N(i,j-1) + 1     | s1[i] = s2[j]`\n",
    "\n",
    "Now we can work out the number of square subsequences by dividing the string at each possible split point, and calculating the number of common subsequences in the two substrings. However, this will overcount the substrings: ab will be counted in the string abcdab in the splits (ab, cdab), (abc, dab), and (abcd, ab). To avoid this, we only count matching subsequences that use that last element of s1. That is, we want \n",
    "\n",
    "`N(i,j) - N(i-1,j)`.\n",
    "\n",
    "Let’s work out the example of `abcdab` with this algorithm. First, by inspection, we see three square subsequences: `aa, bb, and abab`.\n",
    "\n",
    "1. `a, bcdab`: Common subsequence: a.\n",
    "\n",
    "2. `ab, cdab`: Common subsequences: ab, b. Note that a appears in both subsrings, but is not counted since the first substring ends in b.\n",
    "\n",
    "3. `abc, dab`: None.\n",
    "\n",
    "4. `abcd, ab`: None.\n",
    "\n",
    "5. `abcda, b`: None.\n",
    "\n",
    "With 1 from step 1 and 2 from step 2 (conveniently enough), we get the total of three we were expecting."
   ]
  },
  {
   "cell_type": "code",
   "execution_count": 24,
   "metadata": {
    "collapsed": true
   },
   "outputs": [],
   "source": [
    "NUMBER = 1000000007\n",
    "\n",
    "def solve_sub(string, size):\n",
    "    s1 = string[:size]\n",
    "    size1 = len(s1) + 1\n",
    "    s2 = string[size:]\n",
    "    size2 = len(s2) + 1\n",
    "    N = [[0 for j in xrange(size2)] for i in xrange(size1)]\n",
    "\n",
    "    for i in xrange(1, size1):\n",
    "        for j in xrange(1, size2):\n",
    "            if s1[i - 1] == s2[j - 1]:\n",
    "                N[i][j] = N[i - 1][j] + N[i][j - 1] + 1\n",
    "            else:\n",
    "                N[i][j] = N[i - 1][j] + N[i][j - 1] - N[i - 1][j - 1]\n",
    "\n",
    "    return N[-1][-1] - N[-2][-1]\n",
    "\n",
    "def solve(string):\n",
    "    count = sum(solve_sub(string, i) for i in xrange(1, len(string)))\n",
    "    return count % NUMBER\n",
    "\n",
    "if __name__ == '__main__':\n",
    "    import sys\n",
    "    _ = sys.stdin.readline()\n",
    "    for line in sys.stdin:\n",
    "        print solve(line.strip())"
   ]
  },
  {
   "cell_type": "code",
   "execution_count": null,
   "metadata": {
    "collapsed": true
   },
   "outputs": [],
   "source": []
  }
 ],
 "metadata": {
  "kernelspec": {
   "display_name": "Python 2",
   "language": "python",
   "name": "python2"
  },
  "language_info": {
   "codemirror_mode": {
    "name": "ipython",
    "version": 2
   },
   "file_extension": ".py",
   "mimetype": "text/x-python",
   "name": "python",
   "nbconvert_exporter": "python",
   "pygments_lexer": "ipython2",
   "version": "2.7.13"
  }
 },
 "nbformat": 4,
 "nbformat_minor": 2
}
