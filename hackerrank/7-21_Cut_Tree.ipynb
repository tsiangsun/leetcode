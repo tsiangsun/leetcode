{
 "cells": [
  {
   "cell_type": "code",
   "execution_count": 1,
   "metadata": {
    "collapsed": false
   },
   "outputs": [
    {
     "name": "stdout",
     "output_type": "stream",
     "text": [
      "6\n",
      "100 200 100 500 100 600\n",
      "1 2\n",
      "2 3\n",
      "2 5\n",
      "4 5\n",
      "5 6\n",
      "400\n"
     ]
    }
   ],
   "source": [
    "#total is the sum of the tree\n",
    "\n",
    "#parent is an array of size n, initially set to -1\n",
    "#  after execution, it indicates the parent of i\n",
    "\n",
    "#subtree is an array of size n, initially set to vals[i]\n",
    "#  after execution, subtree[i] is the weight of the subtree rooted at i\n",
    "\n",
    "#minCut is an array of size n, initially set to total\n",
    "#  after execution, minCut[i] is the smallest cut one can make in the subtree rooted at i\n",
    "#  cut a child or a descendant\n",
    "\n",
    "def bfsCut(n, adj, total, parent, subtree, minCut):\n",
    "\n",
    "    queue = [0]\n",
    "    parent[0] = 0\n",
    "\n",
    "    #find bfs ordering\n",
    "    for index in range(n):\n",
    "        i = queue[index]\n",
    "\n",
    "        for neigh in adj[i]:\n",
    "            #ignore edge to discovered node (i's parent)\n",
    "            if parent[neigh] > -1:\n",
    "                continue\n",
    "            queue.append(neigh)\n",
    "            parent[neigh] = i\n",
    "\n",
    "    #from leaf to root...\n",
    "    while len(queue) > 1:\n",
    "        i = queue.pop()\n",
    "\n",
    "        #compute the cut cost of this subtree\n",
    "        rem = total-subtree[i]\n",
    "        cut = abs(rem-subtree[i])\n",
    "\n",
    "        #propagate cut cost and subtree weight to parent\n",
    "        minCut[parent[i]] = min(minCut[parent[i]], cut, minCut[i])\n",
    "        subtree[parent[i]] += subtree[i]\n",
    "\n",
    "    return minCut[0]\n",
    "\n",
    "if __name__ == \"__main__\":\n",
    "\n",
    "    n = int(raw_input())\n",
    "    vals = list(map(int, raw_input().split()))\n",
    "    total = sum(vals)\n",
    "\n",
    "    adj, parent, subtree, minCut = [], [], [], []\n",
    "    for i in range(n):\n",
    "        adj.append([])\n",
    "        parent.append(-1)\n",
    "        subtree.append(vals[i])\n",
    "        minCut.append(total)\n",
    "\n",
    "    for i in range(n-1):\n",
    "        x, y = map(int, raw_input().split())\n",
    "        adj[x-1].append(y-1)\n",
    "        adj[y-1].append(x-1)\n",
    "\n",
    "    print bfsCut(n, adj, total, parent, subtree, minCut)"
   ]
  },
  {
   "cell_type": "code",
   "execution_count": null,
   "metadata": {
    "collapsed": true
   },
   "outputs": [],
   "source": []
  }
 ],
 "metadata": {
  "kernelspec": {
   "display_name": "Python 2",
   "language": "python",
   "name": "python2"
  },
  "language_info": {
   "codemirror_mode": {
    "name": "ipython",
    "version": 2
   },
   "file_extension": ".py",
   "mimetype": "text/x-python",
   "name": "python",
   "nbconvert_exporter": "python",
   "pygments_lexer": "ipython2",
   "version": "2.7.13"
  }
 },
 "nbformat": 4,
 "nbformat_minor": 2
}
