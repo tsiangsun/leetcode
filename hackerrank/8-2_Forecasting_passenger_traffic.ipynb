{
 "cells": [
  {
   "cell_type": "code",
   "execution_count": 1,
   "metadata": {
    "collapsed": false
   },
   "outputs": [
    {
     "ename": "ValueError",
     "evalue": "invalid literal for int() with base 10: ''",
     "output_type": "error",
     "traceback": [
      "\u001b[0;31m---------------------------------------------------------------------------\u001b[0m",
      "\u001b[0;31mValueError\u001b[0m                                Traceback (most recent call last)",
      "\u001b[0;32m<ipython-input-1-fe9d330a1e2a>\u001b[0m in \u001b[0;36m<module>\u001b[0;34m()\u001b[0m\n\u001b[1;32m      3\u001b[0m \u001b[0;32mimport\u001b[0m \u001b[0msys\u001b[0m\u001b[0;34m\u001b[0m\u001b[0m\n\u001b[1;32m      4\u001b[0m \u001b[0;34m\u001b[0m\u001b[0m\n\u001b[0;32m----> 5\u001b[0;31m \u001b[0mM\u001b[0m \u001b[0;34m=\u001b[0m \u001b[0mint\u001b[0m\u001b[0;34m(\u001b[0m\u001b[0msys\u001b[0m\u001b[0;34m.\u001b[0m\u001b[0mstdin\u001b[0m\u001b[0;34m.\u001b[0m\u001b[0mreadline\u001b[0m\u001b[0;34m(\u001b[0m\u001b[0;34m)\u001b[0m\u001b[0;34m.\u001b[0m\u001b[0mstrip\u001b[0m\u001b[0;34m(\u001b[0m\u001b[0;34m)\u001b[0m\u001b[0;34m)\u001b[0m\u001b[0;34m\u001b[0m\u001b[0m\n\u001b[0m\u001b[1;32m      6\u001b[0m \u001b[0mX\u001b[0m \u001b[0;34m=\u001b[0m \u001b[0;34m[\u001b[0m\u001b[0;34m]\u001b[0m\u001b[0;34m\u001b[0m\u001b[0m\n\u001b[1;32m      7\u001b[0m \u001b[0my\u001b[0m \u001b[0;34m=\u001b[0m \u001b[0;34m[\u001b[0m\u001b[0;34m]\u001b[0m\u001b[0;34m\u001b[0m\u001b[0m\n",
      "\u001b[0;31mValueError\u001b[0m: invalid literal for int() with base 10: ''"
     ]
    }
   ],
   "source": [
    "from sklearn.ensemble import GradientBoostingRegressor\n",
    "import numpy as np\n",
    "import sys\n",
    "\n",
    "M = int(sys.stdin.readline().strip())\n",
    "X = []\n",
    "y = []\n",
    "\n",
    "for i in range(M):\n",
    "    li = sys.stdin.readline().strip().split()\n",
    "    number = int(li[1])\n",
    "    row = [0.0,]*12 + [i,]\n",
    "    row[i%12] = 1.0\n",
    "    X.append(row)\n",
    "    y.append(number)\n",
    "\n",
    "\n",
    "alpha = 0.95\n",
    "\n",
    "clf = GradientBoostingRegressor(n_estimators=800, max_depth=8, min_samples_split=2,\n",
    "          learning_rate= 0.01, loss='ls',alpha = 0.95)\n",
    "\n",
    "clf.fit(X, y)\n",
    "\n",
    "#print X\n",
    "\n",
    "X_test = []\n",
    "\n",
    "for i in range(M,M+12):\n",
    "    row = [0.0,]*12 + [i,]\n",
    "    row[i%12] = 1.0\n",
    "    X_test.append(row)\n",
    "    \n",
    "y_pred = clf.predict(X_test)\n",
    "\n",
    "for i in range(len(y_pred)):\n",
    "    print int(y_pred[i])"
   ]
  },
  {
   "cell_type": "code",
   "execution_count": 2,
   "metadata": {
    "collapsed": false
   },
   "outputs": [
    {
     "name": "stdout",
     "output_type": "stream",
     "text": [
      "\n"
     ]
    },
    {
     "ename": "SyntaxError",
     "evalue": "unexpected EOF while parsing (<string>, line 0)",
     "output_type": "error",
     "traceback": [
      "\u001b[0;36m  File \u001b[0;32m\"<string>\"\u001b[0;36m, line \u001b[0;32munknown\u001b[0m\n\u001b[0;31m    \u001b[0m\n\u001b[0m    ^\u001b[0m\n\u001b[0;31mSyntaxError\u001b[0m\u001b[0;31m:\u001b[0m unexpected EOF while parsing\n"
     ]
    }
   ],
   "source": [
    "n, N = 12, input()\n",
    "Y = [int(raw_input().split()[1]) for i in xrange(N)]\n",
    "m = float(max(Y))\n",
    "Y = [i / m for i in Y]\n",
    "X = [[i] + [1 if j == i % n else 0 for j in xrange(n)] for i in xrange(N)]\n",
    "\n",
    "\n",
    "from sklearn.ensemble import GradientBoostingRegressor\n",
    "params = {'n_estimators': 800, 'max_depth': 8, 'min_samples_split': 1,\n",
    "          'learning_rate': 0.01, 'loss': 'ls'}\n",
    "clf = GradientBoostingRegressor(**params)\n",
    "clf.fit(X, Y)\n",
    "\n",
    "\n",
    "X = [[N + i] + [1 if j == (N + i) % n else 0 for j in xrange(n)] for i in xrange(12)]\n",
    "for i in clf.predict(X):\n",
    "    print i * m"
   ]
  },
  {
   "cell_type": "code",
   "execution_count": null,
   "metadata": {
    "collapsed": true
   },
   "outputs": [],
   "source": [
    "import numpy\n",
    "import scipy.interpolate\n",
    "import random\n",
    "\n",
    "n=input()\n",
    "\n",
    "months=[]\n",
    "for i in xrange(n):\n",
    "    l = raw_input()\n",
    "    l_l = l.split('\\t')\n",
    "    months.append(l_l[1])\n",
    "\n",
    "num =[]\n",
    "for i in months:\n",
    "    b = int(i)\n",
    "    num.append(b)\n",
    "\n",
    "# create some normally distributed values and make a histogram\n",
    "a = numpy.array(num)\n",
    "counts, bins = numpy.histogram(a, bins=10, density=True)\n",
    "cum_counts = numpy.cumsum(counts)\n",
    "bin_widths = (bins[1:] - bins[:-1])\n",
    "\n",
    "# generate more values with same distribution\n",
    "x = cum_counts*bin_widths\n",
    "y = bins[1:]\n",
    "inverse_density_function = scipy.interpolate.interp1d(x, y)\n",
    "b = numpy.zeros(n+12)\n",
    "\n",
    "for i in range(len( b )):\n",
    "    u = random.uniform( x[0], x[-1] )\n",
    "    b[i] = inverse_density_function( u )\n",
    "\n",
    "    \n",
    "sol=[]\n",
    "for i in range(12 ):\n",
    "    u = random.uniform( x[0], x[-1] )\n",
    "    sol.append(inverse_density_function( u ))\n",
    "\n",
    "for i in sol:\n",
    "    print i"
   ]
  },
  {
   "cell_type": "code",
   "execution_count": null,
   "metadata": {
    "collapsed": true
   },
   "outputs": [],
   "source": []
  }
 ],
 "metadata": {
  "kernelspec": {
   "display_name": "Python 2",
   "language": "python",
   "name": "python2"
  },
  "language_info": {
   "codemirror_mode": {
    "name": "ipython",
    "version": 2
   },
   "file_extension": ".py",
   "mimetype": "text/x-python",
   "name": "python",
   "nbconvert_exporter": "python",
   "pygments_lexer": "ipython2",
   "version": "2.7.13"
  }
 },
 "nbformat": 4,
 "nbformat_minor": 2
}
