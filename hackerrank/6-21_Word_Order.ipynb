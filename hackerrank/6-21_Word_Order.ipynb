{
 "cells": [
  {
   "cell_type": "markdown",
   "metadata": {
    "deletable": true,
    "editable": true
   },
   "source": [
    "- You are given *n* words. Some words may repeat. For each word, output its number of occurrences. The output order should correspond with the input order of appearance of the word. See the sample input/output for clarification.\n",
    "\n",
    "Note: Each input line ends with a \"\\n\" character.\n",
    "\n",
    "Constraints: 1 < n < 10E5.  The sum of the lengths of all the words do not exceed 10E6 \n",
    "All the words are composed of lowercase English letters only.\n",
    "\n",
    "- Input Format\n",
    "\n",
    "The first line contains the integer, *n*. \n",
    "The next *n* lines each contain a word.\n",
    "\n",
    "- Output Format\n",
    "\n",
    "Output 2 lines. \n",
    "On the first line, output the number of distinct words from the input. \n",
    "On the second line, output the number of occurrences for each distinct word according to their appearance in the input.\n",
    "\n",
    "- Sample Input\n",
    "\n",
    "4\n",
    "\n",
    "bcdef\n",
    "\n",
    "abcdefg\n",
    "\n",
    "bcde\n",
    "\n",
    "bcdef\n",
    "\n",
    "- Sample Output\n",
    "\n",
    "3\n",
    "\n",
    "2 1 1\n",
    "\n",
    "Explanation: There are 3 distinct words. Here, \"bcdef\" appears twice in the input at the first and last positions. The other words appear once each. The order of the first appearances are \"bcdef\", \"abcdefg\" and \"bcde\" which corresponds to the output."
   ]
  },
  {
   "cell_type": "code",
   "execution_count": 2,
   "metadata": {
    "collapsed": false,
    "deletable": true,
    "editable": true
   },
   "outputs": [
    {
     "data": {
      "text/plain": [
       "['bcdef', 'abcdefg', 'bcde', 'bcdef']"
      ]
     },
     "execution_count": 2,
     "metadata": {},
     "output_type": "execute_result"
    }
   ],
   "source": [
    "import sys\n",
    "from collections import OrderedDict\n",
    "line = sys.stdin.readline()\n",
    "#print line\n",
    "#n= int(line)\n",
    "n=4\n",
    "#print n\n",
    "#words = []\n",
    "words = ['bcdef', 'abcdefg', 'bcde', 'bcdef']\n",
    "\n",
    "#for i in range(n):\n",
    "#    line = sys.stdin.readline().strip()\n",
    "#    words.append(line)\n",
    "words"
   ]
  },
  {
   "cell_type": "code",
   "execution_count": 3,
   "metadata": {
    "collapsed": false,
    "deletable": true,
    "editable": true
   },
   "outputs": [
    {
     "name": "stdout",
     "output_type": "stream",
     "text": [
      "3\n",
      "2 1 1\n"
     ]
    }
   ],
   "source": [
    "d = OrderedDict()\n",
    "\n",
    "for w in words:\n",
    "    if w in d:\n",
    "        d[w] += 1\n",
    "    else: \n",
    "        d[w] = 1\n",
    "\n",
    "print len(d)\n",
    "for i in d.keys():\n",
    "    print d[i],\n",
    "print\n"
   ]
  },
  {
   "cell_type": "code",
   "execution_count": 11,
   "metadata": {
    "collapsed": false,
    "deletable": true,
    "editable": true
   },
   "outputs": [
    {
     "name": "stdout",
     "output_type": "stream",
     "text": [
      "3\n",
      "2 1 1\n"
     ]
    }
   ],
   "source": [
    "# whole code, submitted successfully\n",
    "import sys\n",
    "from collections import OrderedDict\n",
    "line = sys.stdin.readline()\n",
    "#n= int(line)\n",
    "n=4\n",
    "#words = []\n",
    "\n",
    "for i in range(n):\n",
    "    line = sys.stdin.readline().strip()\n",
    "    words.append(line)\n",
    "words = ['bcdef', 'abcdefg', 'bcde', 'bcdef']\n",
    "\n",
    "d = OrderedDict()\n",
    "\n",
    "for w in words:\n",
    "    if w in d:\n",
    "        d[w] += 1\n",
    "    else: \n",
    "        d[w] = 1\n",
    "\n",
    "print len(d)\n",
    "for i in d.keys():\n",
    "    print d[i],\n",
    "print"
   ]
  },
  {
   "cell_type": "code",
   "execution_count": 6,
   "metadata": {
    "collapsed": false,
    "deletable": true,
    "editable": true
   },
   "outputs": [
    {
     "name": "stdout",
     "output_type": "stream",
     "text": [
      "3\n",
      "2 1 1\n"
     ]
    }
   ],
   "source": [
    "#The following solution chost too long time, --- time out!!\n",
    "\n",
    "wlist = []\n",
    "clist = []\n",
    "for w in words: \n",
    "    if w in wlist:\n",
    "        ind = wlist.index(w)\n",
    "        clist[ind] += 1\n",
    "    else:\n",
    "        wlist.append(w)\n",
    "        clist.append(1)\n",
    "        \n",
    "#print wlist\n",
    "#print clist\n",
    "#d.keys()\n",
    "\n",
    "print len(wlist)\n",
    "\n",
    "for c in clist:\n",
    "    print c,\n",
    "print"
   ]
  },
  {
   "cell_type": "markdown",
   "metadata": {
    "collapsed": true,
    "deletable": true,
    "editable": true
   },
   "source": [
    "Official solution: http://thedataincubator.github.io/coding-challenges/challenges/word-order.html"
   ]
  },
  {
   "cell_type": "code",
   "execution_count": 12,
   "metadata": {
    "collapsed": false
   },
   "outputs": [
    {
     "name": "stdout",
     "output_type": "stream",
     "text": [
      "3\n",
      "2 1 1\n"
     ]
    }
   ],
   "source": [
    "import sys\n",
    "_ = sys.stdin.readline()\n",
    "words = sys.stdin.read().split()\n",
    "words = ['bcdef', 'abcdefg', 'bcde', 'bcdef']\n",
    "d = dict()\n",
    "order = 0\n",
    "for word in words:\n",
    "    if word in d:\n",
    "        d[word] = (d[word][0], d[word][1] + 1)\n",
    "    else:\n",
    "        d[word] = (order, 1)\n",
    "        order += 1\n",
    "\n",
    "print len(d)\n",
    "ordered_counts = sorted(d.values())\n",
    "for order, count in ordered_counts:\n",
    "    print count,"
   ]
  },
  {
   "cell_type": "code",
   "execution_count": 13,
   "metadata": {
    "collapsed": false
   },
   "outputs": [
    {
     "name": "stdout",
     "output_type": "stream",
     "text": [
      "3\n",
      "2 1 1\n"
     ]
    }
   ],
   "source": [
    "def count_words(words):\n",
    "    d = dict()\n",
    "    order = 0\n",
    "    for word in words:\n",
    "        if word in d:\n",
    "            d[word] = (d[word][0], d[word][1] + 1)\n",
    "        else:\n",
    "            d[word] = (order, 1)\n",
    "            order += 1\n",
    "\n",
    "    print len(d)\n",
    "    ordered_counts = sorted(d.values())\n",
    "    for order, count in ordered_counts:\n",
    "        print count,\n",
    "\n",
    "if __name__ == '__main__':\n",
    "    import sys\n",
    "    _ = sys.stdin.readline()\n",
    "    #count_words(sys.stdin.read().split())\n",
    "    words = ['bcdef', 'abcdefg', 'bcde', 'bcdef']\n",
    "    count_words(words)"
   ]
  },
  {
   "cell_type": "code",
   "execution_count": null,
   "metadata": {
    "collapsed": true
   },
   "outputs": [],
   "source": []
  }
 ],
 "metadata": {
  "kernelspec": {
   "display_name": "Python 2",
   "language": "python",
   "name": "python2"
  },
  "language_info": {
   "codemirror_mode": {
    "name": "ipython",
    "version": 2
   },
   "file_extension": ".py",
   "mimetype": "text/x-python",
   "name": "python",
   "nbconvert_exporter": "python",
   "pygments_lexer": "ipython2",
   "version": "2.7.13"
  }
 },
 "nbformat": 4,
 "nbformat_minor": 2
}
