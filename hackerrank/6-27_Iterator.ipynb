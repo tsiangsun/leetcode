{
 "cells": [
  {
   "cell_type": "code",
   "execution_count": 1,
   "metadata": {
    "collapsed": true,
    "deletable": true,
    "editable": true
   },
   "outputs": [],
   "source": [
    "from itertools import combinations "
   ]
  },
  {
   "cell_type": "code",
   "execution_count": 6,
   "metadata": {
    "collapsed": true,
    "deletable": true,
    "editable": true
   },
   "outputs": [],
   "source": [
    "N = 4\n",
    "inp = 'a a c d'.split(' ')\n",
    "K = 2"
   ]
  },
  {
   "cell_type": "code",
   "execution_count": 3,
   "metadata": {
    "collapsed": false,
    "deletable": true,
    "editable": true
   },
   "outputs": [
    {
     "data": {
      "text/plain": [
       "['a', 'a', 'c', 'd']"
      ]
     },
     "execution_count": 3,
     "metadata": {},
     "output_type": "execute_result"
    }
   ],
   "source": [
    "inp"
   ]
  },
  {
   "cell_type": "code",
   "execution_count": 9,
   "metadata": {
    "collapsed": false,
    "deletable": true,
    "editable": true
   },
   "outputs": [
    {
     "name": "stdout",
     "output_type": "stream",
     "text": [
      "[('a', 'a'), ('a', 'c'), ('a', 'd'), ('a', 'c'), ('a', 'd'), ('c', 'd')]\n"
     ]
    }
   ],
   "source": [
    "print list(combinations(inp ,K))"
   ]
  },
  {
   "cell_type": "code",
   "execution_count": 10,
   "metadata": {
    "collapsed": false,
    "deletable": true,
    "editable": true
   },
   "outputs": [
    {
     "name": "stdout",
     "output_type": "stream",
     "text": [
      "0.833333333333\n"
     ]
    }
   ],
   "source": [
    "from itertools import combinations \n",
    "import sys\n",
    "\n",
    "# N = int(sys.stdin.readline())\n",
    "# inp = sys.stdin.readline().strip().split(' ')\n",
    "# K = int(sys.stdin.readline())\n",
    "\n",
    "N = 4\n",
    "inp = 'a a c d'.split(' ')\n",
    "K = 2\n",
    "\n",
    "L = len(list(combinations(inp ,K)))\n",
    "comb = list(combinations(inp ,K))\n",
    "prob = 0\n",
    "for c in comb:\n",
    "    if 'a' in c:\n",
    "        prob += 1\n",
    "print float(prob) / L "
   ]
  },
  {
   "cell_type": "markdown",
   "metadata": {
    "deletable": true,
    "editable": true
   },
   "source": [
    "official solution: http://thedataincubator.github.io/coding-challenges/challenges/iterables-and-iterators.html"
   ]
  },
  {
   "cell_type": "markdown",
   "metadata": {
    "deletable": true,
    "editable": true
   },
   "source": [
    "The problem text is attempting to lead you to look at itertools. It’s good to be familar with this module, as it has many functions that are useful for creating and managing iterators.\n",
    "\n",
    "The relevant function in this case is itertools.combinations(), which yields all combinations of a given length chosen from the items of an input iterable. This is actually a generator, which means that we don’t need to allot memory to store all possible combinations. Instead, we generate them one at a time and see which contain an a. Since we choose combinations uniformly, the probably of getting one with at least one a is just the ratio of counts. (We multiply by 1.0 to ensure we get floating point division instead of integer division.)"
   ]
  },
  {
   "cell_type": "code",
   "execution_count": null,
   "metadata": {
    "collapsed": true,
    "deletable": true,
    "editable": true
   },
   "outputs": [],
   "source": [
    "import itertools\n",
    "\n",
    "def calc_prob(ltrs, k):\n",
    "    count = total = 0\n",
    "    for comb in itertools.combinations(ltrs, k):\n",
    "        total += 1\n",
    "        if 'a' in comb:\n",
    "            count += 1\n",
    "\n",
    "    return 1.0 * count / total\n",
    "\n",
    "if __name__ == '__main__':\n",
    "    import sys\n",
    "    _ = sys.stdin.readline()\n",
    "    ltrs = sys.stdin.readline().strip().replace(' ', '')\n",
    "    k = int(sys.stdin.readline())\n",
    "    print calc_prob(ltrs, k)"
   ]
  },
  {
   "cell_type": "markdown",
   "metadata": {
    "deletable": true,
    "editable": true
   },
   "source": [
    "We don’t actually need to work out all the combinations; all we need to come up with is the total number of them. The total (unordered) combinations of k elements from n choices is k choose n. It’s easier to work out the number of combinations that do not have an a in them: If a shows up m times, there are (n-m) choose k combinations without an a, and a little subtraction gives us the number of combinations with an a."
   ]
  },
  {
   "cell_type": "code",
   "execution_count": null,
   "metadata": {
    "collapsed": true,
    "deletable": true,
    "editable": true
   },
   "outputs": [],
   "source": [
    "import math\n",
    "\n",
    "def nCk(n, k):\n",
    "    if k > n:\n",
    "        return 0\n",
    "    return math.factorial(n) / math.factorial(k) / math.factorial(n - k)\n",
    "\n",
    "def calc_prob(ltrs, k):\n",
    "    num = len(ltrs)\n",
    "    not_a = len([l for l in ltrs if l != 'a'])\n",
    "    return 1 - 1.0 * nCk(not_a, k) / nCk(num, k)"
   ]
  },
  {
   "cell_type": "code",
   "execution_count": 1,
   "metadata": {
    "collapsed": false
   },
   "outputs": [
    {
     "data": {
      "text/plain": [
       "1"
      ]
     },
     "execution_count": 1,
     "metadata": {},
     "output_type": "execute_result"
    }
   ],
   "source": [
    "5%2"
   ]
  },
  {
   "cell_type": "code",
   "execution_count": 2,
   "metadata": {
    "collapsed": false
   },
   "outputs": [
    {
     "data": {
      "text/plain": [
       "2"
      ]
     },
     "execution_count": 2,
     "metadata": {},
     "output_type": "execute_result"
    }
   ],
   "source": [
    "5/2"
   ]
  },
  {
   "cell_type": "code",
   "execution_count": null,
   "metadata": {
    "collapsed": true
   },
   "outputs": [],
   "source": [
    "4/2"
   ]
  }
 ],
 "metadata": {
  "kernelspec": {
   "display_name": "Python 2",
   "language": "python",
   "name": "python2"
  },
  "language_info": {
   "codemirror_mode": {
    "name": "ipython",
    "version": 2
   },
   "file_extension": ".py",
   "mimetype": "text/x-python",
   "name": "python",
   "nbconvert_exporter": "python",
   "pygments_lexer": "ipython2",
   "version": "2.7.13"
  }
 },
 "nbformat": 4,
 "nbformat_minor": 2
}
