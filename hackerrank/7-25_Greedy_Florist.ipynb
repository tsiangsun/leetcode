{
 "cells": [
  {
   "cell_type": "code",
   "execution_count": 1,
   "metadata": {
    "collapsed": true
   },
   "outputs": [],
   "source": [
    "n=3\n",
    "k=2\n",
    "c = [2,5,6]"
   ]
  },
  {
   "cell_type": "code",
   "execution_count": 4,
   "metadata": {
    "collapsed": false
   },
   "outputs": [
    {
     "data": {
      "text/plain": [
       "15"
      ]
     },
     "execution_count": 4,
     "metadata": {},
     "output_type": "execute_result"
    }
   ],
   "source": [
    "import heapq\n",
    "\n",
    "def getMinimumCost(n, k, c):\n",
    "    # Complete this function    \n",
    "    h = []\n",
    "    for ci in c:\n",
    "        heapq.heappush(h,-ci)\n",
    "    cost = 0\n",
    "    fullcycle = n/k\n",
    "    left = n%k\n",
    "    for i in range(fullcycle):\n",
    "        for j in range(k):\n",
    "            p = -heapq.heappop(h)\n",
    "            cost += (i+1)*p\n",
    "    for j in range(left):\n",
    "        p = -heapq.heappop(h)\n",
    "        cost += (fullcycle+1)*p\n",
    "    return cost\n",
    "        \n",
    "getMinimumCost(n, k, c)   "
   ]
  },
  {
   "cell_type": "markdown",
   "metadata": {},
   "source": [
    "# Official solution: 1 line..."
   ]
  },
  {
   "cell_type": "code",
   "execution_count": null,
   "metadata": {
    "collapsed": true
   },
   "outputs": [],
   "source": [
    "\n",
    "\n",
    "N, K = map(int, raw_input().split())\n",
    "\n",
    "print reduce(lambda x, y: (0, x[1] + y[1] * (y[0] / K + 1)),\n",
    "             enumerate(sorted(map(int, raw_input().split()), reverse=True)))[1]"
   ]
  },
  {
   "cell_type": "code",
   "execution_count": 2,
   "metadata": {
    "collapsed": false
   },
   "outputs": [
    {
     "name": "stdout",
     "output_type": "stream",
     "text": [
      "15\n"
     ]
    }
   ],
   "source": [
    "N=3\n",
    "K=2\n",
    "C = [2,5,6]\n",
    "\n",
    "print reduce(lambda x, y: (0, x[1] + y[1] * (y[0] / K + 1)),\n",
    "             enumerate(sorted(C, reverse=True)))[1]"
   ]
  },
  {
   "cell_type": "code",
   "execution_count": null,
   "metadata": {
    "collapsed": true
   },
   "outputs": [],
   "source": []
  }
 ],
 "metadata": {
  "kernelspec": {
   "display_name": "Python 2",
   "language": "python",
   "name": "python2"
  },
  "language_info": {
   "codemirror_mode": {
    "name": "ipython",
    "version": 2
   },
   "file_extension": ".py",
   "mimetype": "text/x-python",
   "name": "python",
   "nbconvert_exporter": "python",
   "pygments_lexer": "ipython2",
   "version": "2.7.13"
  }
 },
 "nbformat": 4,
 "nbformat_minor": 2
}
