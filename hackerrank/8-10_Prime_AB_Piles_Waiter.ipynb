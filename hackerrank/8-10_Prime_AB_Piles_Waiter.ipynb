{
 "cells": [
  {
   "cell_type": "code",
   "execution_count": 1,
   "metadata": {
    "collapsed": true
   },
   "outputs": [],
   "source": [
    "import math\n",
    "\n",
    "pr = {1: 2,}\n",
    "\n",
    "def primed(i):\n",
    "    if i in pr:\n",
    "        return pr[i]\n",
    "    else:\n",
    "        imax = max(pr.keys())\n",
    "        n = pr[imax]+1\n",
    "        while imax < i:\n",
    "            flag = 0\n",
    "            sqrt = int(math.sqrt(n*1.0))\n",
    "            primes = [ v for k,v in pr.items() if v<=sqrt]\n",
    "            for prime in  primes:\n",
    "                if n % prime == 0:\n",
    "                    flag = 1\n",
    "                    break\n",
    "            if flag == 0:\n",
    "                imax +=1\n",
    "                pr[imax] = n\n",
    "            #print n, pr\n",
    "            n = n+1\n",
    "        return pr[i]\n",
    "            "
   ]
  },
  {
   "cell_type": "code",
   "execution_count": 4,
   "metadata": {
    "collapsed": false
   },
   "outputs": [
    {
     "name": "stdout",
     "output_type": "stream",
     "text": [
      "6 {1: 2, 2: 3, 3: 5}\n",
      "7 {1: 2, 2: 3, 3: 5, 4: 7}\n",
      "8 {1: 2, 2: 3, 3: 5, 4: 7}\n",
      "9 {1: 2, 2: 3, 3: 5, 4: 7}\n",
      "10 {1: 2, 2: 3, 3: 5, 4: 7}\n",
      "11 {1: 2, 2: 3, 3: 5, 4: 7, 5: 11}\n",
      "12 {1: 2, 2: 3, 3: 5, 4: 7, 5: 11}\n",
      "13 {1: 2, 2: 3, 3: 5, 4: 7, 5: 11, 6: 13}\n",
      "14 {1: 2, 2: 3, 3: 5, 4: 7, 5: 11, 6: 13}\n",
      "15 {1: 2, 2: 3, 3: 5, 4: 7, 5: 11, 6: 13}\n",
      "16 {1: 2, 2: 3, 3: 5, 4: 7, 5: 11, 6: 13}\n",
      "17 {1: 2, 2: 3, 3: 5, 4: 7, 5: 11, 6: 13, 7: 17}\n",
      "18 {1: 2, 2: 3, 3: 5, 4: 7, 5: 11, 6: 13, 7: 17}\n",
      "19 {1: 2, 2: 3, 3: 5, 4: 7, 5: 11, 6: 13, 7: 17, 8: 19}\n",
      "20 {1: 2, 2: 3, 3: 5, 4: 7, 5: 11, 6: 13, 7: 17, 8: 19}\n",
      "21 {1: 2, 2: 3, 3: 5, 4: 7, 5: 11, 6: 13, 7: 17, 8: 19}\n",
      "22 {1: 2, 2: 3, 3: 5, 4: 7, 5: 11, 6: 13, 7: 17, 8: 19}\n",
      "23 {1: 2, 2: 3, 3: 5, 4: 7, 5: 11, 6: 13, 7: 17, 8: 19, 9: 23}\n",
      "24 {1: 2, 2: 3, 3: 5, 4: 7, 5: 11, 6: 13, 7: 17, 8: 19, 9: 23}\n",
      "25 {1: 2, 2: 3, 3: 5, 4: 7, 5: 11, 6: 13, 7: 17, 8: 19, 9: 23}\n",
      "26 {1: 2, 2: 3, 3: 5, 4: 7, 5: 11, 6: 13, 7: 17, 8: 19, 9: 23}\n",
      "27 {1: 2, 2: 3, 3: 5, 4: 7, 5: 11, 6: 13, 7: 17, 8: 19, 9: 23}\n",
      "28 {1: 2, 2: 3, 3: 5, 4: 7, 5: 11, 6: 13, 7: 17, 8: 19, 9: 23}\n",
      "29 {1: 2, 2: 3, 3: 5, 4: 7, 5: 11, 6: 13, 7: 17, 8: 19, 9: 23, 10: 29}\n"
     ]
    },
    {
     "data": {
      "text/plain": [
       "29"
      ]
     },
     "execution_count": 4,
     "metadata": {},
     "output_type": "execute_result"
    }
   ],
   "source": [
    "primed(10)"
   ]
  },
  {
   "cell_type": "code",
   "execution_count": 8,
   "metadata": {
    "collapsed": false
   },
   "outputs": [],
   "source": [
    "n = 5 \n",
    "q = 2\n",
    "number = [3, 3, 4, 4, 9]"
   ]
  },
  {
   "cell_type": "code",
   "execution_count": 17,
   "metadata": {
    "collapsed": false
   },
   "outputs": [
    {
     "name": "stdout",
     "output_type": "stream",
     "text": [
      "4\n",
      "4\n",
      "9\n",
      "3\n",
      "3\n"
     ]
    }
   ],
   "source": [
    "A = []\n",
    "B = []\n",
    "A.append(number)\n",
    "\n",
    "for it in range(1,q+1):\n",
    "    a = []\n",
    "    b = []\n",
    "    for n in A[-1][::-1]:\n",
    "        if n % primed(it) == 0:\n",
    "            b.append(n)\n",
    "        else:\n",
    "            a.append(n)\n",
    "    A.append(a)\n",
    "    B.append(b)\n",
    "\n",
    "for b in B:\n",
    "    for bb in b[::-1]:\n",
    "        print bb\n",
    "for a in A[-1][::-1]:\n",
    "    print a"
   ]
  },
  {
   "cell_type": "code",
   "execution_count": 18,
   "metadata": {
    "collapsed": false
   },
   "outputs": [
    {
     "name": "stdout",
     "output_type": "stream",
     "text": [
      "5 1\n",
      "2 5 7 9 3\n",
      "2\n",
      "5\n",
      "7\n",
      "9\n",
      "3\n"
     ]
    }
   ],
   "source": [
    "#my solution\n",
    "import sys\n",
    "import math\n",
    "\n",
    "pr = {1: 2,}\n",
    "\n",
    "def primed(i):\n",
    "    if i in pr:\n",
    "        return pr[i]\n",
    "    else:\n",
    "        imax = max(pr.keys())\n",
    "        n = pr[imax]+1\n",
    "        while imax < i:\n",
    "            flag = 0\n",
    "            sqrt = int(math.sqrt(n*1.0))\n",
    "            primes = [ v for k,v in pr.items() if v<=sqrt]\n",
    "            for prime in  primes:\n",
    "                if n % prime == 0:\n",
    "                    flag = 1\n",
    "                    break\n",
    "            if flag == 0:\n",
    "                imax +=1\n",
    "                pr[imax] = n\n",
    "            #print n, pr\n",
    "            n = n+1\n",
    "        return pr[i]\n",
    "            \n",
    "        \n",
    "n, q = raw_input().strip().split(' ')\n",
    "n, q = [int(n), int(q)]\n",
    "number = map(int, raw_input().strip().split(' '))\n",
    "\n",
    "\n",
    "A = []\n",
    "B = []\n",
    "A.append(number)\n",
    "\n",
    "for it in range(1,q+1):\n",
    "    a = []\n",
    "    b = []\n",
    "    for n in A[-1][::-1]:\n",
    "        if n % primed(it) == 0:\n",
    "            b.append(n)\n",
    "        else:\n",
    "            a.append(n)\n",
    "    A.append(a)\n",
    "    B.append(b)\n",
    "\n",
    "for b in B:\n",
    "    for bb in b[::-1]:\n",
    "        print bb\n",
    "for a in A[-1][::-1]:\n",
    "    print a"
   ]
  },
  {
   "cell_type": "markdown",
   "metadata": {},
   "source": [
    "## Official solution:"
   ]
  },
  {
   "cell_type": "code",
   "execution_count": 19,
   "metadata": {
    "collapsed": false
   },
   "outputs": [
    {
     "ename": "ValueError",
     "evalue": "invalid literal for int() with base 10: ''",
     "output_type": "error",
     "traceback": [
      "\u001b[0;31m---------------------------------------------------------------------------\u001b[0m",
      "\u001b[0;31mValueError\u001b[0m                                Traceback (most recent call last)",
      "\u001b[0;32m<ipython-input-19-ac9901b50351>\u001b[0m in \u001b[0;36m<module>\u001b[0;34m()\u001b[0m\n\u001b[1;32m      1\u001b[0m \u001b[0;32mimport\u001b[0m \u001b[0msys\u001b[0m\u001b[0;34m\u001b[0m\u001b[0m\n\u001b[1;32m      2\u001b[0m \u001b[0;34m\u001b[0m\u001b[0m\n\u001b[0;32m----> 3\u001b[0;31m \u001b[0mN\u001b[0m\u001b[0;34m,\u001b[0m \u001b[0mQ\u001b[0m \u001b[0;34m=\u001b[0m \u001b[0mmap\u001b[0m\u001b[0;34m(\u001b[0m\u001b[0mint\u001b[0m\u001b[0;34m,\u001b[0m \u001b[0msys\u001b[0m\u001b[0;34m.\u001b[0m\u001b[0mstdin\u001b[0m\u001b[0;34m.\u001b[0m\u001b[0mreadline\u001b[0m\u001b[0;34m(\u001b[0m\u001b[0;34m)\u001b[0m\u001b[0;34m.\u001b[0m\u001b[0msplit\u001b[0m\u001b[0;34m(\u001b[0m\u001b[0;34m' '\u001b[0m\u001b[0;34m)\u001b[0m\u001b[0;34m)\u001b[0m\u001b[0;34m\u001b[0m\u001b[0m\n\u001b[0m\u001b[1;32m      4\u001b[0m \u001b[0mA\u001b[0m \u001b[0;34m=\u001b[0m \u001b[0mmap\u001b[0m\u001b[0;34m(\u001b[0m\u001b[0mint\u001b[0m\u001b[0;34m,\u001b[0m \u001b[0msys\u001b[0m\u001b[0;34m.\u001b[0m\u001b[0mstdin\u001b[0m\u001b[0;34m.\u001b[0m\u001b[0mreadline\u001b[0m\u001b[0;34m(\u001b[0m\u001b[0;34m)\u001b[0m\u001b[0;34m.\u001b[0m\u001b[0msplit\u001b[0m\u001b[0;34m(\u001b[0m\u001b[0;34m' '\u001b[0m\u001b[0;34m)\u001b[0m\u001b[0;34m)\u001b[0m\u001b[0;34m\u001b[0m\u001b[0m\n\u001b[1;32m      5\u001b[0m \u001b[0mBs\u001b[0m \u001b[0;34m=\u001b[0m \u001b[0;34m[\u001b[0m\u001b[0;34m]\u001b[0m\u001b[0;34m\u001b[0m\u001b[0m\n",
      "\u001b[0;31mValueError\u001b[0m: invalid literal for int() with base 10: ''"
     ]
    }
   ],
   "source": [
    "import sys\n",
    "\n",
    "N, Q = map(int, sys.stdin.readline().split(' '))\n",
    "A = map(int, sys.stdin.readline().split(' '))\n",
    "Bs = []\n",
    "\n",
    "composite = [0 for i in xrange(10000)]  # 1200th prime is 9733\n",
    "for i in xrange(2, 100):\n",
    "    if not composite[i]:\n",
    "        n = i * 2\n",
    "        while n < 10000:\n",
    "            composite[n] = 1\n",
    "            n += i\n",
    "primes = [i for i in xrange(2, 10000) if not composite[i]]\n",
    "\n",
    "for i in xrange(Q):\n",
    "    Bs.append([n for n in A[::-1] if n % primes[i] == 0])\n",
    "    A = [n for n in A[::-1] if n % primes[i] != 0]\n",
    "\n",
    "for B in Bs:\n",
    "    for n in B[::-1]:\n",
    "        print n\n",
    "for n in A[::-1]:\n",
    "    print n"
   ]
  },
  {
   "cell_type": "code",
   "execution_count": null,
   "metadata": {
    "collapsed": true
   },
   "outputs": [],
   "source": []
  }
 ],
 "metadata": {
  "kernelspec": {
   "display_name": "Python 2",
   "language": "python",
   "name": "python2"
  },
  "language_info": {
   "codemirror_mode": {
    "name": "ipython",
    "version": 2
   },
   "file_extension": ".py",
   "mimetype": "text/x-python",
   "name": "python",
   "nbconvert_exporter": "python",
   "pygments_lexer": "ipython2",
   "version": "2.7.13"
  }
 },
 "nbformat": 4,
 "nbformat_minor": 2
}
