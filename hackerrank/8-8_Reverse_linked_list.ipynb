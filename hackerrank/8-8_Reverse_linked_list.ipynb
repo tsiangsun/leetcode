{
 "cells": [
  {
   "cell_type": "code",
   "execution_count": 14,
   "metadata": {
    "collapsed": false,
    "deletable": true,
    "editable": true
   },
   "outputs": [
    {
     "name": "stdout",
     "output_type": "stream",
     "text": [
      "6 5 4 3 2 1\n",
      "6\n",
      "1 2 3 4 5 6\n",
      "1 2 3 4 5 6\n"
     ]
    }
   ],
   "source": [
    "class Node(object):\n",
    "    \n",
    "    def __init__(self, data=None, next_node=None):\n",
    "        self.data = data\n",
    "        self.next = next_node\n",
    "        \n",
    "    def set_next(self, new_node):\n",
    "        self.next = new_node\n",
    "        \n",
    "        \n",
    "        \n",
    "class LinkedList(object):\n",
    "    \n",
    "    def __init__(self, head=None):\n",
    "        self.head = head\n",
    "        \n",
    "    def insert(self, data):\n",
    "        new_node = Node(data)\n",
    "        new_node.set_next(self.head)\n",
    "        self.head = new_node\n",
    "        \n",
    "    def reverse(self):\n",
    "        if self.head == None:\n",
    "            return None\n",
    "        elif self.head.next == None:\n",
    "            return self.head\n",
    "        else:\n",
    "            last = None\n",
    "            mynode = self.head\n",
    "            while mynode.next != None:\n",
    "                tmp = mynode.next\n",
    "                mynode.next = last\n",
    "                last = mynode\n",
    "                mynode = tmp\n",
    "            mynode.next = last\n",
    "            self.head = mynode\n",
    "            return self.head\n",
    "    \n",
    "    def __str__( self ) :\n",
    "        s = []\n",
    "        p = self.head\n",
    "        if p != None :\n",
    "            while p.next != None :\n",
    "                s.append(p.data)\n",
    "                p = p.next\n",
    "            s.append(p.data)\n",
    "        return ' '.join(map(str,s))\n",
    "        \n",
    "        \n",
    "li = [1,2,3,4,5,6]\n",
    "\n",
    "ll = LinkedList()\n",
    "for a in li:\n",
    "    ll.insert(a)\n",
    "    \n",
    "print ll\n",
    "print ll.head.data\n",
    "ll.head = Reverse(ll.head)\n",
    "print ll\n",
    "ll.reverse\n",
    "print ll\n"
   ]
  },
  {
   "cell_type": "code",
   "execution_count": 2,
   "metadata": {
    "collapsed": true,
    "deletable": true,
    "editable": true
   },
   "outputs": [],
   "source": [
    "# my solution\n",
    "\n",
    "def Reverse(head):\n",
    "    if head == None:\n",
    "        return None\n",
    "    elif head.next == None:\n",
    "        return head\n",
    "    else:\n",
    "        last = None\n",
    "        mynode = head\n",
    "        while mynode.next != None:\n",
    "            tmp = mynode.next\n",
    "            mynode.next = last\n",
    "            last = mynode\n",
    "            mynode = tmp\n",
    "        mynode.next = last\n",
    "        return mynode\n"
   ]
  },
  {
   "cell_type": "markdown",
   "metadata": {},
   "source": [
    "### official solution"
   ]
  },
  {
   "cell_type": "code",
   "execution_count": 15,
   "metadata": {
    "collapsed": true,
    "deletable": true,
    "editable": true
   },
   "outputs": [],
   "source": [
    "def Reverse1(head, tail=None):\n",
    "    if head is None:\n",
    "        return tail\n",
    "    rest = head.next\n",
    "    new_head = Node(head.data, tail)\n",
    "    return Reverse(rest, new_head)"
   ]
  },
  {
   "cell_type": "code",
   "execution_count": 16,
   "metadata": {
    "collapsed": true,
    "deletable": true,
    "editable": true
   },
   "outputs": [],
   "source": [
    "def Reverse2(head):\n",
    "    if (head is None):\n",
    "        return None\n",
    "       \n",
    "    tail = Node(head.data, None)\n",
    "    new_head = head.next\n",
    "    \n",
    "    while(new_head is not None):\n",
    "        tail = Node(new_head.data, tail)\n",
    "        new_head = new_head.next\n",
    "        \n",
    "    return tail"
   ]
  },
  {
   "cell_type": "markdown",
   "metadata": {
    "collapsed": true,
    "deletable": true,
    "editable": true
   },
   "source": [
    "## 8-9_Cycle in linked list"
   ]
  },
  {
   "cell_type": "code",
   "execution_count": 31,
   "metadata": {
    "collapsed": true
   },
   "outputs": [],
   "source": [
    "def has_cycle(head):\n",
    "    if head == None:\n",
    "        return False\n",
    "    else:\n",
    "        li = []\n",
    "        mynode = head\n",
    "        while mynode.next != None:\n",
    "            if mynode in li:\n",
    "                return True\n",
    "            li.append(mynode)\n",
    "            mynode = mynode.next\n",
    "        return False"
   ]
  },
  {
   "cell_type": "code",
   "execution_count": 32,
   "metadata": {
    "collapsed": false
   },
   "outputs": [
    {
     "data": {
      "text/plain": [
       "False"
      ]
     },
     "execution_count": 32,
     "metadata": {},
     "output_type": "execute_result"
    }
   ],
   "source": [
    "has_cycle(ll.head)"
   ]
  },
  {
   "cell_type": "code",
   "execution_count": 33,
   "metadata": {
    "collapsed": false
   },
   "outputs": [
    {
     "name": "stdout",
     "output_type": "stream",
     "text": [
      "1 2 3 4 5 6\n"
     ]
    }
   ],
   "source": [
    "print ll"
   ]
  },
  {
   "cell_type": "markdown",
   "metadata": {},
   "source": [
    "### Official solutions:"
   ]
  },
  {
   "cell_type": "code",
   "execution_count": 38,
   "metadata": {
    "collapsed": true
   },
   "outputs": [],
   "source": [
    "def has_cycle1(head):  #O(n) time and space\n",
    "    if (head is None):\n",
    "        return False\n",
    "    next_node = head.next\n",
    "    seen = [head]\n",
    "    while(next_node is not None):\n",
    "        if(next_node in seen):\n",
    "            return True\n",
    "        else:\n",
    "            seen.append(next_node)\n",
    "            next_node = next_node.next\n",
    "    return False"
   ]
  },
  {
   "cell_type": "code",
   "execution_count": 39,
   "metadata": {
    "collapsed": true
   },
   "outputs": [],
   "source": [
    "def has_cycle2(head, visited=None): #recursive one (same complexity)\n",
    "    if visited is None:\n",
    "        visited = set()\n",
    "\n",
    "    if head is None:\n",
    "        return False\n",
    "    if head in visited:\n",
    "        return True\n",
    "    return has_cycle(head.next, visited.union({head}))"
   ]
  },
  {
   "cell_type": "markdown",
   "metadata": {},
   "source": [
    "### A very clever one that uses O(1) space, but potentially O(n + k) time where k is the cycle length, by testing every possible length of loop (but shorts out if it finds the end of the list). You can read more about this algorithm on wikipedia\n",
    "\n",
    "https://en.wikipedia.org/wiki/Cycle_detection#Floyd.27s_Tortoise_and_Hare"
   ]
  },
  {
   "cell_type": "code",
   "execution_count": 37,
   "metadata": {
    "collapsed": true
   },
   "outputs": [],
   "source": [
    "def has_cycle3(head): \n",
    "    fast = head\n",
    "    slow = head\n",
    "    while fast and fast.next:\n",
    "        fast = fast.next.next\n",
    "        slow = slow.next\n",
    "        if fast == slow:\n",
    "            return True\n",
    "    return False"
   ]
  },
  {
   "cell_type": "code",
   "execution_count": null,
   "metadata": {
    "collapsed": true
   },
   "outputs": [],
   "source": []
  }
 ],
 "metadata": {
  "kernelspec": {
   "display_name": "Python 2",
   "language": "python",
   "name": "python2"
  },
  "language_info": {
   "codemirror_mode": {
    "name": "ipython",
    "version": 2
   },
   "file_extension": ".py",
   "mimetype": "text/x-python",
   "name": "python",
   "nbconvert_exporter": "python",
   "pygments_lexer": "ipython2",
   "version": "2.7.13"
  }
 },
 "nbformat": 4,
 "nbformat_minor": 2
}
