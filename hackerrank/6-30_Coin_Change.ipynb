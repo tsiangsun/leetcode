{
 "cells": [
  {
   "cell_type": "code",
   "execution_count": 1,
   "metadata": {
    "collapsed": true
   },
   "outputs": [],
   "source": [
    "n=10\n",
    "m=4\n",
    "c=[2,5,3,6]\n"
   ]
  },
  {
   "cell_type": "code",
   "execution_count": 2,
   "metadata": {
    "collapsed": true
   },
   "outputs": [],
   "source": [
    "c=map(long, [a for a in c])"
   ]
  },
  {
   "cell_type": "code",
   "execution_count": 3,
   "metadata": {
    "collapsed": false
   },
   "outputs": [
    {
     "data": {
      "text/plain": [
       "[2L, 5L, 3L, 6L]"
      ]
     },
     "execution_count": 3,
     "metadata": {},
     "output_type": "execute_result"
    }
   ],
   "source": [
    "c"
   ]
  },
  {
   "cell_type": "code",
   "execution_count": 4,
   "metadata": {
    "collapsed": false
   },
   "outputs": [
    {
     "data": {
      "text/plain": [
       "list"
      ]
     },
     "execution_count": 4,
     "metadata": {},
     "output_type": "execute_result"
    }
   ],
   "source": [
    "type(c)"
   ]
  },
  {
   "cell_type": "code",
   "execution_count": 8,
   "metadata": {
    "collapsed": true
   },
   "outputs": [],
   "source": [
    "def getWays(n, c):\n",
    "    m = len(c)\n",
    "    ways = long(0)\n",
    "    type(ways)"
   ]
  },
  {
   "cell_type": "code",
   "execution_count": 9,
   "metadata": {
    "collapsed": false
   },
   "outputs": [],
   "source": [
    "m = len(c)\n",
    "ways = long(0)"
   ]
  },
  {
   "cell_type": "code",
   "execution_count": 13,
   "metadata": {
    "collapsed": false
   },
   "outputs": [
    {
     "name": "stdout",
     "output_type": "stream",
     "text": [
      "[2L, 3L, 5L, 6L]\n"
     ]
    }
   ],
   "source": [
    "cs = sorted(c)\n",
    "print cs"
   ]
  },
  {
   "cell_type": "code",
   "execution_count": 15,
   "metadata": {
    "collapsed": false
   },
   "outputs": [
    {
     "name": "stdout",
     "output_type": "stream",
     "text": [
      "[2L, 2L, 2L, 2L, 2L]\n"
     ]
    }
   ],
   "source": [
    "if n % cs[0] == 0:\n",
    "    print [cs[0]]* (n/cs[0])"
   ]
  },
  {
   "cell_type": "code",
   "execution_count": 16,
   "metadata": {
    "collapsed": true
   },
   "outputs": [],
   "source": [
    "def count(sum_, coins):\n",
    "    if len(coins) == 0:\n",
    "        return 0\n",
    "    if sum_ < 0:\n",
    "        return 0\n",
    "    if sum_ == 0:\n",
    "        return 1\n",
    "\n",
    "    return count(sum_ - coins[0], coins) + count(sum_, coins[1:])"
   ]
  },
  {
   "cell_type": "code",
   "execution_count": 17,
   "metadata": {
    "collapsed": false
   },
   "outputs": [
    {
     "data": {
      "text/plain": [
       "5"
      ]
     },
     "execution_count": 17,
     "metadata": {},
     "output_type": "execute_result"
    }
   ],
   "source": [
    "count(n,c)"
   ]
  },
  {
   "cell_type": "code",
   "execution_count": 18,
   "metadata": {
    "collapsed": true
   },
   "outputs": [],
   "source": [
    "N=4\n",
    "coins= c\n",
    "numWays = [[1] + N * [0] for j in xrange(len(coins) + 1)]"
   ]
  },
  {
   "cell_type": "code",
   "execution_count": 19,
   "metadata": {
    "collapsed": false
   },
   "outputs": [
    {
     "data": {
      "text/plain": [
       "[[1, 0, 0, 0, 0],\n",
       " [1, 0, 0, 0, 0],\n",
       " [1, 0, 0, 0, 0],\n",
       " [1, 0, 0, 0, 0],\n",
       " [1, 0, 0, 0, 0]]"
      ]
     },
     "execution_count": 19,
     "metadata": {},
     "output_type": "execute_result"
    }
   ],
   "source": [
    "numWays"
   ]
  },
  {
   "cell_type": "code",
   "execution_count": null,
   "metadata": {
    "collapsed": true
   },
   "outputs": [],
   "source": [
    "#recursiion, time out!\n",
    "def count(sum_, coins):\n",
    "    if len(coins) == 0:\n",
    "        return 0\n",
    "    if sum_ < 0:\n",
    "        return 0\n",
    "    if sum_ == 0:\n",
    "        return 1\n",
    "\n",
    "    return count(sum_ - coins[0], coins) + count(sum_, coins[1:])\n",
    "\n",
    "if __name__ == \"__main__\":\n",
    "    import sys\n",
    "    N, M = map(int, sys.stdin.readline().strip().split(' '))\n",
    "    coins = map(int, sys.stdin.readline().strip().split(' '))\n",
    "    print count(N, coins)\n"
   ]
  },
  {
   "cell_type": "code",
   "execution_count": null,
   "metadata": {
    "collapsed": true
   },
   "outputs": [],
   "source": [
    "#memorization, good \n",
    "count_dict = {}\n",
    "\n",
    "def count(sum_, coins):\n",
    "    if len(coins) == 0:\n",
    "        return 0\n",
    "    if sum_ < 0:\n",
    "        return 0\n",
    "    if sum_ == 0:\n",
    "        return 1\n",
    "\n",
    "    key = (sum_, tuple(coins))\n",
    "    if key not in count_dict:\n",
    "        count_dict[key] = count(sum_ - coins[0], coins) + count(sum_, coins[1:])\n",
    "    return count_dict[key]\n",
    "\n",
    "if __name__ == \"__main__\":\n",
    "    import sys\n",
    "    N, M = map(int, sys.stdin.readline().strip().split(' '))\n",
    "    coins = map(int, sys.stdin.readline().strip().split(' '))\n",
    "    print count(N, coins)\n",
    "    "
   ]
  },
  {
   "cell_type": "code",
   "execution_count": null,
   "metadata": {
    "collapsed": true
   },
   "outputs": [],
   "source": [
    "#dynamical programming. good\n",
    "def count(N, coins):\n",
    "    numWays = [[1] + N * [0] for j in xrange(len(coins) + 1)]\n",
    "    for i in xrange(1, len(coins) + 1):\n",
    "        for j in xrange(1, N + 1):\n",
    "            numWays[i][j] = numWays[i-1][j] + (numWays[i][j - coins[i-1]]\n",
    "                                               if coins[i-1] <= j else 0)\n",
    "    return numWays[-1][-1]\n",
    "\n",
    "if __name__ == \"__main__\":\n",
    "    import sys\n",
    "    N, M = map(int, sys.stdin.readline().strip().split(' '))\n",
    "    coins = map(int, sys.stdin.readline().strip().split(' '))\n",
    "    print count(N, coins)"
   ]
  }
 ],
 "metadata": {
  "kernelspec": {
   "display_name": "Python 2",
   "language": "python",
   "name": "python2"
  },
  "language_info": {
   "codemirror_mode": {
    "name": "ipython",
    "version": 2
   },
   "file_extension": ".py",
   "mimetype": "text/x-python",
   "name": "python",
   "nbconvert_exporter": "python",
   "pygments_lexer": "ipython2",
   "version": "2.7.13"
  }
 },
 "nbformat": 4,
 "nbformat_minor": 2
}
