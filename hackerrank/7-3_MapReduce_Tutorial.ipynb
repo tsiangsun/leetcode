{
 "cells": [
  {
   "cell_type": "code",
   "execution_count": 12,
   "metadata": {
    "collapsed": true
   },
   "outputs": [],
   "source": [
    "import json\n",
    "import sys\n",
    "from collections import OrderedDict\n",
    "class MapReduce:\n",
    "    def __init__(self):\n",
    "        self.intermediate = OrderedDict()\n",
    "        self.result = []\n",
    "\n",
    "    def emitIntermediate(self, key, value):\n",
    "        self.intermediate.setdefault(key, [])\n",
    "        self.intermediate[key].append(value)\n",
    "\n",
    "    def emit(self, value):\n",
    "        self.result.append(value) \n",
    "\n",
    "    def execute(self, data, mapper, reducer):\n",
    "        for line in data:\n",
    "            record = json.loads(line)\n",
    "            mapper(record)\n",
    "\n",
    "        for key in self.intermediate:\n",
    "            reducer(key, self.intermediate[key])\n",
    "\n",
    "        jenc = json.JSONEncoder()\n",
    "        for item in self.result:\n",
    "            print \"{\\\"key\\\":\\\"\"+item[0]+\"\\\",\\\"value\\\":\" + str(item[1]) + \"}\"\n",
    "\n",
    "mapReducer = MapReduce()\n",
    "\n"
   ]
  },
  {
   "cell_type": "code",
   "execution_count": 23,
   "metadata": {
    "collapsed": false
   },
   "outputs": [
    {
     "name": "stdout",
     "output_type": "stream",
     "text": [
      "{\"key\":\"Military\",\"value\":1}\n",
      "{\"key\":\"general\",\"value\":1}\n",
      "{\"key\":\"and\",\"value\":1}\n",
      "{\"key\":\"first\",\"value\":1}\n",
      "{\"key\":\"emperor\",\"value\":1}\n",
      "{\"key\":\"of\",\"value\":3}\n",
      "{\"key\":\"France,\",\"value\":1}\n",
      "{\"key\":\"Napoleon\",\"value\":1}\n",
      "{\"key\":\"Bonaparte\",\"value\":1}\n",
      "{\"key\":\"was\",\"value\":1}\n",
      "{\"key\":\"born\",\"value\":1}\n",
      "{\"key\":\"on\",\"value\":1}\n",
      "{\"key\":\"August\",\"value\":1}\n",
      "{\"key\":\"15,\",\"value\":1}\n",
      "{\"key\":\"1769,\",\"value\":1}\n",
      "{\"key\":\"in\",\"value\":2}\n",
      "{\"key\":\"Ajaccio,\",\"value\":1}\n",
      "{\"key\":\"Corsica,\",\"value\":1}\n",
      "{\"key\":\"France.\",\"value\":1}\n",
      "{\"key\":\"One\",\"value\":1}\n",
      "{\"key\":\"the\",\"value\":3}\n",
      "{\"key\":\"most\",\"value\":1}\n",
      "{\"key\":\"celebrated\",\"value\":1}\n",
      "{\"key\":\"leaders\",\"value\":1}\n",
      "{\"key\":\"history\",\"value\":1}\n",
      "{\"key\":\"Military\",\"value\":1}\n",
      "{\"key\":\"general\",\"value\":1}\n",
      "{\"key\":\"and\",\"value\":1}\n",
      "{\"key\":\"first\",\"value\":1}\n",
      "{\"key\":\"emperor\",\"value\":1}\n",
      "{\"key\":\"of\",\"value\":3}\n",
      "{\"key\":\"France,\",\"value\":1}\n",
      "{\"key\":\"Napoleon\",\"value\":1}\n",
      "{\"key\":\"Bonaparte\",\"value\":1}\n",
      "{\"key\":\"was\",\"value\":1}\n",
      "{\"key\":\"born\",\"value\":1}\n",
      "{\"key\":\"on\",\"value\":1}\n",
      "{\"key\":\"August\",\"value\":1}\n",
      "{\"key\":\"15,\",\"value\":1}\n",
      "{\"key\":\"1769,\",\"value\":1}\n",
      "{\"key\":\"in\",\"value\":2}\n",
      "{\"key\":\"Ajaccio,\",\"value\":1}\n",
      "{\"key\":\"Corsica,\",\"value\":1}\n",
      "{\"key\":\"France.\",\"value\":1}\n",
      "{\"key\":\"One\",\"value\":1}\n",
      "{\"key\":\"the\",\"value\":3}\n",
      "{\"key\":\"most\",\"value\":1}\n",
      "{\"key\":\"celebrated\",\"value\":1}\n",
      "{\"key\":\"leaders\",\"value\":1}\n",
      "{\"key\":\"history\",\"value\":1}\n",
      "{\"key\":\"Military\",\"value\":1}\n",
      "{\"key\":\"general\",\"value\":1}\n",
      "{\"key\":\"and\",\"value\":1}\n",
      "{\"key\":\"first\",\"value\":1}\n",
      "{\"key\":\"emperor\",\"value\":1}\n",
      "{\"key\":\"of\",\"value\":3}\n",
      "{\"key\":\"France,\",\"value\":1}\n",
      "{\"key\":\"Napoleon\",\"value\":1}\n",
      "{\"key\":\"Bonaparte\",\"value\":1}\n",
      "{\"key\":\"was\",\"value\":1}\n",
      "{\"key\":\"born\",\"value\":1}\n",
      "{\"key\":\"on\",\"value\":1}\n",
      "{\"key\":\"August\",\"value\":1}\n",
      "{\"key\":\"15,\",\"value\":1}\n",
      "{\"key\":\"1769,\",\"value\":1}\n",
      "{\"key\":\"in\",\"value\":2}\n",
      "{\"key\":\"Ajaccio,\",\"value\":1}\n",
      "{\"key\":\"Corsica,\",\"value\":1}\n",
      "{\"key\":\"France.\",\"value\":1}\n",
      "{\"key\":\"One\",\"value\":1}\n",
      "{\"key\":\"the\",\"value\":3}\n",
      "{\"key\":\"most\",\"value\":1}\n",
      "{\"key\":\"celebrated\",\"value\":1}\n",
      "{\"key\":\"leaders\",\"value\":1}\n",
      "{\"key\":\"history\",\"value\":1}\n"
     ]
    }
   ],
   "source": [
    "def mapper(record):\n",
    "    key = record[\"key\"]\n",
    "    value = record[\"value\"]\n",
    "    words = value.split()\n",
    "    for w in words:\n",
    "        # COMPLETE THE LINE BELOW BY FILLING UP THE QUESTION MARKS      \n",
    "        mapReducer.emitIntermediate(w, 1)\n",
    "\n",
    "def reducer(key, list_of_values):\n",
    "    # COMPLETE THE LINE BELOW BY FILLING UP THE QUESTION MARKS   \n",
    "    total = sum(list_of_values)\n",
    "    mapReducer.emit((key, total))\n",
    "\n",
    "\n",
    "if __name__ == '__main__':\n",
    "    inputData = []\n",
    "    counter = 0\n",
    "    for line in sys.stdin:\n",
    "        counter += 1\n",
    "        inputData.append(json.dumps({\"key\":counter,\"value\":line}))\n",
    "    mapReducer.execute(inputData, mapper, reducer)"
   ]
  },
  {
   "cell_type": "code",
   "execution_count": 13,
   "metadata": {
    "collapsed": false
   },
   "outputs": [],
   "source": [
    "myline = 'Military general and first emperor of France, Napoleon Bonaparte was born on August 15, 1769, in Ajaccio, Corsica, France. One of the most celebrated leaders in the history of the '\n",
    "inputData = []\n",
    "counter = 1\n",
    "inputData.append(json.dumps({\"key\":counter,\"value\":myline}))"
   ]
  },
  {
   "cell_type": "code",
   "execution_count": 14,
   "metadata": {
    "collapsed": false
   },
   "outputs": [
    {
     "data": {
      "text/plain": [
       "['{\"value\": \"Military general and first emperor of France, Napoleon Bonaparte was born on August 15, 1769, in Ajaccio, Corsica, France. One of the most celebrated leaders in the history of the \", \"key\": 1}']"
      ]
     },
     "execution_count": 14,
     "metadata": {},
     "output_type": "execute_result"
    }
   ],
   "source": [
    "inputData"
   ]
  },
  {
   "cell_type": "code",
   "execution_count": 15,
   "metadata": {
    "collapsed": true
   },
   "outputs": [],
   "source": [
    "def mapper(record):\n",
    "    key = record[\"key\"]\n",
    "    value = record[\"value\"]\n",
    "    words = value.split()\n",
    "    for w in words:\n",
    "        # COMPLETE THE LINE BELOW BY FILLING UP THE QUESTION MARKS      \n",
    "        mapReducer.emitIntermediate(w, 1)"
   ]
  },
  {
   "cell_type": "code",
   "execution_count": 16,
   "metadata": {
    "collapsed": false
   },
   "outputs": [
    {
     "name": "stdout",
     "output_type": "stream",
     "text": [
      "{u'key': 1, u'value': u'Military general and first emperor of France, Napoleon Bonaparte was born on August 15, 1769, in Ajaccio, Corsica, France. One of the most celebrated leaders in the history of the '}\n"
     ]
    }
   ],
   "source": [
    "for line in inputData:\n",
    "    record = json.loads(line)\n",
    "    print record\n",
    "    mapper(record)"
   ]
  },
  {
   "cell_type": "code",
   "execution_count": 17,
   "metadata": {
    "collapsed": false
   },
   "outputs": [
    {
     "name": "stdout",
     "output_type": "stream",
     "text": [
      "OrderedDict([(u'Military', [1]), (u'general', [1]), (u'and', [1]), (u'first', [1]), (u'emperor', [1]), (u'of', [1, 1, 1]), (u'France,', [1]), (u'Napoleon', [1]), (u'Bonaparte', [1]), (u'was', [1]), (u'born', [1]), (u'on', [1]), (u'August', [1]), (u'15,', [1]), (u'1769,', [1]), (u'in', [1, 1]), (u'Ajaccio,', [1]), (u'Corsica,', [1]), (u'France.', [1]), (u'One', [1]), (u'the', [1, 1, 1]), (u'most', [1]), (u'celebrated', [1]), (u'leaders', [1]), (u'history', [1])])\n"
     ]
    }
   ],
   "source": [
    "print mapReducer.intermediate"
   ]
  },
  {
   "cell_type": "code",
   "execution_count": 19,
   "metadata": {
    "collapsed": false
   },
   "outputs": [],
   "source": [
    "def reducer(key, list_of_values):\n",
    "    # COMPLETE THE LINE BELOW BY FILLING UP THE QUESTION MARKS   \n",
    "    total = len(list_of_values)\n",
    "    mapReducer.emit((key, total))\n",
    "    \n",
    "for key in mapReducer.intermediate:\n",
    "    reducer(key, mapReducer.intermediate[key])"
   ]
  },
  {
   "cell_type": "code",
   "execution_count": 20,
   "metadata": {
    "collapsed": false
   },
   "outputs": [
    {
     "name": "stdout",
     "output_type": "stream",
     "text": [
      "[(u'Military', 1), (u'general', 1), (u'and', 1), (u'first', 1), (u'emperor', 1), (u'of', 3), (u'France,', 1), (u'Napoleon', 1), (u'Bonaparte', 1), (u'was', 1), (u'born', 1), (u'on', 1), (u'August', 1), (u'15,', 1), (u'1769,', 1), (u'in', 2), (u'Ajaccio,', 1), (u'Corsica,', 1), (u'France.', 1), (u'One', 1), (u'the', 3), (u'most', 1), (u'celebrated', 1), (u'leaders', 1), (u'history', 1)]\n"
     ]
    }
   ],
   "source": [
    "print mapReducer.result"
   ]
  },
  {
   "cell_type": "code",
   "execution_count": 30,
   "metadata": {
    "collapsed": true
   },
   "outputs": [],
   "source": [
    "import json\n",
    "import sys\n",
    "from collections import OrderedDict\n",
    "class MapReduce:\n",
    "    def __init__(self):\n",
    "        self.intermediate = OrderedDict()\n",
    "        self.result = []\n",
    "\n",
    "    def emitIntermediate(self, key, value):\n",
    "        self.intermediate.setdefault(key, [])\n",
    "        self.intermediate[key].append(value)\n",
    "\n",
    "    def emit(self, value):\n",
    "        self.result.append(value) \n",
    "\n",
    "    def execute(self, data, mapper, reducer):\n",
    "        for line in data:\n",
    "            record = json.loads(line)\n",
    "            mapper(record)\n",
    "\n",
    "        for key in self.intermediate:\n",
    "            reducer(key, self.intermediate[key])\n",
    "\n",
    "        jenc = json.JSONEncoder()\n",
    "        for item in self.result:\n",
    "            print \"{\\\"key\\\":\\\"\"+item[0]+\"\\\",\\\"value\\\":\" + str(item[1]) + \"}\"\n",
    "\n",
    "mapReducer = MapReduce()\n",
    "\n",
    "def mapper(record):\n",
    "    key = record[\"key\"]\n",
    "    value = record[\"value\"]\n",
    "    words = value.split()\n",
    "    for w in words:\n",
    "        # COMPLETE THE LINE BELOW BY FILLING UP THE QUESTION MARKS      \n",
    "        mapReducer.emitIntermediate(w, 1)\n",
    "\n",
    "def reducer(key, list_of_values):\n",
    "    # COMPLETE THE LINE BELOW BY FILLING UP THE QUESTION MARKS   \n",
    "    total = sum(list_of_values)\n",
    "    mapReducer.emit((key, total))\n",
    "\n",
    "\n",
    "if __name__ == '__main__':\n",
    "    inputData = []\n",
    "    counter = 0\n",
    "    for line in sys.stdin:\n",
    "        counter += 1\n",
    "        inputData.append(json.dumps({\"key\":counter,\"value\":line}))\n",
    "    mapReducer.execute(inputData, mapper, reducer)"
   ]
  },
  {
   "cell_type": "code",
   "execution_count": 27,
   "metadata": {
    "collapsed": false
   },
   "outputs": [
    {
     "name": "stdout",
     "output_type": "stream",
     "text": [
      "['los angeles', 'san francisco']\n"
     ]
    }
   ],
   "source": [
    "city = ['los angeles', 'san francisco']\n",
    "print sorted(city)\n"
   ]
  },
  {
   "cell_type": "code",
   "execution_count": null,
   "metadata": {
    "collapsed": true
   },
   "outputs": [],
   "source": []
  },
  {
   "cell_type": "markdown",
   "metadata": {},
   "source": [
    "### Map Reduce Tutorials - #2 The Group By Operator"
   ]
  },
  {
   "cell_type": "code",
   "execution_count": 28,
   "metadata": {
    "collapsed": true
   },
   "outputs": [],
   "source": [
    "import json\n",
    "import sys\n",
    "from collections import OrderedDict\n",
    "class MapReduce:\n",
    "    def __init__(self):\n",
    "        self.intermediate = OrderedDict()\n",
    "        self.result = []\n",
    "   \n",
    "\n",
    "    def emitIntermediate(self, key, value):\n",
    "        self.intermediate.setdefault(key, [])       \n",
    "        self.intermediate[key].append(value)\n",
    "\n",
    "    def emit(self, value):\n",
    "        self.result.append(value) \n",
    "\n",
    "    def execute(self, data, mapper, reducer):\n",
    "   \n",
    "        for line in data:\n",
    "            record = json.loads(line)\n",
    "            mapper(record)\n",
    "\n",
    "        for key in self.intermediate:\n",
    "            reducer(key, self.intermediate[key])\n",
    "\n",
    "        jenc = json.JSONEncoder()\n",
    "        for item in self.result:\n",
    "            print \"{\\\"key\\\":\\\"\"+item[0]+\"\\\",\\\"value\\\":\\\"\" + str(item[1]) + \"\\\"}\"\n",
    "\n",
    "mapReducer = MapReduce()\n",
    "\n",
    "def mapper(record):\n",
    "    key = record[\"key\"]\n",
    "    value = record[\"value\"]\n",
    "    # COMPLETE THE LINE BELOW BY FILLING UP THE QUESTION MARKS      \n",
    "    mapReducer.emitIntermediate(key,value)\n",
    "\n",
    "def reducer(key, list_of_values):\n",
    "    # COMPLETE THE LINE BELOW BY FILLING UP THE QUESTION MARKS \n",
    "    mapReducer.emit((str(key),','.join(sorted(list_of_values))))\n",
    "\n",
    "\n",
    "if __name__ == '__main__':\n",
    "    inputData = []\n",
    "    counter = 0\n",
    "    for line in sys.stdin:\n",
    "        counter += 1\n",
    "        state, city = line.strip().split(\"\\t\")\n",
    "        inputData.append(json.dumps({\"key\":state,\"value\":city}))\n",
    "    mapReducer.execute(inputData, mapper, reducer)\n"
   ]
  },
  {
   "cell_type": "markdown",
   "metadata": {},
   "source": [
    "### Map Reduce Tutorials - #3 Composite Keys"
   ]
  },
  {
   "cell_type": "code",
   "execution_count": 29,
   "metadata": {
    "collapsed": true
   },
   "outputs": [],
   "source": [
    "import json\n",
    "import sys\n",
    "from collections import OrderedDict\n",
    "class MapReduce:\n",
    "    def __init__(self):\n",
    "        self.intermediate = OrderedDict()\n",
    "        self.result = []\n",
    "   \n",
    "\n",
    "    def emitIntermediate(self, key, value):\n",
    "        self.intermediate.setdefault(key, [])       \n",
    "        self.intermediate[key].append(value)\n",
    "\n",
    "    def emit(self, value):\n",
    "        self.result.append(value) \n",
    "\n",
    "    def execute(self, data, mapper, reducer):\n",
    "   \n",
    "        for line in data:\n",
    "            record = json.loads(line)\n",
    "            mapper(record)\n",
    "\n",
    "        for key in self.intermediate:\n",
    "            reducer(key, self.intermediate[key])\n",
    "\n",
    "        jenc = json.JSONEncoder()\n",
    "        for item in self.result:\n",
    "            print \"{\\\"key\\\":\\\"\"+item[0]+\"\\\",\\\"value\\\":\" + str(item[1]) + \"}\"\n",
    "\n",
    "mapReducer = MapReduce()\n",
    "\n",
    "def mapper(record):\n",
    "    key = record[\"key\"]\n",
    "    value = record[\"value\"]\n",
    "    # COMPLETE THE LINE BELOW BY FILLING UP THE QUESTION MARKS      \n",
    "    mapReducer.emitIntermediate(key, float(value))\n",
    "\n",
    "def reducer(key, list_of_values):\n",
    "    # COMPLETE THE LINE BELOW BY FILLING UP THE QUESTION MARKS\n",
    "    mapReducer.emit(( key, int(sum(list_of_values)+0.5)  ))\n",
    "\n",
    "\n",
    "if __name__ == '__main__':\n",
    "    inputData = []\n",
    "    counter = 0\n",
    "    for line in sys.stdin:\n",
    "        counter += 1\n",
    "        country, state, city, population = line.strip().split(\"\\t\")\n",
    "        inputData.append(json.dumps({\"key\":country+\",\"+state,\"value\":population}))\n",
    "    mapReducer.execute(inputData, mapper, reducer)"
   ]
  },
  {
   "cell_type": "code",
   "execution_count": null,
   "metadata": {
    "collapsed": true
   },
   "outputs": [],
   "source": []
  }
 ],
 "metadata": {
  "kernelspec": {
   "display_name": "Python 2",
   "language": "python",
   "name": "python2"
  },
  "language_info": {
   "codemirror_mode": {
    "name": "ipython",
    "version": 2
   },
   "file_extension": ".py",
   "mimetype": "text/x-python",
   "name": "python",
   "nbconvert_exporter": "python",
   "pygments_lexer": "ipython2",
   "version": "2.7.13"
  }
 },
 "nbformat": 4,
 "nbformat_minor": 2
}
