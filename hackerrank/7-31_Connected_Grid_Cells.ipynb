{
 "cells": [
  {
   "cell_type": "markdown",
   "metadata": {},
   "source": [
    "## Percolation, find largested connected region size, from matrix n*m filled with 0,1"
   ]
  },
  {
   "cell_type": "code",
   "execution_count": 8,
   "metadata": {
    "collapsed": true
   },
   "outputs": [],
   "source": [
    "from collections import defaultdict\n",
    "class Graph(object):\n",
    "    \n",
    "    def __init__(self):\n",
    "        self.nodes = defaultdict(list)\n",
    "        self.checked = defaultdict(int)\n",
    " \n",
    "    def addNode(self,u):\n",
    "        self.nodes[u] = []\n",
    "        self.checked[u] = 0\n",
    "        \n",
    "    # function to add an undirected edge between u, v\n",
    "    def addEdge(self,u,v):\n",
    "        self.nodes[u].append(v)\n",
    "        #self.nodes[v].append(u)\n",
    "        \n",
    "    def BFS(self, head):\n",
    "        #visited = [0]*(len(self.nodes))\n",
    "        visited = dict(zip(self.nodes, [0]*len(self.nodes)))\n",
    "        l = 0\n",
    "        queue = []\n",
    "        queue.append(head)\n",
    "        visited[head] = 1 \n",
    "        while queue:\n",
    "            s = queue.pop(0)\n",
    "            #print s, \n",
    "            l += 1\n",
    "            self.checked[s] = 1\n",
    "            for n in self.nodes[s]:\n",
    "                if visited[n] == 0:\n",
    "                    visited[n] = 1\n",
    "                    queue.append(n)    \n",
    "        return l\n",
    "        "
   ]
  },
  {
   "cell_type": "code",
   "execution_count": 2,
   "metadata": {
    "collapsed": false
   },
   "outputs": [
    {
     "data": {
      "text/plain": [
       "1"
      ]
     },
     "execution_count": 2,
     "metadata": {},
     "output_type": "execute_result"
    }
   ],
   "source": [
    "n=4\n",
    "m=4\n",
    "mat=[[1, 1, 0, 0], \n",
    "     [0, 1, 1, 0], \n",
    "     [0, 0, 1, 0], \n",
    "     [1, 0, 0, 0]]\n",
    "\n",
    "mat[0][1]"
   ]
  },
  {
   "cell_type": "code",
   "execution_count": 10,
   "metadata": {
    "collapsed": false
   },
   "outputs": [
    {
     "name": "stdout",
     "output_type": "stream",
     "text": [
      "5\n"
     ]
    }
   ],
   "source": [
    "g = Graph()\n",
    "for i in range(n):\n",
    "    for j in range(m):\n",
    "        if mat[i][j] == 1:\n",
    "            g.addNode((i,j))\n",
    "            neib = [(i-1,j-1), (i-1,j), (i-1,j+1), (i,j-1), (i,j+1),(i+1,j-1),(i+1,j),(i+1,j+1)]\n",
    "            neib = [ x for x in neib if x[0]>=0 and x[0]<n and x[1]>=0 and x[1]<m ]\n",
    "            for nb in neib:\n",
    "                if mat[nb[0]][nb[1]]==1:\n",
    "                    g.addEdge((i,j),nb)\n",
    "#print g.nodes\n",
    "regions = []\n",
    "for x in g.checked:\n",
    "    if g.checked[x] == 0:\n",
    "        regions.append(g.BFS(x))\n",
    "print max(regions)\n",
    "        "
   ]
  },
  {
   "cell_type": "code",
   "execution_count": 11,
   "metadata": {
    "collapsed": false
   },
   "outputs": [
    {
     "ename": "ValueError",
     "evalue": "invalid literal for int() with base 10: ''",
     "output_type": "error",
     "traceback": [
      "\u001b[0;31m---------------------------------------------------------------------------\u001b[0m",
      "\u001b[0;31mValueError\u001b[0m                                Traceback (most recent call last)",
      "\u001b[0;32m<ipython-input-11-5e333d0d3574>\u001b[0m in \u001b[0;36m<module>\u001b[0;34m()\u001b[0m\n\u001b[1;32m     38\u001b[0m \u001b[0;34m\u001b[0m\u001b[0m\n\u001b[1;32m     39\u001b[0m \u001b[0;32mimport\u001b[0m \u001b[0msys\u001b[0m\u001b[0;34m\u001b[0m\u001b[0m\n\u001b[0;32m---> 40\u001b[0;31m \u001b[0mn\u001b[0m \u001b[0;34m=\u001b[0m \u001b[0mint\u001b[0m\u001b[0;34m(\u001b[0m\u001b[0msys\u001b[0m\u001b[0;34m.\u001b[0m\u001b[0mstdin\u001b[0m\u001b[0;34m.\u001b[0m\u001b[0mreadline\u001b[0m\u001b[0;34m(\u001b[0m\u001b[0;34m)\u001b[0m\u001b[0;34m.\u001b[0m\u001b[0mstrip\u001b[0m\u001b[0;34m(\u001b[0m\u001b[0;34m)\u001b[0m\u001b[0;34m)\u001b[0m\u001b[0;34m\u001b[0m\u001b[0m\n\u001b[0m\u001b[1;32m     41\u001b[0m \u001b[0mm\u001b[0m \u001b[0;34m=\u001b[0m \u001b[0mint\u001b[0m\u001b[0;34m(\u001b[0m\u001b[0msys\u001b[0m\u001b[0;34m.\u001b[0m\u001b[0mstdin\u001b[0m\u001b[0;34m.\u001b[0m\u001b[0mreadline\u001b[0m\u001b[0;34m(\u001b[0m\u001b[0;34m)\u001b[0m\u001b[0;34m.\u001b[0m\u001b[0mstrip\u001b[0m\u001b[0;34m(\u001b[0m\u001b[0;34m)\u001b[0m\u001b[0;34m)\u001b[0m\u001b[0;34m\u001b[0m\u001b[0m\n\u001b[1;32m     42\u001b[0m \u001b[0mmat\u001b[0m \u001b[0;34m=\u001b[0m \u001b[0;34m[\u001b[0m\u001b[0;34m]\u001b[0m\u001b[0;34m\u001b[0m\u001b[0m\n",
      "\u001b[0;31mValueError\u001b[0m: invalid literal for int() with base 10: ''"
     ]
    }
   ],
   "source": [
    "#my solution\n",
    "from collections import defaultdict\n",
    "class Graph(object):\n",
    "    \n",
    "    def __init__(self):\n",
    "        self.nodes = defaultdict(list)\n",
    "        self.checked = defaultdict(int)\n",
    " \n",
    "    def addNode(self,u):\n",
    "        self.nodes[u] = []\n",
    "        self.checked[u] = 0\n",
    "        \n",
    "    # function to add an undirected edge between u, v\n",
    "    def addEdge(self,u,v):\n",
    "        self.nodes[u].append(v)\n",
    "        #self.nodes[v].append(u)\n",
    "        \n",
    "    def BFS(self, head):\n",
    "        #visited = [0]*(len(self.nodes))\n",
    "        visited = dict(zip(self.nodes, [0]*len(self.nodes)))\n",
    "        l = 0\n",
    "        queue = []\n",
    "        queue.append(head)\n",
    "        visited[head] = 1 \n",
    "        while queue:\n",
    "            s = queue.pop(0)\n",
    "            #print s, \n",
    "            l += 1\n",
    "            self.checked[s] = 1\n",
    "            for n in self.nodes[s]:\n",
    "                if visited[n] == 0:\n",
    "                    visited[n] = 1\n",
    "                    queue.append(n)    \n",
    "        return l\n",
    "        \n",
    "\n",
    "import sys\n",
    "n = int(sys.stdin.readline().strip())\n",
    "m = int(sys.stdin.readline().strip())\n",
    "mat = []\n",
    "for i in range(n):\n",
    "    row = map(int, sys.stdin.readline().strip().split())\n",
    "    mat.append(row)\n",
    "\n",
    "g = Graph()\n",
    "for i in range(n):\n",
    "    for j in range(m):\n",
    "        if mat[i][j] == 1:\n",
    "            g.addNode((i,j))\n",
    "            neib = [(i-1,j-1), (i-1,j), (i-1,j+1), (i,j-1), (i,j+1),(i+1,j-1),(i+1,j),(i+1,j+1)]\n",
    "            neib = [ x for x in neib if x[0]>=0 and x[0]<n and x[1]>=0 and x[1]<m ]\n",
    "            for nb in neib:\n",
    "                if mat[nb[0]][nb[1]]==1:\n",
    "                    g.addEdge((i,j),nb)\n",
    "#print g.nodes\n",
    "regions = []\n",
    "for x in g.checked:\n",
    "    if g.checked[x] == 0:\n",
    "        regions.append(g.BFS(x))\n",
    "print max(regions)"
   ]
  },
  {
   "cell_type": "markdown",
   "metadata": {},
   "source": [
    "## Official solution:\n",
    "    http://thedataincubator.github.io/coding-challenges/challenges/connected-cell-in-a-grid.html\n",
    "    \n",
    "Using the right kind of data structure is often the point of coding challenge questions. In this case, thinking of the matrix as a graph or tree lets us use a fairly straightforward depth-first-search algorithm.\n",
    "\n",
    "Question #1: What is the time complexity of this algorithm?\n",
    "\n",
    "Question #2: How does this algorithm compare with breadth-first-search for this problem?"
   ]
  },
  {
   "cell_type": "code",
   "execution_count": 13,
   "metadata": {
    "collapsed": false
   },
   "outputs": [
    {
     "name": "stdout",
     "output_type": "stream",
     "text": [
      "4\n",
      "4\n",
      "1 1 0 0\n",
      "0 1 1 0\n",
      "0 0 1 0\n",
      "1 0 0 0\n",
      "5\n"
     ]
    }
   ],
   "source": [
    "def dfs(x,m,n,i,j):\n",
    "    global size\n",
    "    size += 1\n",
    "    global maxSize\n",
    "    visited[i][j] = True\n",
    "    for p in range(i-1,i+2):\n",
    "        for q in range(j-1,j+2):\n",
    "            #print p,q\n",
    "            if p>=0 and p<m and q>=0 and q<n and (p!=i or q!=j) and visited[p][q] == False and x[p][q] == 1:\n",
    "                dfs(x,m,n,p,q)\n",
    "    if size > maxSize:\n",
    "        maxSize = size\n",
    "                \n",
    "m = int(raw_input())\n",
    "n = int(raw_input())\n",
    "matrix = []\n",
    "for i in range(m):\n",
    "    row = raw_input().split()\n",
    "    matrix.append([int(x) for x in row])\n",
    "    \n",
    "visited = [[False for y in range(n)]for z in range(m)]\n",
    "maxSize = 0\n",
    "for i in range(m):\n",
    "    for j in range(n):\n",
    "        if matrix[i][j] == 1 and not visited[i][j]:\n",
    "            size = 0\n",
    "            dfs(matrix,m,n,i,j)\n",
    "\n",
    "print maxSize"
   ]
  },
  {
   "cell_type": "code",
   "execution_count": null,
   "metadata": {
    "collapsed": true
   },
   "outputs": [],
   "source": []
  }
 ],
 "metadata": {
  "kernelspec": {
   "display_name": "Python 2",
   "language": "python",
   "name": "python2"
  },
  "language_info": {
   "codemirror_mode": {
    "name": "ipython",
    "version": 2
   },
   "file_extension": ".py",
   "mimetype": "text/x-python",
   "name": "python",
   "nbconvert_exporter": "python",
   "pygments_lexer": "ipython2",
   "version": "2.7.13"
  }
 },
 "nbformat": 4,
 "nbformat_minor": 2
}
