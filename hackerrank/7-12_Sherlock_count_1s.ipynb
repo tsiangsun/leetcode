{
 "cells": [
  {
   "cell_type": "code",
   "execution_count": 1,
   "metadata": {
    "collapsed": false
   },
   "outputs": [
    {
     "ename": "ValueError",
     "evalue": "invalid literal for int() with base 10: ''",
     "output_type": "error",
     "traceback": [
      "\u001b[0;31m---------------------------------------------------------------------------\u001b[0m",
      "\u001b[0;31mValueError\u001b[0m                                Traceback (most recent call last)",
      "\u001b[0;32m<ipython-input-1-c59589266dbe>\u001b[0m in \u001b[0;36m<module>\u001b[0;34m()\u001b[0m\n\u001b[1;32m      1\u001b[0m \u001b[0;32mimport\u001b[0m \u001b[0msys\u001b[0m\u001b[0;34m\u001b[0m\u001b[0m\n\u001b[0;32m----> 2\u001b[0;31m \u001b[0mT\u001b[0m \u001b[0;34m=\u001b[0m \u001b[0mint\u001b[0m\u001b[0;34m(\u001b[0m\u001b[0msys\u001b[0m\u001b[0;34m.\u001b[0m\u001b[0mstdin\u001b[0m\u001b[0;34m.\u001b[0m\u001b[0mreadline\u001b[0m\u001b[0;34m(\u001b[0m\u001b[0;34m)\u001b[0m\u001b[0;34m.\u001b[0m\u001b[0mstrip\u001b[0m\u001b[0;34m(\u001b[0m\u001b[0;34m)\u001b[0m\u001b[0;34m)\u001b[0m\u001b[0;34m\u001b[0m\u001b[0m\n\u001b[0m\u001b[1;32m      3\u001b[0m \u001b[0;32mfor\u001b[0m \u001b[0mi\u001b[0m \u001b[0;32min\u001b[0m \u001b[0mxrange\u001b[0m\u001b[0;34m(\u001b[0m\u001b[0mT\u001b[0m\u001b[0;34m)\u001b[0m\u001b[0;34m:\u001b[0m\u001b[0;34m\u001b[0m\u001b[0m\n\u001b[1;32m      4\u001b[0m     \u001b[0mN\u001b[0m\u001b[0;34m,\u001b[0m \u001b[0mK\u001b[0m \u001b[0;34m=\u001b[0m \u001b[0mmap\u001b[0m\u001b[0;34m(\u001b[0m\u001b[0mint\u001b[0m\u001b[0;34m,\u001b[0m \u001b[0msys\u001b[0m\u001b[0;34m.\u001b[0m\u001b[0mstdin\u001b[0m\u001b[0;34m.\u001b[0m\u001b[0mreadline\u001b[0m\u001b[0;34m(\u001b[0m\u001b[0;34m)\u001b[0m\u001b[0;34m.\u001b[0m\u001b[0mstrip\u001b[0m\u001b[0;34m(\u001b[0m\u001b[0;34m)\u001b[0m\u001b[0;34m.\u001b[0m\u001b[0msplit\u001b[0m\u001b[0;34m(\u001b[0m\u001b[0;34m' '\u001b[0m\u001b[0;34m)\u001b[0m\u001b[0;34m)\u001b[0m\u001b[0;34m\u001b[0m\u001b[0m\n\u001b[1;32m      5\u001b[0m     \u001b[0mS\u001b[0m \u001b[0;34m=\u001b[0m \u001b[0msys\u001b[0m\u001b[0;34m.\u001b[0m\u001b[0mstdin\u001b[0m\u001b[0;34m.\u001b[0m\u001b[0mreadline\u001b[0m\u001b[0;34m(\u001b[0m\u001b[0;34m)\u001b[0m\u001b[0;34m.\u001b[0m\u001b[0mstrip\u001b[0m\u001b[0;34m(\u001b[0m\u001b[0;34m)\u001b[0m\u001b[0;34m\u001b[0m\u001b[0m\n",
      "\u001b[0;31mValueError\u001b[0m: invalid literal for int() with base 10: ''"
     ]
    }
   ],
   "source": [
    "import sys\n",
    "T = int(sys.stdin.readline().strip())\n",
    "for i in xrange(T):\n",
    "    N, K = map(int, sys.stdin.readline().strip().split(' '))\n",
    "    S = sys.stdin.readline().strip()"
   ]
  },
  {
   "cell_type": "markdown",
   "metadata": {},
   "source": [
    "https://www.hackerrank.com/challenges/sherlock-and-probability"
   ]
  },
  {
   "cell_type": "code",
   "execution_count": 25,
   "metadata": {
    "collapsed": true
   },
   "outputs": [],
   "source": [
    "T=1\n",
    "N=4\n",
    "K=3\n",
    "S='1011'"
   ]
  },
  {
   "cell_type": "code",
   "execution_count": 30,
   "metadata": {
    "collapsed": false
   },
   "outputs": [
    {
     "name": "stdout",
     "output_type": "stream",
     "text": [
      "[1, 0, 1, 1]\n",
      "[1, 1]\n",
      "[1]\n",
      "count= 9\n"
     ]
    }
   ],
   "source": [
    "total = N*N\n",
    "def count_1(sli, K):\n",
    "    count = 0\n",
    "    N=len(sli)\n",
    "    if K > N:\n",
    "        return None\n",
    "    else:\n",
    "        if K==N:\n",
    "            return N*N\n",
    "        \n",
    "    for i in range(N):\n",
    "        subc = 0\n",
    "        slii = sli[i:min(i+K+1,N)]\n",
    "        \n",
    "        if slii[0] == 0:\n",
    "            continue\n",
    "        print slii\n",
    "        #print sum(slii)\n",
    "        #count += sum(slii)\n",
    "        for x in slii:\n",
    "            subc+=x\n",
    "        count += subc*2-1\n",
    "            \n",
    "    return count\n",
    "    \n",
    "'''\n",
    "for i in xrange(T):\n",
    "    N, K = map(int, sys.stdin.readline().strip().split())\n",
    "    S = sys.stdin.readline().strip()\n",
    "    sli = [int(i) for i in S]\n",
    "    sum = count_1(sli, K)\n",
    "    '''\n",
    "sli = [int(i) for i in S]\n",
    "cas = count_1(sli, K)\n",
    "print 'count=', cas"
   ]
  },
  {
   "cell_type": "code",
   "execution_count": 32,
   "metadata": {
    "collapsed": false
   },
   "outputs": [
    {
     "name": "stdout",
     "output_type": "stream",
     "text": [
      "<type 'list'>\n",
      "3 <type 'int'>\n"
     ]
    }
   ],
   "source": [
    "slist = [1, 0, 1, 1]\n",
    "print type(slist)\n",
    "#print sum(slist)\n",
    "ct = 0\n",
    "for x in slist:\n",
    "    ct+=x\n",
    "print ct,type(ct)"
   ]
  },
  {
   "cell_type": "code",
   "execution_count": null,
   "metadata": {
    "collapsed": true
   },
   "outputs": [],
   "source": [
    "for i in xrange(T):\n",
    "    N, K = map(int, sys.stdin.readline().strip().split(' '))\n",
    "    S = sys.stdin.readline().strip()\n",
    "    sli = [int(i) for i in S]\n",
    "    cas = count_1(sli, K)\n",
    "    total = N*N\n",
    "    if cas ==0:\n",
    "        print '0/1'\n",
    "    elif cas == total:\n",
    "        print '1/1'\n",
    "    else:\n",
    "        print '%s/%s' %(cas,total)"
   ]
  },
  {
   "cell_type": "code",
   "execution_count": 29,
   "metadata": {
    "collapsed": false
   },
   "outputs": [
    {
     "name": "stdout",
     "output_type": "stream",
     "text": [
      "[1, 0, 1]\n"
     ]
    }
   ],
   "source": [
    "slist = [1, 0, 1,1]\n",
    "N=len(slist)\n",
    "print slist[0:min(0+3,N)]"
   ]
  },
  {
   "cell_type": "code",
   "execution_count": null,
   "metadata": {
    "collapsed": true
   },
   "outputs": [],
   "source": [
    "#don't know what's wrong\n",
    "import sys\n",
    "T = int(sys.stdin.readline().strip())\n",
    "\n",
    "\n",
    "def count_1(sli, K):\n",
    "    count = 0\n",
    "    N=len(sli)\n",
    "    if K > N:\n",
    "        return None\n",
    "    else:\n",
    "        if K==N:\n",
    "            return N*N\n",
    "        \n",
    "    for i in range(N):\n",
    "        subc = 0\n",
    "        slii = sli[i:min(i+K+1,N)]\n",
    "        #print slii\n",
    "        if slii[0] == 0:\n",
    "            continue\n",
    "        #print sum(slii)\n",
    "        #count += sum(slii)\n",
    "        for x in slii:\n",
    "            subc+=x\n",
    "        count += subc*2-1\n",
    "            \n",
    "    return count\n",
    "    \n",
    "for i in xrange(T):\n",
    "    N, K = map(int, sys.stdin.readline().strip().split(' '))\n",
    "    S = sys.stdin.readline().strip()\n",
    "    sli = [int(i) for i in S]\n",
    "    cas = count_1(sli, K)\n",
    "    total = N*N\n",
    "    if cas ==0:\n",
    "        print '0/1'\n",
    "    elif cas == total:\n",
    "        print '1/1'\n",
    "    else:\n",
    "        print '%s/%s' %(cas,total)"
   ]
  },
  {
   "cell_type": "markdown",
   "metadata": {},
   "source": [
    "official solution: http://thedataincubator.github.io/coding-challenges/challenges/sherlock-and-probability.html"
   ]
  },
  {
   "cell_type": "code",
   "execution_count": 33,
   "metadata": {
    "collapsed": false
   },
   "outputs": [
    {
     "ename": "ValueError",
     "evalue": "invalid literal for int() with base 10: ''",
     "output_type": "error",
     "traceback": [
      "\u001b[0;31m---------------------------------------------------------------------------\u001b[0m",
      "\u001b[0;31mValueError\u001b[0m                                Traceback (most recent call last)",
      "\u001b[0;32m<ipython-input-33-068e8b2955da>\u001b[0m in \u001b[0;36m<module>\u001b[0;34m()\u001b[0m\n\u001b[1;32m     28\u001b[0m \u001b[0;32mif\u001b[0m \u001b[0m__name__\u001b[0m \u001b[0;34m==\u001b[0m \u001b[0;34m'__main__'\u001b[0m\u001b[0;34m:\u001b[0m\u001b[0;34m\u001b[0m\u001b[0m\n\u001b[1;32m     29\u001b[0m     \u001b[0;32mimport\u001b[0m \u001b[0msys\u001b[0m\u001b[0;34m\u001b[0m\u001b[0m\n\u001b[0;32m---> 30\u001b[0;31m     \u001b[0mT\u001b[0m \u001b[0;34m=\u001b[0m \u001b[0mint\u001b[0m\u001b[0;34m(\u001b[0m\u001b[0msys\u001b[0m\u001b[0;34m.\u001b[0m\u001b[0mstdin\u001b[0m\u001b[0;34m.\u001b[0m\u001b[0mreadline\u001b[0m\u001b[0;34m(\u001b[0m\u001b[0;34m)\u001b[0m\u001b[0;34m)\u001b[0m\u001b[0;34m\u001b[0m\u001b[0m\n\u001b[0m\u001b[1;32m     31\u001b[0m     \u001b[0;32mfor\u001b[0m \u001b[0mi\u001b[0m \u001b[0;32min\u001b[0m \u001b[0mxrange\u001b[0m\u001b[0;34m(\u001b[0m\u001b[0mT\u001b[0m\u001b[0;34m)\u001b[0m\u001b[0;34m:\u001b[0m\u001b[0;34m\u001b[0m\u001b[0m\n\u001b[1;32m     32\u001b[0m         \u001b[0mN\u001b[0m\u001b[0;34m,\u001b[0m \u001b[0mK\u001b[0m \u001b[0;34m=\u001b[0m \u001b[0mmap\u001b[0m\u001b[0;34m(\u001b[0m\u001b[0mint\u001b[0m\u001b[0;34m,\u001b[0m \u001b[0msys\u001b[0m\u001b[0;34m.\u001b[0m\u001b[0mstdin\u001b[0m\u001b[0;34m.\u001b[0m\u001b[0mreadline\u001b[0m\u001b[0;34m(\u001b[0m\u001b[0;34m)\u001b[0m\u001b[0;34m.\u001b[0m\u001b[0msplit\u001b[0m\u001b[0;34m(\u001b[0m\u001b[0;34m)\u001b[0m\u001b[0;34m)\u001b[0m\u001b[0;34m\u001b[0m\u001b[0m\n",
      "\u001b[0;31mValueError\u001b[0m: invalid literal for int() with base 10: ''"
     ]
    }
   ],
   "source": [
    "from fractions import Fraction\n",
    "\n",
    "def num_valid_pairs(arr, k):\n",
    "    total = 0\n",
    "    window = 0\n",
    "\n",
    "    for i in xrange(len(arr)):\n",
    "        if arr[i]:\n",
    "            total += window\n",
    "            window += 1\n",
    "        if i >= k and arr[i-k]:\n",
    "            window -= 1\n",
    "\n",
    "    total *= 2         # Either order allowed\n",
    "    total += sum(arr)  # Select self twice\n",
    "    return total\n",
    "\n",
    "def print_fraction(arr, k):\n",
    "    num = num_valid_pairs(arr, k)\n",
    "    den = len(arr)**2 # power of 2\n",
    "    if num == den:\n",
    "        print \"1/1\"\n",
    "    elif num:\n",
    "        print Fraction(num, den)\n",
    "    else:\n",
    "        print \"0/1\"\n",
    "\n",
    "if __name__ == '__main__':\n",
    "    import sys\n",
    "    T = int(sys.stdin.readline())\n",
    "    for i in xrange(T):\n",
    "        N, K = map(int, sys.stdin.readline().split())\n",
    "        arr = map(int, sys.stdin.readline().strip())\n",
    "        print_fraction(arr, K)"
   ]
  },
  {
   "cell_type": "code",
   "execution_count": null,
   "metadata": {
    "collapsed": true
   },
   "outputs": [],
   "source": []
  }
 ],
 "metadata": {
  "kernelspec": {
   "display_name": "Python 2",
   "language": "python",
   "name": "python2"
  },
  "language_info": {
   "codemirror_mode": {
    "name": "ipython",
    "version": 2
   },
   "file_extension": ".py",
   "mimetype": "text/x-python",
   "name": "python",
   "nbconvert_exporter": "python",
   "pygments_lexer": "ipython2",
   "version": "2.7.13"
  }
 },
 "nbformat": 4,
 "nbformat_minor": 2
}
