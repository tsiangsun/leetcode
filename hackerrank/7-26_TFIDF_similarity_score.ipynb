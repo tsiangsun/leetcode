{
 "cells": [
  {
   "cell_type": "code",
   "execution_count": 1,
   "metadata": {
    "collapsed": true
   },
   "outputs": [],
   "source": [
    "docs = \"\"\"I'd like an apple\n",
    "          An apple a day keeps the doctor away\n",
    "          Never compare an apple to an orange\n",
    "          I prefer scikit-learn to orange\"\"\""
   ]
  },
  {
   "cell_type": "code",
   "execution_count": 5,
   "metadata": {
    "collapsed": false
   },
   "outputs": [
    {
     "name": "stdout",
     "output_type": "stream",
     "text": [
      "4\n"
     ]
    }
   ],
   "source": [
    "doclist = docs.split('\\n')\n",
    "doclist = [x.strip() for x in doclist]\n",
    "print len(doclist)"
   ]
  },
  {
   "cell_type": "code",
   "execution_count": 6,
   "metadata": {
    "collapsed": false
   },
   "outputs": [
    {
     "name": "stdout",
     "output_type": "stream",
     "text": [
      "[\"I'd like an apple\", 'An apple a day keeps the doctor away', 'Never compare an apple to an orange', 'I prefer scikit-learn to orange']\n"
     ]
    }
   ],
   "source": [
    "print doclist"
   ]
  },
  {
   "cell_type": "code",
   "execution_count": 19,
   "metadata": {
    "collapsed": false
   },
   "outputs": [
    {
     "name": "stdout",
     "output_type": "stream",
     "text": [
      "['a', 'compare', 'apple', 'doctor', 'i', 'scikit-learn', 'away', 'never', 'prefer', 'an', 'to', \"i'd\", 'keeps', 'orange', 'the', 'day', 'like']\n"
     ]
    }
   ],
   "source": [
    "from collections import defaultdict\n",
    "\n",
    "aw = set()\n",
    "tfl = []\n",
    "\n",
    "for doc in doclist:\n",
    "    d = defaultdict(int)\n",
    "    wordlist = doc.split(' ')\n",
    "    for w in wordlist:\n",
    "        d[w.lower()] += 1\n",
    "        aw.add(w.lower())\n",
    "    tfl.append(d)\n",
    "\n",
    "al = list(aw)\n",
    "print al"
   ]
  },
  {
   "cell_type": "code",
   "execution_count": 17,
   "metadata": {
    "collapsed": false
   },
   "outputs": [
    {
     "name": "stdout",
     "output_type": "stream",
     "text": [
      "[1.3862943611198906, 1.3862943611198906, 0.28768207245178085, 1.3862943611198906, 1.3862943611198906, 1.3862943611198906, 1.3862943611198906, 1.3862943611198906, 1.3862943611198906, 0.28768207245178085, 0.6931471805599453, 1.3862943611198906, 1.3862943611198906, 0.6931471805599453, 1.3862943611198906, 1.3862943611198906, 1.3862943611198906]\n"
     ]
    }
   ],
   "source": [
    "idf = []\n",
    "n = len(doclist)\n",
    "import math\n",
    "\n",
    "for w in al:\n",
    "    nw = 0\n",
    "    for tf in tfl:\n",
    "        if w in tf:\n",
    "            nw+=1\n",
    "    idf.append(math.log(n*1.0/nw))\n",
    "print idf\n",
    "    "
   ]
  },
  {
   "cell_type": "code",
   "execution_count": 20,
   "metadata": {
    "collapsed": false
   },
   "outputs": [
    {
     "data": {
      "text/plain": [
       "[defaultdict(int, {'an': 1, 'apple': 1, \"i'd\": 1, 'like': 1}),\n",
       " defaultdict(int,\n",
       "             {'a': 1,\n",
       "              'an': 1,\n",
       "              'apple': 1,\n",
       "              'away': 1,\n",
       "              'day': 1,\n",
       "              'doctor': 1,\n",
       "              'keeps': 1,\n",
       "              'the': 1}),\n",
       " defaultdict(int,\n",
       "             {'an': 2,\n",
       "              'apple': 1,\n",
       "              'compare': 1,\n",
       "              'never': 1,\n",
       "              'orange': 1,\n",
       "              'to': 1}),\n",
       " defaultdict(int,\n",
       "             {'i': 1, 'orange': 1, 'prefer': 1, 'scikit-learn': 1, 'to': 1})]"
      ]
     },
     "execution_count": 20,
     "metadata": {},
     "output_type": "execute_result"
    }
   ],
   "source": [
    "tfl"
   ]
  },
  {
   "cell_type": "code",
   "execution_count": 22,
   "metadata": {
    "collapsed": false
   },
   "outputs": [
    {
     "name": "stdout",
     "output_type": "stream",
     "text": [
      "[[0.0, 0.0, 0.28768207245178085, 0.0, 0.0, 0.0, 0.0, 0.0, 0.0, 0.28768207245178085, 0.0, 1.3862943611198906, 0.0, 0.0, 0.0, 0.0, 1.3862943611198906], [1.3862943611198906, 0.0, 0.28768207245178085, 1.3862943611198906, 0.0, 0.0, 1.3862943611198906, 0.0, 0.0, 0.28768207245178085, 0.0, 0.0, 1.3862943611198906, 0.0, 1.3862943611198906, 1.3862943611198906, 0.0], [0.0, 1.3862943611198906, 0.28768207245178085, 0.0, 0.0, 0.0, 0.0, 1.3862943611198906, 0.0, 0.5753641449035617, 0.6931471805599453, 0.0, 0.0, 0.6931471805599453, 0.0, 0.0, 0.0], [0.0, 0.0, 0.0, 0.0, 1.3862943611198906, 1.3862943611198906, 0.0, 0.0, 1.3862943611198906, 0.0, 0.6931471805599453, 0.0, 0.0, 0.6931471805599453, 0.0, 0.0, 0.0]]\n"
     ]
    }
   ],
   "source": [
    "tfidfl = []\n",
    "for i in range(n):\n",
    "    tf = tfl[i]\n",
    "    tfidf = [0.0 for x in range(len(al))]\n",
    "    for w in tf:\n",
    "        ind = al.index(w)\n",
    "        tfidf[ind] = tf[w] * idf[ind]\n",
    "    tfidfl.append(tfidf)\n",
    "    \n",
    "print tfidfl\n",
    "        \n",
    "    \n",
    "def cosine_similarity(list1, list2):\n",
    "    sum = 0.\n",
    "    norm1 = 0.\n",
    "    norm2 = 0.\n",
    "    if len(list1) != len(list2):\n",
    "        return None\n",
    "    for i in range(len(list1)):\n",
    "        sum += list1[i] * list2[i]\n",
    "        norm1 += list1[i] * list1[i]\n",
    "        norm2 += list2[i] * list2[i]\n",
    "    return sum/math.sqrt(norm1)/math.sqrt(norm2)"
   ]
  },
  {
   "cell_type": "code",
   "execution_count": 26,
   "metadata": {
    "collapsed": false
   },
   "outputs": [
    {
     "name": "stdout",
     "output_type": "stream",
     "text": [
      "[0.024171502878575623, 0.05428188670359875, 0.0]\n",
      "0.0542818867036\n",
      "3\n"
     ]
    }
   ],
   "source": [
    "maxind=0\n",
    "maxscore=0\n",
    "scores=[]\n",
    "for i in range(1,n):\n",
    "    score = cosine_similarity(tfidfl[0], tfidfl[i])\n",
    "    scores.append(score)\n",
    "print scores\n",
    "print max(scores)\n",
    "print scores.index(max(scores))+2\n",
    "    "
   ]
  },
  {
   "cell_type": "code",
   "execution_count": 27,
   "metadata": {
    "collapsed": false
   },
   "outputs": [
    {
     "name": "stdout",
     "output_type": "stream",
     "text": [
      "3\n"
     ]
    }
   ],
   "source": [
    "from collections import defaultdict\n",
    "import math\n",
    "\n",
    "def cosine_similarity(list1, list2):\n",
    "    sum = 0.\n",
    "    norm1 = 0.\n",
    "    norm2 = 0.\n",
    "    if len(list1) != len(list2):\n",
    "        return None\n",
    "    for i in range(len(list1)):\n",
    "        sum += list1[i] * list2[i]\n",
    "        norm1 += list1[i] * list1[i]\n",
    "        norm2 += list2[i] * list2[i]\n",
    "    return sum/math.sqrt(norm1)/math.sqrt(norm2)\n",
    "\n",
    "docs = \"\"\"I'd like an apple\n",
    "          An apple a day keeps the doctor away\n",
    "          Never compare an apple to an orange\n",
    "          I prefer scikit-learn to orange\"\"\"\n",
    "\n",
    "doclist = docs.split('\\n')\n",
    "doclist = [x.strip() for x in doclist]\n",
    "aw = set()\n",
    "tfl = []\n",
    "\n",
    "for doc in doclist:\n",
    "    d = defaultdict(int)\n",
    "    wordlist = doc.split(' ')\n",
    "    for w in wordlist:\n",
    "        d[w.lower()] += 1\n",
    "        aw.add(w.lower())\n",
    "    tfl.append(d)\n",
    "\n",
    "al = list(aw)\n",
    "idf = []\n",
    "n = len(doclist)\n",
    "\n",
    "for w in al:\n",
    "    nw = 0\n",
    "    for tf in tfl:\n",
    "        if w in tf:\n",
    "            nw+=1\n",
    "    idf.append(math.log(n*1.0/nw))\n",
    "    \n",
    "tfidfl = []\n",
    "for i in range(n):\n",
    "    tf = tfl[i]\n",
    "    tfidf = [0.0 for x in range(len(al))]\n",
    "    for w in tf:\n",
    "        ind = al.index(w)\n",
    "        tfidf[ind] = tf[w] * idf[ind]\n",
    "    tfidfl.append(tfidf)\n",
    "    \n",
    "#print tfidfl\n",
    "scores=[]\n",
    "for i in range(1,n):\n",
    "    score = cosine_similarity(tfidfl[0], tfidfl[i])\n",
    "    scores.append(score)\n",
    "\n",
    "print scores.index(max(scores))+2\n",
    "    "
   ]
  },
  {
   "cell_type": "markdown",
   "metadata": {},
   "source": [
    "# Official solution\n"
   ]
  },
  {
   "cell_type": "code",
   "execution_count": 28,
   "metadata": {
    "collapsed": false
   },
   "outputs": [
    {
     "name": "stdout",
     "output_type": "stream",
     "text": [
      "3\n"
     ]
    }
   ],
   "source": [
    "import math\n",
    "\n",
    "docs = \"\"\"I'd like an apple\n",
    "          An apple a day keeps the doctor away\n",
    "          Never compare an apple to an orange\n",
    "          I prefer scikit-learn to orange\"\"\"\n",
    "\n",
    "count = lambda word, doc: sum(w == word for w in doc.split())\n",
    "inner = lambda a, b: [aa * bb for aa, bb in zip(a, b)]\n",
    "dot = lambda a, b: sum(inner(a, b))\n",
    "\n",
    "words = list(set(docs.split()))\n",
    "tf = [[count(word, doc) for word in words] for doc in docs.split('\\n')]\n",
    "idf = [math.log(1./(sum(word in doc for doc in docs.split('\\n')))) for word in words]\n",
    "tfidf = [inner(t, idf) for t in tf]\n",
    "cosines = [dot(tfidf[0], t) / math.sqrt(dot(tfidf[0], tfidf[0])) / math.sqrt(dot(t, t))\n",
    "           for t in tfidf[1:]]\n",
    "\n",
    "# We start with the second document\n",
    "print cosines.index(max(cosines)) + 2"
   ]
  },
  {
   "cell_type": "code",
   "execution_count": null,
   "metadata": {
    "collapsed": true
   },
   "outputs": [],
   "source": []
  }
 ],
 "metadata": {
  "kernelspec": {
   "display_name": "Python 2",
   "language": "python",
   "name": "python2"
  },
  "language_info": {
   "codemirror_mode": {
    "name": "ipython",
    "version": 2
   },
   "file_extension": ".py",
   "mimetype": "text/x-python",
   "name": "python",
   "nbconvert_exporter": "python",
   "pygments_lexer": "ipython2",
   "version": "2.7.13"
  }
 },
 "nbformat": 4,
 "nbformat_minor": 2
}
