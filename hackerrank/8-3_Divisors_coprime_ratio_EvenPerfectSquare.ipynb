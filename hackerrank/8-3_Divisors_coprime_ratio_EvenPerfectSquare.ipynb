{
 "cells": [
  {
   "cell_type": "code",
   "execution_count": 2,
   "metadata": {
    "collapsed": false
   },
   "outputs": [
    {
     "name": "stdout",
     "output_type": "stream",
     "text": [
      "[1, 2, 3, 4, 6, 9, 12, 18]\n"
     ]
    }
   ],
   "source": [
    "import math\n",
    "\n",
    "def divisors(n):\n",
    "    list_div = []\n",
    "    if n <= 2:\n",
    "        return list_div\n",
    "    for i in range(2, int(math.sqrt(n)) + 1):\n",
    "        if n % i == 0:\n",
    "            list_div.extend([i, n/i])\n",
    "    list_div.append(1)\n",
    "    return sorted(set(list_div))\n",
    "\n",
    "n = 36\n",
    "print divisors(n)"
   ]
  },
  {
   "cell_type": "code",
   "execution_count": 3,
   "metadata": {
    "collapsed": true
   },
   "outputs": [],
   "source": [
    "divs = divisors(n)"
   ]
  },
  {
   "cell_type": "code",
   "execution_count": 7,
   "metadata": {
    "collapsed": false
   },
   "outputs": [],
   "source": [
    "eps = 0\n",
    "for x in divs:\n",
    "    if x%2 ==0:\n",
    "        sq = int(math.sqrt(x))\n",
    "        if sq*sq == x:\n",
    "            #print x\n",
    "            eps += 1"
   ]
  },
  {
   "cell_type": "code",
   "execution_count": 8,
   "metadata": {
    "collapsed": false
   },
   "outputs": [
    {
     "name": "stdout",
     "output_type": "stream",
     "text": [
      "1/8\n"
     ]
    }
   ],
   "source": [
    "from fractions import Fraction\n",
    "fra = Fraction(eps,len(divs))\n",
    "print fra"
   ]
  },
  {
   "cell_type": "code",
   "execution_count": 9,
   "metadata": {
    "collapsed": false
   },
   "outputs": [
    {
     "ename": "ValueError",
     "evalue": "invalid literal for int() with base 10: ''",
     "output_type": "error",
     "traceback": [
      "\u001b[0;31m---------------------------------------------------------------------------\u001b[0m",
      "\u001b[0;31mValueError\u001b[0m                                Traceback (most recent call last)",
      "\u001b[0;32m<ipython-input-9-ebd2d5bb21f5>\u001b[0m in \u001b[0;36m<module>\u001b[0;34m()\u001b[0m\n\u001b[1;32m     13\u001b[0m     \u001b[0;32mreturn\u001b[0m \u001b[0msorted\u001b[0m\u001b[0;34m(\u001b[0m\u001b[0mset\u001b[0m\u001b[0;34m(\u001b[0m\u001b[0mlist_div\u001b[0m\u001b[0;34m)\u001b[0m\u001b[0;34m)\u001b[0m\u001b[0;34m\u001b[0m\u001b[0m\n\u001b[1;32m     14\u001b[0m \u001b[0;34m\u001b[0m\u001b[0m\n\u001b[0;32m---> 15\u001b[0;31m \u001b[0mT\u001b[0m \u001b[0;34m=\u001b[0m \u001b[0mint\u001b[0m\u001b[0;34m(\u001b[0m\u001b[0msys\u001b[0m\u001b[0;34m.\u001b[0m\u001b[0mstdin\u001b[0m\u001b[0;34m.\u001b[0m\u001b[0mreadline\u001b[0m\u001b[0;34m(\u001b[0m\u001b[0;34m)\u001b[0m\u001b[0;34m.\u001b[0m\u001b[0mstrip\u001b[0m\u001b[0;34m(\u001b[0m\u001b[0;34m)\u001b[0m\u001b[0;34m)\u001b[0m\u001b[0;34m\u001b[0m\u001b[0m\n\u001b[0m\u001b[1;32m     16\u001b[0m \u001b[0;34m\u001b[0m\u001b[0m\n\u001b[1;32m     17\u001b[0m \u001b[0;32mfor\u001b[0m \u001b[0mi\u001b[0m \u001b[0;32min\u001b[0m \u001b[0mrange\u001b[0m\u001b[0;34m(\u001b[0m\u001b[0mT\u001b[0m\u001b[0;34m)\u001b[0m\u001b[0;34m:\u001b[0m\u001b[0;34m\u001b[0m\u001b[0m\n",
      "\u001b[0;31mValueError\u001b[0m: invalid literal for int() with base 10: ''"
     ]
    }
   ],
   "source": [
    "from fractions import Fraction\n",
    "import math\n",
    "import sys\n",
    "\n",
    "def divisors(n):\n",
    "    list_div = []\n",
    "    if n <= 2:\n",
    "        return list_div\n",
    "    for i in range(2, int(math.sqrt(n)) + 1):\n",
    "        if n % i == 0:\n",
    "            list_div.extend([i, n/i])\n",
    "    list_div.append(1)\n",
    "    return sorted(set(list_div))\n",
    "\n",
    "T = int(sys.stdin.readline().strip())\n",
    "\n",
    "for i in range(T):\n",
    "    n = int(sys.stdin.readline().strip())\n",
    "    eps = 0\n",
    "    divs = divisors(n)\n",
    "    if len(divs)==0:\n",
    "        print 0\n",
    "    else:\n",
    "        for x in divs:\n",
    "            if x%2 ==0:\n",
    "                sq = int(math.sqrt(x))\n",
    "                if sq*sq == x:\n",
    "                    #print x\n",
    "                    eps += 1\n",
    "\n",
    "        fra = Fraction(eps,len(divs))\n",
    "        print fra"
   ]
  },
  {
   "cell_type": "markdown",
   "metadata": {},
   "source": [
    "# Official solution\n",
    "\n",
    "http://thedataincubator.github.io/coding-challenges/challenges/mehta-and-his-laziness.html"
   ]
  },
  {
   "cell_type": "code",
   "execution_count": 10,
   "metadata": {
    "collapsed": true
   },
   "outputs": [],
   "source": [
    "import sys\n",
    "from math import sqrt\n",
    "from fractions import gcd\n",
    "\n",
    "N = 1000000\n",
    "\n",
    "# calculate even squares\n",
    "is_even_square = [False]*(N+1)\n",
    "for i in xrange(1,int(sqrt(N))+1):\n",
    "    if i % 2 == 0:\n",
    "        is_even_square[i * i] = True\n",
    "\n",
    "# calculate even square divisors of numbers using a sieve, in O(N log N)\n",
    "even_square_divisors = [0]*(N+1)\n",
    "divisors = [0]*(N+1)\n",
    "for i in xrange(1,N+1):\n",
    "    for j in xrange(2*i,N+1,i):\n",
    "        divisors[j] += 1\n",
    "    if is_even_square[i]:\n",
    "        for j in xrange(2*i,N+1,i):\n",
    "            even_square_divisors[j] += 1\n",
    "\n",
    "# calculate answers\n",
    "_ = sys.stdin.readline()\n",
    "for line in sys.stdin:\n",
    "    n = int(line)\n",
    "    if even_square_divisors[n] == 0:\n",
    "        print 0\n",
    "    else:\n",
    "        p = even_square_divisors[n]\n",
    "        q = divisors[n]\n",
    "        g = gcd(p, q)\n",
    "        print \"%s/%s\" % (p / g, q / g)"
   ]
  },
  {
   "cell_type": "code",
   "execution_count": null,
   "metadata": {
    "collapsed": true
   },
   "outputs": [],
   "source": []
  }
 ],
 "metadata": {
  "kernelspec": {
   "display_name": "Python 2",
   "language": "python",
   "name": "python2"
  },
  "language_info": {
   "codemirror_mode": {
    "name": "ipython",
    "version": 2
   },
   "file_extension": ".py",
   "mimetype": "text/x-python",
   "name": "python",
   "nbconvert_exporter": "python",
   "pygments_lexer": "ipython2",
   "version": "2.7.13"
  }
 },
 "nbformat": 4,
 "nbformat_minor": 2
}
