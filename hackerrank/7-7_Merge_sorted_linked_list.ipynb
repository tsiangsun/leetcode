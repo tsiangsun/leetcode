{
 "cells": [
  {
   "cell_type": "code",
   "execution_count": 1,
   "metadata": {
    "collapsed": true
   },
   "outputs": [],
   "source": [
    "'''\n",
    " Merge two linked lists\n",
    " head could be None as well for empty list\n",
    " Node is defined as below\n",
    " return back the head of the linked list in the below method.\n",
    "'''\n",
    "\n",
    "class Node(object):\n",
    "    def __init__(self, data=None, next_node=None):\n",
    "        self.data = data\n",
    "        self.next = next_node\n",
    "\n",
    "def MergeLists(headA, headB):\n",
    "    if headA == None:\n",
    "        head = headB\n",
    "    elif headB == None:\n",
    "        head = headA\n",
    "    else:\n",
    "        if headA.data < headB.data:\n",
    "            head = headA\n",
    "            curr = head\n",
    "            currA = headA.next\n",
    "            currB = headB\n",
    "        else :\n",
    "            head = headB\n",
    "            curr = head\n",
    "            currA = headA\n",
    "            currB = headB.next\n",
    "        while currA != None or currB != None:\n",
    "            if currA == None:\n",
    "                curr.next = currB\n",
    "                curr = curr.next\n",
    "                currB = currB.next\n",
    "            elif currB == None:\n",
    "                curr.next = currA\n",
    "                curr = curr.next\n",
    "                currA = currA.next\n",
    "            else:\n",
    "                if currA.data < currB.data:\n",
    "                    curr.next = currA\n",
    "                    curr = curr.next\n",
    "                    currA = currA.next\n",
    "                else: \n",
    "                    curr.next = currB\n",
    "                    curr = curr.next\n",
    "                    currB = currB.next\n",
    "\n",
    "            curr.next = None\n",
    "    return head\n"
   ]
  },
  {
   "cell_type": "markdown",
   "metadata": {},
   "source": [
    "Official solution: http://thedataincubator.github.io/coding-challenges/challenges/merge-two-sorted-linked-lists.html"
   ]
  },
  {
   "cell_type": "code",
   "execution_count": 2,
   "metadata": {
    "collapsed": true
   },
   "outputs": [],
   "source": [
    "def MergeLists(headA, headB):\n",
    "    if headA is None:\n",
    "        return headB\n",
    "    if headB is None:\n",
    "        return headA\n",
    "    if headA.data <= headB.data:\n",
    "        headA.next = MergeLists(headA.next, headB)\n",
    "        return headA\n",
    "    headB.next = MergeLists(headA, headB.next)\n",
    "    return headB"
   ]
  },
  {
   "cell_type": "code",
   "execution_count": null,
   "metadata": {
    "collapsed": true
   },
   "outputs": [],
   "source": []
  }
 ],
 "metadata": {
  "kernelspec": {
   "display_name": "Python 2",
   "language": "python",
   "name": "python2"
  },
  "language_info": {
   "codemirror_mode": {
    "name": "ipython",
    "version": 2
   },
   "file_extension": ".py",
   "mimetype": "text/x-python",
   "name": "python",
   "nbconvert_exporter": "python",
   "pygments_lexer": "ipython2",
   "version": "2.7.13"
  }
 },
 "nbformat": 4,
 "nbformat_minor": 2
}
