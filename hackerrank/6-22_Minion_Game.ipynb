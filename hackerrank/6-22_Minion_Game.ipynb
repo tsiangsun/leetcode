{
 "cells": [
  {
   "cell_type": "markdown",
   "metadata": {},
   "source": [
    "Kevin and Stuart want to play the 'The Minion Game'.\n",
    "\n",
    "Game Rules\n",
    "\n",
    "* Both players are given the same string. Both players have to make substrings using the letters of the string. Stuart has to make words starting with consonants. Kevin has to make words starting with vowels. The game ends when both players have made all possible substrings. \n",
    "\n",
    "Scoring: A player gets +1 point for each occurrence of the substring in the string.\n",
    "\n",
    "* For Example:\n",
    "String  = BANANA\n",
    "Kevin's vowel beginning word = ANA\n",
    "Here, ANA occurs twice in BANANA. Hence, Kevin will get 2 Points. \n",
    "\n",
    "Your task is to determine the winner of the game and their score.\n",
    "\n",
    "* Input Format: A single line of input containing the string . \n",
    "Note: The string  will contain only uppercase letters: [A-Z].\n",
    "\n",
    "Constraints: 0 < len < 10E6\n",
    "\n",
    "\n",
    "* Output Format: Print one line: the name of the winner and their score separated by a space.\n",
    "\n",
    "If the game is a draw, print Draw.\n",
    "\n",
    "Sample Input\n",
    "\n",
    "BANANA\n",
    "\n",
    "Sample Output\n",
    "\n",
    "Stuart 12"
   ]
  },
  {
   "cell_type": "code",
   "execution_count": 3,
   "metadata": {
    "collapsed": false
   },
   "outputs": [
    {
     "name": "stdout",
     "output_type": "stream",
     "text": [
      "Sturt 12\n"
     ]
    }
   ],
   "source": [
    "def minion_game(string):\n",
    "    # your code goes here\n",
    "    ke = 0\n",
    "    st = 0\n",
    "    l = len(string)\n",
    "    for idx, c in enumerate(string):\n",
    "        if c in 'AEIOU':\n",
    "            ke += l - idx\n",
    "        else :\n",
    "            st += l - idx\n",
    "    if ke > st:\n",
    "        print 'Kevin', ke\n",
    "    elif st > ke:\n",
    "        print 'Stuart', st\n",
    "    else:\n",
    "        print 'Draw'\n",
    "    \n",
    "if __name__ == '__main__':\n",
    "    import sys\n",
    "    minion_game('BANANA')"
   ]
  },
  {
   "cell_type": "code",
   "execution_count": 6,
   "metadata": {
    "collapsed": false
   },
   "outputs": [
    {
     "name": "stdout",
     "output_type": "stream",
     "text": [
      "Draw\n"
     ]
    }
   ],
   "source": [
    "if __name__ == \"__main__\":\n",
    "    import sys\n",
    "    minion_game(sys.stdin.read().strip())"
   ]
  },
  {
   "cell_type": "code",
   "execution_count": null,
   "metadata": {
    "collapsed": true
   },
   "outputs": [],
   "source": []
  }
 ],
 "metadata": {
  "kernelspec": {
   "display_name": "Python 2",
   "language": "python",
   "name": "python2"
  },
  "language_info": {
   "codemirror_mode": {
    "name": "ipython",
    "version": 2
   },
   "file_extension": ".py",
   "mimetype": "text/x-python",
   "name": "python",
   "nbconvert_exporter": "python",
   "pygments_lexer": "ipython2",
   "version": "2.7.13"
  }
 },
 "nbformat": 4,
 "nbformat_minor": 2
}
