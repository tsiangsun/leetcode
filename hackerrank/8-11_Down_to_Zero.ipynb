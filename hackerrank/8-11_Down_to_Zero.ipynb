{
 "cells": [
  {
   "cell_type": "code",
   "execution_count": 6,
   "metadata": {
    "collapsed": false
   },
   "outputs": [
    {
     "name": "stdout",
     "output_type": "stream",
     "text": [
      "3\n"
     ]
    }
   ],
   "source": [
    "import math\n",
    "N = 4\n",
    "\n",
    "\n",
    "def downstep(N):\n",
    "    a = int(math.sqrt(N*1.0))\n",
    "    flag = 0\n",
    "    ans = N\n",
    "    while a >= 2:\n",
    "        if N % a == 0:\n",
    "            b = N / a\n",
    "            if a!=1 and b!=1:\n",
    "                ans = max(a,b)\n",
    "                flag = 1\n",
    "                break\n",
    "        a = a - 1\n",
    "    if flag == 0:\n",
    "        ans = ans - 1\n",
    "    return ans\n",
    "\n",
    "count = 0\n",
    "while N > 0:\n",
    "    N = downstep(N)\n",
    "    count += 1\n",
    "    #print N\n",
    "    \n",
    "print count"
   ]
  },
  {
   "cell_type": "code",
   "execution_count": 20,
   "metadata": {
    "collapsed": true
   },
   "outputs": [],
   "source": [
    "Nl = [7176, 3644, 9964, 2213, 5009, 4289, 522, 6687, 3079, 475, 7202, 3768, 1112, 1857, 9236, 3745, 5881, 9379, 5602, 8052, 2681, 3091, 8021, 473, 3558, 183, 1978, 2485, 3347, 5209, 9401, 3122, 4073, 1586, 2253, 5254, 6259, 2980, 2685, 5007, 3065, 8733, 9744, 9156, 7031, 1774, 502, 1695, 9454, 5710, 2233, 6480, 1686, 4132, 9478, 4031, 1047, 799, 6928, 8656, 184, 7209, 5901, 8995, 8576, 7114, 7680, 6613, 5518, 8400, 74, 691, 4895, 1727, 5389, 4151]\n",
    "\n",
    "oa = [7, 9, 8, 9, 9, 9, 8, 10, 7, 6, 8, 8, 9, 7, 8, 7, 7, 7, 8, 6, 9, 8, 8, 8, 9, 7, 7, 7, 9, 7, 7, 8, 9, 7, 8, 8, 9, 8, 8, 9, 8, 8, 6, 7, 9, 10, 8, 7, 8, 8, 7, 6, 8, 7, 8, 8, 9, 8, 8, 8, 7, 8, 8, 7, 6, 10, 6, 9, 8, 6, 7, 7, 9, 8, 9, 9]"
   ]
  },
  {
   "cell_type": "code",
   "execution_count": null,
   "metadata": {
    "collapsed": false
   },
   "outputs": [],
   "source": []
  },
  {
   "cell_type": "code",
   "execution_count": 21,
   "metadata": {
    "collapsed": false
   },
   "outputs": [
    {
     "name": "stdout",
     "output_type": "stream",
     "text": [
      "official right answer:\n",
      "[7, 9, 8, 9, 9, 9, 8, 10, 7, 6, 8, 8, 9, 7, 8, 7, 7, 7, 8, 6, 9, 8, 8, 8, 9, 7, 7, 7, 9, 7, 7, 8, 9, 7, 8, 8, 9, 8, 8, 9, 8, 8, 6, 7, 9, 10, 8, 7, 8, 8, 7, 6, 8, 7, 8, 8, 9, 8, 8, 8, 7, 8, 8, 7, 6, 10, 6, 9, 8, 6, 7, 7, 9, 8, 9, 9]\n",
      "76\n"
     ]
    }
   ],
   "source": [
    "print 'official right answer:'\n",
    "print oa\n",
    "print len(oa)"
   ]
  },
  {
   "cell_type": "code",
   "execution_count": 13,
   "metadata": {
    "collapsed": false
   },
   "outputs": [
    {
     "name": "stdout",
     "output_type": "stream",
     "text": [
      "my wrong answer:\n",
      "[10, 9, 9, 9, 9, 10, 8, 10, 9, 6, 11, 8, 11, 10, 10, 10, 7, 9, 8, 9, 11, 8, 9, 8, 9, 8, 10, 8, 9, 7, 7, 9, 12, 8, 8, 8, 10, 9, 11, 13, 9, 8, 8, 7, 9, 11, 8, 9, 8, 8, 8, 6, 8, 10, 9, 11, 10, 11, 8, 8, 9, 9, 8, 7, 6, 11, 6, 9, 9, 7, 7, 7, 9, 8, 10, 9]\n",
      "76\n"
     ]
    }
   ],
   "source": [
    "al = []\n",
    "for N in Nl:\n",
    "    count = 0\n",
    "    while N > 0:\n",
    "        N = downstep(N)\n",
    "        count += 1\n",
    "    al.append(count)\n",
    "print 'my wrong answer:'\n",
    "print al\n",
    "print len(al)"
   ]
  },
  {
   "cell_type": "markdown",
   "metadata": {},
   "source": [
    "## Official solution (DP)\n",
    "\n",
    "We’ll tackle this one through dynamic programming - we’ll build up solutions for all possible values, starting from the smallest ones where we know the answer (2, in this case - it must have answer 2).\n"
   ]
  },
  {
   "cell_type": "code",
   "execution_count": 17,
   "metadata": {
    "collapsed": false
   },
   "outputs": [
    {
     "name": "stdout",
     "output_type": "stream",
     "text": [
      "[7, 9, 8, 9, 9, 9, 8, 10, 7, 6, 8, 8, 9, 7, 8, 7, 7, 7, 8, 6, 9, 8, 8, 8, 9, 7, 7, 7, 9, 7, 7, 8, 9, 7, 8, 8, 9, 8, 8, 9, 8, 8, 6, 7, 9, 10, 8, 7, 8, 8, 7, 6, 8, 7, 8, 8, 9, 8, 8, 8, 7, 8, 8, 7, 6, 10, 6, 9, 8, 6, 7, 7, 9, 8, 9, 9]\n"
     ]
    }
   ],
   "source": [
    "import math\n",
    "import sys\n",
    "\n",
    "min_steps = range(1000001)\n",
    "for n in xrange(2, 1000001):\n",
    "    #Check: is the current value better, or is it better to do N-1 first?\n",
    "    min_steps[n] = min((min_steps[n-1]+1, min_steps[n]))\n",
    "    #For any one where we know the solution, put all multiples\n",
    "    #to follow the rule around factoring\n",
    "    for i in xrange(2, min((n, 1000000/n)) + 1):\n",
    "        min_steps[n*i] = min((min_steps[n]+1, min_steps[n*i]))\n",
    "\n",
    "#_ = sys.stdin.readline()\n",
    "#for line in sys.stdin:\n",
    "#    print min_steps[int(line)]\n",
    "\n",
    "al = []\n",
    "for N in Nl:\n",
    "    al.append( min_steps[N] )\n",
    "    \n",
    "print al"
   ]
  },
  {
   "cell_type": "code",
   "execution_count": 18,
   "metadata": {
    "collapsed": false
   },
   "outputs": [],
   "source": [
    "for i in range(76):\n",
    "    if al[i] != oa[i]:\n",
    "        print i, al[i], oa[i]"
   ]
  },
  {
   "cell_type": "code",
   "execution_count": null,
   "metadata": {
    "collapsed": true
   },
   "outputs": [],
   "source": []
  }
 ],
 "metadata": {
  "kernelspec": {
   "display_name": "Python 2",
   "language": "python",
   "name": "python2"
  },
  "language_info": {
   "codemirror_mode": {
    "name": "ipython",
    "version": 2
   },
   "file_extension": ".py",
   "mimetype": "text/x-python",
   "name": "python",
   "nbconvert_exporter": "python",
   "pygments_lexer": "ipython2",
   "version": "2.7.13"
  }
 },
 "nbformat": 4,
 "nbformat_minor": 2
}
