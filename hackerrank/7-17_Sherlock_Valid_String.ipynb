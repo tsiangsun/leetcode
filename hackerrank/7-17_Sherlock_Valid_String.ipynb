{
 "cells": [
  {
   "cell_type": "code",
   "execution_count": 1,
   "metadata": {
    "collapsed": false
   },
   "outputs": [
    {
     "ename": "IndentationError",
     "evalue": "expected an indented block (<ipython-input-1-c41934163c9c>, line 6)",
     "output_type": "error",
     "traceback": [
      "\u001b[0;36m  File \u001b[0;32m\"<ipython-input-1-c41934163c9c>\"\u001b[0;36m, line \u001b[0;32m6\u001b[0m\n\u001b[0;31m    s = raw_input().strip()\u001b[0m\n\u001b[0m    ^\u001b[0m\n\u001b[0;31mIndentationError\u001b[0m\u001b[0;31m:\u001b[0m expected an indented block\n"
     ]
    }
   ],
   "source": [
    "import sys\n",
    "\n",
    "def isValid(s):\n",
    "    # Complete this function\n",
    "\n",
    "s = raw_input().strip()\n",
    "result = isValid(s)\n",
    "print(result)"
   ]
  },
  {
   "cell_type": "code",
   "execution_count": 11,
   "metadata": {
    "collapsed": true
   },
   "outputs": [],
   "source": [
    "s='aabbcd'\n",
    "s='a'\n",
    "s='ibfdgaeadiaefgbhbdghhhbgdfgeiccbiehhfcggchgghadhdhagfbahhddgghbdehidbibaeaagaeeigffcebfbaieggabcfbiiedcabfihchdfabifahcbhagccbdfifhghcadfiadeeaheeddddiecaicbgigccageicehfdhdgafaddhffadigfhhcaedcedecafeacbdacgfgfeeibgaiffdehigebhhehiaahfidibccdcdagifgaihacihadecgifihbebffebdfbchbgigeccahgihbcbcaggebaaafgfedbfgagfediddghdgbgehhhifhgcedechahidcbchebheihaadbbbiaiccededchdagfhccfdefigfibifabeiaccghcegfbcghaefifbachebaacbhbfgfddeceababbacgffbagidebeadfihaefefegbghgddbbgddeehgfbhafbccidebgehifafgbghafacgfdccgifdcbbbidfifhdaibgigebigaedeaaiadegfefbhacgddhchgcbgcaeaieiegiffchbgbebgbehbbfcebciiagacaiechdigbgbghefcahgbhfibhedaeeiffebdiabcifgccdefabccdghehfibfiifdaicfedagahhdcbhbicdgibgcedieihcichadgchgbdcdagaihebbabhibcihicadgadfcihdheefbhffiageddhgahaidfdhhdbgciiaciegchiiebfbcbhaeagccfhbfhaddagnfieihghfbaggiffbbfbecgaiiidccdceadbbdfgigibgcgchafccdchgifdeieicbaididhfcfdedbhaadedfageigfdehgcdaecaebebebfcieaecfagfdieaefdiedbcadchabhebgehiidfcgahcdhcdhgchhiiheffiifeegcfdgbdeffhgeghdfhbfbifgidcafbfcd'"
   ]
  },
  {
   "cell_type": "code",
   "execution_count": 10,
   "metadata": {
    "collapsed": false
   },
   "outputs": [
    {
     "name": "stdout",
     "output_type": "stream",
     "text": [
      "{'a': 111, 'c': 111, 'b': 111, 'e': 111, 'd': 111, 'g': 111, 'f': 111, 'i': 111, 'h': 111, 'n': 1}\n",
      "YES\n"
     ]
    }
   ],
   "source": [
    "def isValid(s):\n",
    "    dic = dict()\n",
    "    for c in s :\n",
    "        if c in dic:\n",
    "            dic[c] += 1\n",
    "        else:\n",
    "            dic[c] = 1\n",
    "    print dic\n",
    "    min_val = min(dic.itervalues())\n",
    "    flag_m = 0\n",
    "    if min_val == 1:\n",
    "        if len(dic)==1:\n",
    "            return 'YES'\n",
    "        new_dic = { k:v for k, v in dic.items() if v>min_val }\n",
    "        if len(new_dic)==len(dic)-1:\n",
    "            if min(new_dic.itervalues()) == max(new_dic.itervalues()):\n",
    "                return 'YES'\n",
    "            \n",
    "    for key in dic:\n",
    "        if dic[key] == min_val:\n",
    "            pass\n",
    "        else: \n",
    "            if dic[key] == min_val + 1:\n",
    "                if flag_m == 0:\n",
    "                    flag_m = 1\n",
    "                    continue\n",
    "                else:\n",
    "                    return 'NO'\n",
    "            else:\n",
    "                return 'NO'\n",
    "    return 'YES'\n",
    "            \n",
    "print isValid(s)\n",
    "    "
   ]
  },
  {
   "cell_type": "markdown",
   "metadata": {},
   "source": [
    "Official solution:\n"
   ]
  },
  {
   "cell_type": "code",
   "execution_count": 12,
   "metadata": {
    "collapsed": false
   },
   "outputs": [
    {
     "name": "stdout",
     "output_type": "stream",
     "text": [
      "a\n",
      "YES\n"
     ]
    }
   ],
   "source": [
    "s = raw_input()\n",
    "d = {}\n",
    "for i in s:\n",
    "    if i not in d:\n",
    "        d[i]=0\n",
    "    else:\n",
    "        d[i] += 1\n",
    "\n",
    "ar = []\n",
    "for i in d:\n",
    "    ar.append(d[i])\n",
    "\n",
    "if len(ar)==1:\n",
    "    print 'YES'\n",
    "else:\n",
    "    ar.sort()\n",
    "    if ar[0]==ar[-1] or (ar[0]!=ar[1] and ar[1]==ar[-1]) or (ar[0]==ar[-2] and ar[-2]!=ar[-1]):\n",
    "        print 'YES'\n",
    "    else:\n",
    "        print 'NO'"
   ]
  },
  {
   "cell_type": "code",
   "execution_count": null,
   "metadata": {
    "collapsed": true
   },
   "outputs": [],
   "source": []
  }
 ],
 "metadata": {
  "kernelspec": {
   "display_name": "Python 2",
   "language": "python",
   "name": "python2"
  },
  "language_info": {
   "codemirror_mode": {
    "name": "ipython",
    "version": 2
   },
   "file_extension": ".py",
   "mimetype": "text/x-python",
   "name": "python",
   "nbconvert_exporter": "python",
   "pygments_lexer": "ipython2",
   "version": "2.7.13"
  }
 },
 "nbformat": 4,
 "nbformat_minor": 2
}
