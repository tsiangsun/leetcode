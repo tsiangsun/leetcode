{
 "cells": [
  {
   "cell_type": "markdown",
   "metadata": {
    "deletable": true,
    "editable": true
   },
   "source": [
    "* You are given a string S. The string contains only lowercase English alphabet characters. Your task is to find the top three most common characters in the string S.\n",
    "\n",
    "- Input Format: A single line of input containing the string S. Constraints: 3 < len(S) < 10**4\n",
    "\n",
    "- Output Format: Print the three most common characters along with their occurrence count each on a separate line.\n",
    "Sort output in descending order of occurrence count.\n",
    "If the occurrence count is the same, sort the characters in ascending order.\n",
    "\n",
    "\n",
    "  * Sample Input\n",
    "\n",
    "aabbbccde\n",
    "\n",
    "  * Sample Output\n",
    "\n",
    "b  3\n",
    "\n",
    "a  2\n",
    "\n",
    "c  2\n",
    "\n",
    "* Explanation: Here, b occurs 3 times. It is printed first. Both a and c occur 2 times. So, a is printed in the second line and c in the third line because a comes before c. Note: The string  has at least 3 distinct characters."
   ]
  },
  {
   "cell_type": "code",
   "execution_count": 3,
   "metadata": {
    "collapsed": false,
    "deletable": true,
    "editable": true
   },
   "outputs": [
    {
     "name": "stdout",
     "output_type": "stream",
     "text": [
      "b 3\n",
      "a 2\n",
      "c 2\n"
     ]
    }
   ],
   "source": [
    "import sys\n",
    "line = sys.stdin.readline()\n",
    "line = 'aabbbccde'\n",
    "\n",
    "keys = 'abcdefghijklmnopqrstuvwxyz'\n",
    "count = dict(zip(keys, [0]*len(keys)))\n",
    "\n",
    "for s in line:\n",
    "    count[s] += 1\n",
    "    \n",
    "from collections import OrderedDict\n",
    "#from operator import itemgetter\n",
    "#scount = sorted(count, key=count.get, reverse=True)\n",
    "#scount = OrderedDict(sorted(count.items(), key=itemgetter(1), reverse=True))\n",
    "scount = OrderedDict(sorted(count.items(), key=lambda t: (-t[1],t[0])))\n",
    "\n",
    "y = list(scount.items())[:3]\n",
    "for k,v in y:\n",
    "    print k,v"
   ]
  },
  {
   "cell_type": "markdown",
   "metadata": {
    "deletable": true,
    "editable": true
   },
   "source": [
    "Official solution:\n",
    "http://thedataincubator.github.io/coding-challenges/challenges/most-commons.html"
   ]
  },
  {
   "cell_type": "code",
   "execution_count": 5,
   "metadata": {
    "collapsed": false,
    "deletable": true,
    "editable": true
   },
   "outputs": [
    {
     "name": "stdout",
     "output_type": "stream",
     "text": [
      "b 3\n",
      "a 2\n",
      "c 2\n"
     ]
    }
   ],
   "source": [
    "import sys\n",
    "from collections import defaultdict\n",
    "\n",
    "string = sys.stdin.readline().strip()\n",
    "string = 'aabbbccde'\n",
    "d = defaultdict(int)\n",
    "for c in string:\n",
    "    d[c] += 1\n",
    "counts = sorted(d.items(), key=lambda (c, n): (-n, c))\n",
    "\n",
    "for c, n in counts[:3]:\n",
    "    print c, n"
   ]
  },
  {
   "cell_type": "code",
   "execution_count": null,
   "metadata": {
    "collapsed": true,
    "deletable": true,
    "editable": true
   },
   "outputs": [],
   "source": []
  }
 ],
 "metadata": {
  "kernelspec": {
   "display_name": "Python 2",
   "language": "python",
   "name": "python2"
  },
  "language_info": {
   "codemirror_mode": {
    "name": "ipython",
    "version": 2
   },
   "file_extension": ".py",
   "mimetype": "text/x-python",
   "name": "python",
   "nbconvert_exporter": "python",
   "pygments_lexer": "ipython2",
   "version": "2.7.13"
  }
 },
 "nbformat": 4,
 "nbformat_minor": 2
}
