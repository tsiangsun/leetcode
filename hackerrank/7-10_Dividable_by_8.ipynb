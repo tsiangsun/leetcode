{
 "cells": [
  {
   "cell_type": "code",
   "execution_count": 1,
   "metadata": {
    "collapsed": true
   },
   "outputs": [],
   "source": [
    "import math"
   ]
  },
  {
   "cell_type": "code",
   "execution_count": 8,
   "metadata": {
    "collapsed": false
   },
   "outputs": [],
   "source": [
    "for i in range(1,50,1):\n",
    "    #print 8*i\n",
    "    pass"
   ]
  },
  {
   "cell_type": "code",
   "execution_count": 6,
   "metadata": {
    "collapsed": true
   },
   "outputs": [],
   "source": [
    "list200=[8,16,24, 32, 40, 48, 56, 64, 72, 80, 88, 96]"
   ]
  },
  {
   "cell_type": "code",
   "execution_count": 9,
   "metadata": {
    "collapsed": true
   },
   "outputs": [],
   "source": [
    "list100=[4,12,20,28,36,44,52,60,68,76,84,92]"
   ]
  },
  {
   "cell_type": "code",
   "execution_count": 12,
   "metadata": {
    "collapsed": true
   },
   "outputs": [],
   "source": [
    "import re\n",
    "def find_even(string):\n",
    "    m = re.search(r'[24680]',string)\n",
    "    if m:\n",
    "        return True\n",
    "    else:\n",
    "        return False\n",
    "    \n",
    "def find_odd(string):\n",
    "    m = re.search(r'[13579]',string)\n",
    "    if m:\n",
    "        return True\n",
    "    else:\n",
    "        return False\n",
    "    "
   ]
  },
  {
   "cell_type": "code",
   "execution_count": 17,
   "metadata": {
    "collapsed": false
   },
   "outputs": [],
   "source": [
    "inp = 12372\n",
    "nstr = str(inp)"
   ]
  },
  {
   "cell_type": "code",
   "execution_count": 19,
   "metadata": {
    "collapsed": true
   },
   "outputs": [],
   "source": [
    "def test_8(nstr):\n",
    "    list200=['16','24', '32', '40', '48', '56', '64', '72', '80', '88', '96']\n",
    "    list100=['04','12','20', '28', '36', '44', '52', '60', '68', '76', '84','92']\n",
    "    \n",
    "    if len(nstr)==1:\n",
    "        return nstr=='8'\n",
    "    elif len(nstr)==2:\n",
    "        if nstr in list200:\n",
    "            return True\n",
    "        for sub in list200:\n",
    "            ntest = nstr\n",
    "            for c in sub:#remove two char in ntest\n",
    "                if c in ntest:\n",
    "                    ntest = ntest.replace(c,'')\n",
    "                else:\n",
    "                    break\n",
    "            if ntest=='':\n",
    "                return True\n",
    "        return False\n",
    "     \n",
    "    else:#len(nstr)>=3\n",
    "        \n",
    "        for sub in list200:\n",
    "            ntest = nstr\n",
    "            for c in sub:#remove two char in ntest\n",
    "                if c in ntest:\n",
    "                    ntest = ntest.replace(c,'')\n",
    "            if len(ntest)==1:\n",
    "                if find_even_no8(ntest):\n",
    "                    return True\n",
    "            else:\n",
    "                if find_even(ntest):\n",
    "                    return True\n",
    "            \n",
    "        for sub in list100:\n",
    "            ntest = nstr\n",
    "            for c in sub:#remove two char in ntest\n",
    "                if c in ntest:\n",
    "                    ntest = ntest.replace(c,'')\n",
    "            if find_odd(ntest):\n",
    "                return True \n",
    "            \n",
    "        ntest = nstr\n",
    "        if '0' in ntest:\n",
    "            ntest = ntest.replace('0','')\n",
    "            if '0' in ntest:\n",
    "                ntest = ntest.replace('0','')\n",
    "                if find_even(ntest):\n",
    "                    return True\n",
    "        \n",
    "        return False\n",
    "        \n",
    "                \n",
    "            \n",
    "    "
   ]
  },
  {
   "cell_type": "code",
   "execution_count": 20,
   "metadata": {
    "collapsed": false
   },
   "outputs": [
    {
     "data": {
      "text/plain": [
       "True"
      ]
     },
     "execution_count": 20,
     "metadata": {},
     "output_type": "execute_result"
    }
   ],
   "source": [
    "test_8(nstr)"
   ]
  },
  {
   "cell_type": "markdown",
   "metadata": {},
   "source": [
    "official solution: http://thedataincubator.github.io/coding-challenges/challenges/manasa-loves-maths.html"
   ]
  },
  {
   "cell_type": "code",
   "execution_count": 21,
   "metadata": {
    "collapsed": true
   },
   "outputs": [],
   "source": [
    "import itertools\n",
    "\n",
    "def div_eight(string):\n",
    "    for c in itertools.permutations(string, min(len(string), 3)):\n",
    "        if int(''.join(c)) % 8 == 0:\n",
    "            return True\n",
    "    return False"
   ]
  },
  {
   "cell_type": "code",
   "execution_count": 22,
   "metadata": {
    "collapsed": false
   },
   "outputs": [
    {
     "data": {
      "text/plain": [
       "True"
      ]
     },
     "execution_count": 22,
     "metadata": {},
     "output_type": "execute_result"
    }
   ],
   "source": [
    "div_eight(nstr)"
   ]
  },
  {
   "cell_type": "code",
   "execution_count": 23,
   "metadata": {
    "collapsed": true
   },
   "outputs": [],
   "source": [
    "import itertools\n",
    "\n",
    "def div_eight(string):\n",
    "    for c in itertools.permutations(string, min(len(string), 3)):\n",
    "        if int(''.join(c)) % 8 == 0:\n",
    "            return True\n",
    "    return False\n",
    "\n",
    "if __name__ == '__main__':\n",
    "    import sys\n",
    "    _ = sys.stdin.readline()\n",
    "    for line in sys.stdin:\n",
    "        print \"YES\" if div_eight(line.strip()) else \"NO\""
   ]
  },
  {
   "cell_type": "code",
   "execution_count": null,
   "metadata": {
    "collapsed": true
   },
   "outputs": [],
   "source": []
  }
 ],
 "metadata": {
  "kernelspec": {
   "display_name": "Python 2",
   "language": "python",
   "name": "python2"
  },
  "language_info": {
   "codemirror_mode": {
    "name": "ipython",
    "version": 2
   },
   "file_extension": ".py",
   "mimetype": "text/x-python",
   "name": "python",
   "nbconvert_exporter": "python",
   "pygments_lexer": "ipython2",
   "version": "2.7.13"
  }
 },
 "nbformat": 4,
 "nbformat_minor": 2
}
