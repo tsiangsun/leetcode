{
 "cells": [
  {
   "cell_type": "code",
   "execution_count": 21,
   "metadata": {
    "collapsed": true
   },
   "outputs": [],
   "source": [
    "n=4\n",
    "A = [4,3,2,1]\n",
    "B = []\n",
    "C = []\n",
    "\n",
    "def hanoi(A, B, C, n):\n",
    "    if n == 1:\n",
    "        p = A.pop()\n",
    "        C.append(p)\n",
    "        print A, B, C\n",
    "    else:\n",
    "        hanoi(A, C, B, n-1)\n",
    "        print A, B, C\n",
    "        hanoi(A, B, C, 1)\n",
    "        #print A, B, C\n",
    "        hanoi(B, A, C, n-1)\n",
    "        #print A, B, C"
   ]
  },
  {
   "cell_type": "code",
   "execution_count": 23,
   "metadata": {
    "collapsed": false
   },
   "outputs": [
    {
     "name": "stdout",
     "output_type": "stream",
     "text": [
      "[4, 3, 2] [] [1]\n",
      "[4, 3, 2] [1] []\n",
      "[4, 3] [1] [2]\n",
      "[] [4, 3] [2, 1]\n",
      "[4, 3] [2, 1] []\n",
      "[4] [2, 1] [3]\n",
      "[2] [3] [4, 1]\n",
      "[2] [4, 1] [3]\n",
      "[] [4, 1] [3, 2]\n",
      "[4] [] [3, 2, 1]\n",
      "[4] [3, 2, 1] []\n",
      "[] [3, 2, 1] [4]\n",
      "[3, 2] [] [4, 1]\n",
      "[3, 2] [4, 1] []\n",
      "[3] [4, 1] [2]\n",
      "[4] [3] [2, 1]\n",
      "[3] [2, 1] [4]\n",
      "[] [2, 1] [4, 3]\n",
      "[2] [4, 3] [1]\n",
      "[2] [1] [4, 3]\n",
      "[] [1] [4, 3, 2]\n",
      "[] [] [4, 3, 2, 1]\n"
     ]
    }
   ],
   "source": [
    "n=4\n",
    "A = range(n,0,-1)\n",
    "B = []\n",
    "C = []\n",
    "hanoi(A, B, C, n)"
   ]
  },
  {
   "cell_type": "code",
   "execution_count": 9,
   "metadata": {
    "collapsed": false
   },
   "outputs": [
    {
     "name": "stdout",
     "output_type": "stream",
     "text": [
      "('A', '->', 'C')\n",
      "('A', '->', 'B')\n",
      "('C', '->', 'B')\n",
      "('A', '->', 'C')\n",
      "('B', '->', 'A')\n",
      "('B', '->', 'C')\n",
      "('A', '->', 'C')\n"
     ]
    }
   ],
   "source": [
    "def mov(n,a,b,c):\n",
    "    if n== 1:\n",
    "        print(a,'->',c)\n",
    "    else:\n",
    "        mov(n-1,a,c,b)\n",
    "        mov(1,a,b,c)\n",
    "        mov(n-1,b,a,c)\n",
    "\n",
    "num = 3\n",
    "mov(int(num),'A','B','C')\n"
   ]
  },
  {
   "cell_type": "code",
   "execution_count": null,
   "metadata": {
    "collapsed": true
   },
   "outputs": [],
   "source": []
  }
 ],
 "metadata": {
  "kernelspec": {
   "display_name": "Python 2",
   "language": "python",
   "name": "python2"
  },
  "language_info": {
   "codemirror_mode": {
    "name": "ipython",
    "version": 2
   },
   "file_extension": ".py",
   "mimetype": "text/x-python",
   "name": "python",
   "nbconvert_exporter": "python",
   "pygments_lexer": "ipython2",
   "version": "2.7.13"
  }
 },
 "nbformat": 4,
 "nbformat_minor": 2
}
