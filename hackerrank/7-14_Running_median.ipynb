{
 "cells": [
  {
   "cell_type": "code",
   "execution_count": 1,
   "metadata": {
    "collapsed": true
   },
   "outputs": [],
   "source": [
    "n=6\n",
    "lis = [12, 4, 5, 3, 8, 7]"
   ]
  },
  {
   "cell_type": "code",
   "execution_count": 2,
   "metadata": {
    "collapsed": true
   },
   "outputs": [],
   "source": [
    "from collections import OrderedDict"
   ]
  },
  {
   "cell_type": "code",
   "execution_count": 20,
   "metadata": {
    "collapsed": false
   },
   "outputs": [
    {
     "name": "stdout",
     "output_type": "stream",
     "text": [
      "12.0\n",
      "8.0\n",
      "5.0\n",
      "4.5\n",
      "5.0\n",
      "6.0\n"
     ]
    }
   ],
   "source": [
    "dic = dict()\n",
    "count = 0\n",
    "for a in lis:\n",
    "    count += 1\n",
    "    if a in dic:\n",
    "        dic[a] += 1\n",
    "    else:\n",
    "        dic[a] = 1\n",
    "    \n",
    "    sd = OrderedDict(sorted(dic.items(), key=lambda t: t[0]))\n",
    "    if count % 2 == 0 :\n",
    "        cl = int(count/2)\n",
    "        cr = int(count/2)+1\n",
    "        sumvalues = 0\n",
    "        flag_next = 0\n",
    "        remember_left = 0\n",
    "        for it in sd.items():\n",
    "            #print it,\n",
    "            if flag_next == 1:\n",
    "                print '%0.1f' % float((it[0]+remember_left)/2.0)\n",
    "                break\n",
    "            else:\n",
    "                sumvalues += it[1]\n",
    "                if sumvalues > cl:\n",
    "                    print '%0.1f' % float(it[0])\n",
    "                    break\n",
    "                elif sumvalues == cl:\n",
    "                    flag_next = 1\n",
    "                    remember_left = float(it[0])\n",
    "        \n",
    "    else:\n",
    "        cm = int(count/2)+1\n",
    "        sumvalues = 0\n",
    "        for it in sd.items():\n",
    "            #print it,\n",
    "            sumvalues += it[1]\n",
    "            if sumvalues >= cm:\n",
    "                print '%0.1f' % float(it[0])\n",
    "                break\n",
    "        \n",
    "        #print sd.items()[ind][0]\n",
    "    "
   ]
  },
  {
   "cell_type": "code",
   "execution_count": 21,
   "metadata": {
    "collapsed": true
   },
   "outputs": [],
   "source": [
    "import heapq\n",
    "\n",
    "def heapsort(heap):\n",
    "    return [heapq.heappop(heap) for _ in range(len(heap))]\n",
    "\n",
    "def add_entry(smalls, larges, v):\n",
    "    if not smalls:\n",
    "        smalls.append(-v)\n",
    "        return            # equivalent to: return none\n",
    "    if -smalls[0] < v:\n",
    "        heapq.heappush(larges, v)\n",
    "    else:\n",
    "        heapq.heappush(smalls, -v)\n",
    "\n",
    "    while len(smalls) > len(larges) + 1:\n",
    "        heapq.heappush(larges, -heapq.heappop(smalls))\n",
    "    while len(smalls) < len(larges):\n",
    "        heapq.heappush(smalls, -heapq.heappop(larges))\n",
    "\n",
    "def get_median(smalls, larges):\n",
    "    if len(smalls) == len(larges):\n",
    "        return (-smalls[0] + larges[0]) / 2.0\n",
    "    return -smalls[0]\n",
    "\n",
    "if __name__ == '__main__':\n",
    "    import sys\n",
    "    _ = sys.stdin.readline()\n",
    "\n",
    "    smalls = []\n",
    "    larges = []\n",
    "    for line in sys.stdin:\n",
    "        add_entry(smalls, larges, int(line.strip()))\n",
    "        print '%0.1f' % get_median(smalls, larges)"
   ]
  },
  {
   "cell_type": "code",
   "execution_count": 22,
   "metadata": {
    "collapsed": false
   },
   "outputs": [
    {
     "name": "stdout",
     "output_type": "stream",
     "text": [
      "[12]\n",
      "[4, 12]\n",
      "[4, 12, 5]\n",
      "[3, 4, 5, 12]\n",
      "[3, 4, 5, 12, 8]\n",
      "[3, 4, 5, 12, 8, 7]\n"
     ]
    }
   ],
   "source": [
    "lis = [12, 4, 5, 3, 8, 7]\n",
    "l = []\n",
    "for x in lis:\n",
    "    heapq.heappush(l, x)\n",
    "    print l"
   ]
  },
  {
   "cell_type": "code",
   "execution_count": null,
   "metadata": {
    "collapsed": true
   },
   "outputs": [],
   "source": []
  }
 ],
 "metadata": {
  "kernelspec": {
   "display_name": "Python 2",
   "language": "python",
   "name": "python2"
  },
  "language_info": {
   "codemirror_mode": {
    "name": "ipython",
    "version": 2
   },
   "file_extension": ".py",
   "mimetype": "text/x-python",
   "name": "python",
   "nbconvert_exporter": "python",
   "pygments_lexer": "ipython2",
   "version": "2.7.13"
  }
 },
 "nbformat": 4,
 "nbformat_minor": 2
}
