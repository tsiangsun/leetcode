{
 "cells": [
  {
   "cell_type": "code",
   "execution_count": 11,
   "metadata": {
    "collapsed": true
   },
   "outputs": [],
   "source": [
    "s='adkhc'"
   ]
  },
  {
   "cell_type": "code",
   "execution_count": 17,
   "metadata": {
    "collapsed": false
   },
   "outputs": [
    {
     "name": "stdout",
     "output_type": "stream",
     "text": [
      "khc 1 a\n",
      "ahcdk\n"
     ]
    }
   ],
   "source": [
    "l=len(s)\n",
    "noninc =s[l-1]\n",
    "for i in range(l-1,0,-1):\n",
    "    if s[i-1]>=s[i]:\n",
    "        noninc = s[i-1]+noninc \n",
    "    else:\n",
    "        pivot = i-1\n",
    "        beg = s[:pivot]\n",
    "        break\n",
    "        \n",
    "print noninc, pivot, beg\n",
    "\n",
    "pv = s[pivot]\n",
    "ls = len(noninc)\n",
    "for i in range(ls-1,-1,-1):\n",
    "    if noninc[i] > pv:\n",
    "        #swap pivot and the rightmost char smaller than pivot\n",
    "        tmp = pv\n",
    "        pv = noninc[i]\n",
    "        noninc = noninc[:i] + tmp + noninc[i+1:]\n",
    "        noninc = noninc[::-1]\n",
    "        break\n",
    "print beg+pv+noninc\n"
   ]
  },
  {
   "cell_type": "code",
   "execution_count": 21,
   "metadata": {
    "collapsed": false
   },
   "outputs": [
    {
     "name": "stdout",
     "output_type": "stream",
     "text": [
      "ahcdk\n"
     ]
    }
   ],
   "source": [
    "def next_lexico(s):\n",
    "    flag = 0\n",
    "    l=len(s)\n",
    "    noninc =s[l-1]\n",
    "    for i in range(l-1,0,-1):\n",
    "        if s[i-1]>=s[i]:\n",
    "            noninc = s[i-1]+noninc \n",
    "        else:\n",
    "            pivot = i-1\n",
    "            beg = s[:pivot]\n",
    "            flag = 1\n",
    "            break\n",
    "    if flag == 0:\n",
    "        return 'no answer'\n",
    "    \n",
    "    flag = 0\n",
    "\n",
    "    #print noninc, pivot, beg\n",
    "    pv = s[pivot]\n",
    "    ls = len(noninc)\n",
    "    for i in range(ls-1,-1,-1):\n",
    "        if noninc[i] > pv:\n",
    "            #swap pivot and the rightmost char smaller than pivot\n",
    "            flag = 1\n",
    "            tmp = pv\n",
    "            pv = noninc[i]\n",
    "            noninc = noninc[:i] + tmp + noninc[i+1:]\n",
    "            noninc = noninc[::-1]\n",
    "            break\n",
    "    if flag == 0:\n",
    "        return 'no answer'\n",
    "    else:\n",
    "        return beg+pv+noninc\n",
    "    \n",
    "    \n",
    "'''    \n",
    "import sys\n",
    "T = int(sys.stdin.readline().strip())\n",
    "\n",
    "for i in range(T):\n",
    "    word = sys.stdin.readline().strip()\n",
    "    #print word\n",
    "    print next_lexico(word)\n",
    "    '''\n",
    "\n",
    "print next_lexico(s)"
   ]
  },
  {
   "cell_type": "markdown",
   "metadata": {},
   "source": [
    "# Official solution\n",
    "http://thedataincubator.github.io/coding-challenges/challenges/bigger-is-greater.html"
   ]
  },
  {
   "cell_type": "code",
   "execution_count": 22,
   "metadata": {
    "collapsed": true
   },
   "outputs": [],
   "source": [
    "from collections import Counter\n",
    "\n",
    "def next_string(s):\n",
    "    for i in xrange(len(s)-2, -1, -1):\n",
    "        if s[i] < s[i+1]:\n",
    "            head = s[:i]\n",
    "            pivot = min(c for c in s[i+1:] if c > s[i])\n",
    "            tail = Counter(s[i:])\n",
    "            tail[pivot] -= 1\n",
    "            return head + pivot + \"\".join(sorted(tail.elements()))\n",
    "    return \"no answer\"\n",
    "\n",
    "if __name__ == '__main__':\n",
    "    import sys\n",
    "    _ = sys.stdin.readline()\n",
    "    for line in sys.stdin:\n",
    "        print next_string(line.strip())"
   ]
  },
  {
   "cell_type": "markdown",
   "metadata": {},
   "source": [
    "Answer: Counter.elements() returns an iterator over the elements, repeating as necessary according to the count. It’s kind of like using a sparse array to store the characters instead of the full string. Since we’re sorting anyway, we can get away with this."
   ]
  },
  {
   "cell_type": "code",
   "execution_count": null,
   "metadata": {
    "collapsed": true
   },
   "outputs": [],
   "source": []
  }
 ],
 "metadata": {
  "kernelspec": {
   "display_name": "Python 2",
   "language": "python",
   "name": "python2"
  },
  "language_info": {
   "codemirror_mode": {
    "name": "ipython",
    "version": 2
   },
   "file_extension": ".py",
   "mimetype": "text/x-python",
   "name": "python",
   "nbconvert_exporter": "python",
   "pygments_lexer": "ipython2",
   "version": "2.7.13"
  }
 },
 "nbformat": 4,
 "nbformat_minor": 2
}
