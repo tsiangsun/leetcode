{
 "cells": [
  {
   "cell_type": "code",
   "execution_count": 3,
   "metadata": {
    "collapsed": false
   },
   "outputs": [
    {
     "ename": "ValueError",
     "evalue": "invalid literal for int() with base 10: ''",
     "output_type": "error",
     "traceback": [
      "\u001b[0;31m---------------------------------------------------------------------------\u001b[0m",
      "\u001b[0;31mValueError\u001b[0m                                Traceback (most recent call last)",
      "\u001b[0;32m<ipython-input-3-f5f5e385df37>\u001b[0m in \u001b[0;36m<module>\u001b[0;34m()\u001b[0m\n\u001b[1;32m     21\u001b[0m \u001b[0;34m\u001b[0m\u001b[0m\n\u001b[1;32m     22\u001b[0m \u001b[0;34m\u001b[0m\u001b[0m\n\u001b[0;32m---> 23\u001b[0;31m \u001b[0mT\u001b[0m \u001b[0;34m=\u001b[0m \u001b[0mint\u001b[0m\u001b[0;34m(\u001b[0m\u001b[0msys\u001b[0m\u001b[0;34m.\u001b[0m\u001b[0mstdin\u001b[0m\u001b[0;34m.\u001b[0m\u001b[0mreadline\u001b[0m\u001b[0;34m(\u001b[0m\u001b[0;34m)\u001b[0m\u001b[0;34m.\u001b[0m\u001b[0mstrip\u001b[0m\u001b[0;34m(\u001b[0m\u001b[0;34m)\u001b[0m\u001b[0;34m)\u001b[0m\u001b[0;34m\u001b[0m\u001b[0m\n\u001b[0m\u001b[1;32m     24\u001b[0m \u001b[0;34m\u001b[0m\u001b[0m\n\u001b[1;32m     25\u001b[0m \u001b[0;32mfor\u001b[0m \u001b[0mt\u001b[0m \u001b[0;32min\u001b[0m \u001b[0mrange\u001b[0m\u001b[0;34m(\u001b[0m\u001b[0mT\u001b[0m\u001b[0;34m)\u001b[0m\u001b[0;34m:\u001b[0m\u001b[0;34m\u001b[0m\u001b[0m\n",
      "\u001b[0;31mValueError\u001b[0m: invalid literal for int() with base 10: ''"
     ]
    }
   ],
   "source": [
    "import sys\n",
    "import math\n",
    "\n",
    "def diff(R1,R2):\n",
    "    s = [0.0, 0.0, 0.0]\n",
    "    for i in range(3):\n",
    "        s[i] = (R1[i]-R2[i])\n",
    "    return s\n",
    "    \n",
    "def add(R1,R2):\n",
    "    s = [0.0, 0.0, 0.0]\n",
    "    for i in range(3):\n",
    "        s[i] = (R1[i]+R2[i])\n",
    "    return s\n",
    "\n",
    "def distsq(R1,R2):\n",
    "    s = 0.0\n",
    "    for i in range(3):\n",
    "        s += (R1[i]-R2[i])**2\n",
    "    return s\n",
    "\n",
    "\n",
    "T = int(sys.stdin.readline().strip())\n",
    "\n",
    "for t in range(T):\n",
    "    r1, r2 = sys.stdin.readline().split()\n",
    "    r1 = float(r1)\n",
    "    r2 = float(r2)\n",
    "    R1 = map(float, sys.stdin.readline().split())\n",
    "    R2 = map(float, sys.stdin.readline().split())\n",
    "    A1 = map(float, sys.stdin.readline().split())\n",
    "    A2 = map(float, sys.stdin.readline().split())\n",
    "    V1 = [a*0.5 for a in A1]\n",
    "    V2 = [a*0.5 for a in A2]\n",
    "    DR = diff(R1,R2)\n",
    "    DV = [0.0, 0.0, 0.0]\n",
    "    for i in range(3):\n",
    "        DV[i] = (A1[i]*0.5-A2[i]*0.5)\n",
    "        \n",
    "    a = DV[0]**2+DV[1]**2+DV[2]**2\n",
    "    b = 2*DR[0]*DV[0]+2*DR[1]*DV[1]+2*DR[2]*DV[2]\n",
    "    c = DR[0]*DR[0]+DR[1]*DR[1]+DR[2]*DR[2]\n",
    "    \n",
    "    if a == 0.0:\n",
    "        if b>=0.0: \n",
    "            dis = distsq(R1,R2)\n",
    "            if dis <= (r1+r2)**2:\n",
    "                print 'YES'\n",
    "            else:\n",
    "                print 'NO' \n",
    "        else:\n",
    "            print 'YES'\n",
    "    else:\n",
    "        xmin = -1*b/a*0.5\n",
    "        if xmin >0:\n",
    "            V1min = [v*xmin for v in V1]\n",
    "            V2min = [v*xmin for v in V2]\n",
    "            R1min = add(R1, V1min)\n",
    "            R2min = add(R2, V2min)\n",
    "            DRmin = diff(R1min,R2min)\n",
    "            s = 0 \n",
    "            for i in range(3):\n",
    "                s += DRmin[i]**2\n",
    "            if s <= (r1+r2)**2:\n",
    "                print 'YES'\n",
    "            else:\n",
    "                print 'NO'\n",
    "        else:\n",
    "            dis = distsq(R1,R2)\n",
    "            if dis <= (r1+r2)**2:\n",
    "                print 'YES'\n",
    "            else:\n",
    "                print 'NO'\n",
    "        "
   ]
  },
  {
   "cell_type": "code",
   "execution_count": 2,
   "metadata": {
    "collapsed": false
   },
   "outputs": [
    {
     "ename": "ValueError",
     "evalue": "invalid literal for int() with base 10: ''",
     "output_type": "error",
     "traceback": [
      "\u001b[0;31m---------------------------------------------------------------------------\u001b[0m",
      "\u001b[0;31mValueError\u001b[0m                                Traceback (most recent call last)",
      "\u001b[0;32m<ipython-input-2-c4f699965e3b>\u001b[0m in \u001b[0;36m<module>\u001b[0;34m()\u001b[0m\n\u001b[1;32m     31\u001b[0m \u001b[0;32mif\u001b[0m \u001b[0m__name__\u001b[0m \u001b[0;34m==\u001b[0m \u001b[0;34m'__main__'\u001b[0m\u001b[0;34m:\u001b[0m\u001b[0;34m\u001b[0m\u001b[0m\n\u001b[1;32m     32\u001b[0m     \u001b[0;32mimport\u001b[0m \u001b[0msys\u001b[0m\u001b[0;34m\u001b[0m\u001b[0m\n\u001b[0;32m---> 33\u001b[0;31m     \u001b[0mN\u001b[0m \u001b[0;34m=\u001b[0m \u001b[0mint\u001b[0m\u001b[0;34m(\u001b[0m\u001b[0msys\u001b[0m\u001b[0;34m.\u001b[0m\u001b[0mstdin\u001b[0m\u001b[0;34m.\u001b[0m\u001b[0mreadline\u001b[0m\u001b[0;34m(\u001b[0m\u001b[0;34m)\u001b[0m\u001b[0;34m.\u001b[0m\u001b[0mstrip\u001b[0m\u001b[0;34m(\u001b[0m\u001b[0;34m)\u001b[0m\u001b[0;34m)\u001b[0m\u001b[0;34m\u001b[0m\u001b[0m\n\u001b[0m\u001b[1;32m     34\u001b[0m     \u001b[0;32mfor\u001b[0m \u001b[0mi\u001b[0m \u001b[0;32min\u001b[0m \u001b[0mxrange\u001b[0m\u001b[0;34m(\u001b[0m\u001b[0mN\u001b[0m\u001b[0;34m)\u001b[0m\u001b[0;34m:\u001b[0m\u001b[0;34m\u001b[0m\u001b[0m\n\u001b[1;32m     35\u001b[0m         \u001b[0mprint_contact\u001b[0m\u001b[0;34m(\u001b[0m\u001b[0msys\u001b[0m\u001b[0;34m.\u001b[0m\u001b[0mstdin\u001b[0m\u001b[0;34m)\u001b[0m\u001b[0;34m\u001b[0m\u001b[0m\n",
      "\u001b[0;31mValueError\u001b[0m: invalid literal for int() with base 10: ''"
     ]
    }
   ],
   "source": [
    "def dot(A, B):\n",
    "    return sum(a * b for a, b in zip(A, B))\n",
    "\n",
    "def minus(A, B):\n",
    "    return [a - b for a, b in zip(A, B)]\n",
    "\n",
    "def contact(chi, alpha, rad):\n",
    "    chi_sq = dot(chi, chi)\n",
    "    chi_alpha = dot(chi, alpha)\n",
    "    alpha_sq = dot(alpha, alpha)\n",
    "\n",
    "    if chi_alpha > 0:\n",
    "        return chi_sq <= rad**2\n",
    "    return chi_sq - 1.0 * chi_alpha**2 / alpha_sq <= rad**2\n",
    "\n",
    "def read_vector(stream):\n",
    "    return map(int, stream.readline().strip().split())\n",
    "\n",
    "def print_contact(stream):\n",
    "    Rs = read_vector(stream)\n",
    "    x1 = read_vector(stream)\n",
    "    a1 = read_vector(stream)\n",
    "    x2 = read_vector(stream)\n",
    "    a2 = read_vector(stream)\n",
    "\n",
    "    if contact(minus(x1, x2), minus(a1, a2), sum(Rs)):\n",
    "        print \"YES\"\n",
    "    else:\n",
    "        print \"NO\"\n",
    "\n",
    "if __name__ == '__main__':\n",
    "    import sys\n",
    "    N = int(sys.stdin.readline().strip())\n",
    "    for i in xrange(N):\n",
    "        print_contact(sys.stdin)"
   ]
  },
  {
   "cell_type": "code",
   "execution_count": null,
   "metadata": {
    "collapsed": true
   },
   "outputs": [],
   "source": []
  }
 ],
 "metadata": {
  "kernelspec": {
   "display_name": "Python 2",
   "language": "python",
   "name": "python2"
  },
  "language_info": {
   "codemirror_mode": {
    "name": "ipython",
    "version": 2
   },
   "file_extension": ".py",
   "mimetype": "text/x-python",
   "name": "python",
   "nbconvert_exporter": "python",
   "pygments_lexer": "ipython2",
   "version": "2.7.13"
  }
 },
 "nbformat": 4,
 "nbformat_minor": 2
}
