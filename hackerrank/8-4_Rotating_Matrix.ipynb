{
 "cells": [
  {
   "cell_type": "code",
   "execution_count": 56,
   "metadata": {
    "collapsed": false
   },
   "outputs": [],
   "source": [
    "M = 5\n",
    "N = 4\n",
    "R = 1\n",
    "\n",
    "mat = [[1, 2, 3, 4],\n",
    "      [5, 6, 7, 8],\n",
    "      [9, 10, 11, 12],\n",
    "      [13, 14, 15, 16],\n",
    "      [17, 18, 19, 20]]\n"
   ]
  },
  {
   "cell_type": "code",
   "execution_count": 61,
   "metadata": {
    "collapsed": false
   },
   "outputs": [
    {
     "name": "stdout",
     "output_type": "stream",
     "text": [
      "[[1, 6, 11, 16], [2, 7, 12, 17], [3, 8, 13, 18], [4, 9, 14, 19], [5, 10, 15, 20]]\n",
      "2\t3\t4\t5\t10\n",
      "1\t8\t9\t14\t15\n",
      "6\t7\t12\t13\t20\n",
      "11\t16\t17\t18\t19\n"
     ]
    }
   ],
   "source": [
    "def matrixTranspose(mat):\n",
    "    return map(list, zip(*mat))\n",
    "\n",
    "print matrixTranspose(mat)\n",
    "\n",
    "def rotate_matrix(mat):\n",
    "    r = len(mat)\n",
    "    c = len(mat[0])\n",
    "    #print 'r,c = ', r,c\n",
    "    if r <= c and r%2 == 0:\n",
    "        r = len(mat)\n",
    "        c = len(mat[0])\n",
    "        newmat = [[0]*c for i in range(r)]\n",
    "\n",
    "        for k in range(r/2):\n",
    "            newmat[k][k:c-k-1] = mat[k][k+1:c-k]\n",
    "            newmat[r-1-k][k+1:c-k] = mat[r-1-k][k:c-1-k]\n",
    "            for i in range(k,r-1-k):\n",
    "                newmat[i+1][k] = mat[i][k] \n",
    "            for i in range(k+1,r-k):\n",
    "                newmat[i-1][c-1-k] = mat[i][c-1-k] \n",
    "        return newmat\n",
    "    \n",
    "    elif r > c and c%2 == 0:\n",
    "        r = len(mat)\n",
    "        c = len(mat[0])\n",
    "        newmat = [[0]*c for i in range(r)]\n",
    "\n",
    "        for k in range(c/2):\n",
    "            newmat[k][k:c-k-1] = mat[k][k+1:c-k]\n",
    "            newmat[r-1-k][k+1:c-k] = mat[r-1-k][k:c-1-k]\n",
    "            for i in range(k,r-1-k):\n",
    "                newmat[i+1][k] = mat[i][k] \n",
    "            for i in range(k+1,r-k):\n",
    "                newmat[i-1][c-1-k] = mat[i][c-1-k] \n",
    "        return newmat\n",
    "    else:\n",
    "        return None\n",
    "    \n",
    "\n",
    "mat = [[1, 2, 3, 4, 5],\n",
    "      [6, 7, 8, 9 , 10],\n",
    "      [11, 12, 13, 14, 15],\n",
    "      [16, 17, 18, 19, 20]]\n",
    "\n",
    "nmat = rotate_matrix(mat)\n",
    "        \n",
    "print matrix_string(nmat)\n"
   ]
  },
  {
   "cell_type": "code",
   "execution_count": 54,
   "metadata": {
    "collapsed": false
   },
   "outputs": [
    {
     "name": "stdout",
     "output_type": "stream",
     "text": [
      "2\t3\t4\t8\n",
      "1\t7\t11\t12\n",
      "5\t6\t15\t16\n",
      "9\t10\t14\t20\n",
      "13\t17\t18\t19\n"
     ]
    }
   ],
   "source": [
    "mat = [[1, 2, 3, 4],\n",
    "      [5, 6, 7, 8],\n",
    "      [9, 10, 11, 12],\n",
    "      [13, 14, 15, 16],\n",
    "      [17, 18, 19, 20]]\n",
    "\n",
    "def matrix_string(M):\n",
    "    return '\\n'.join('\\t'.join(map(str, row)) for row in M)\n",
    "\n",
    "r = len(mat)\n",
    "c = len(mat[0])\n",
    "newmat = [[0]*c for i in range(r)]\n",
    "\n",
    "for k in range(c/2):\n",
    "    newmat[k][k:c-k-1] = mat[k][k+1:c-k]\n",
    "    newmat[r-1-k][k+1:c-k] = mat[r-1-k][k:c-1-k]\n",
    "    for i in range(k,r-1-k):\n",
    "        newmat[i+1][k] = mat[i][k] \n",
    "    for i in range(k+1,r-k):\n",
    "        newmat[i-1][c-1-k] = mat[i][c-1-k] \n",
    "\n",
    "'''\n",
    "newmat[0][0:c-1] = mat[0][1:c]\n",
    "newmat[r-1][1:c] = mat[r-1][0:c-1]\n",
    "for i in range(0,r-1):\n",
    "    newmat[i+1][0] = mat[i][0] \n",
    "for i in range(1,r):\n",
    "    newmat[i-1][c-1] = mat[i][c-1] \n",
    "'''   \n",
    " \n",
    "print matrix_string(newmat)"
   ]
  },
  {
   "cell_type": "code",
   "execution_count": 25,
   "metadata": {
    "collapsed": false
   },
   "outputs": [
    {
     "data": {
      "text/plain": [
       "[[0, 1, 0, 0, 0], [0, 1, 0, 0, 0], [0, 1, 0, 0, 0], [0, 1, 0, 0, 0]]"
      ]
     },
     "execution_count": 25,
     "metadata": {},
     "output_type": "execute_result"
    }
   ],
   "source": [
    "#wrong way: shallow copy\n",
    "newmat = [[0,]*r,] * c\n",
    "newmat[1][1] = 1\n",
    "newmat"
   ]
  },
  {
   "cell_type": "code",
   "execution_count": 33,
   "metadata": {
    "collapsed": false
   },
   "outputs": [
    {
     "data": {
      "text/plain": [
       "[5, 6, 7, 8]"
      ]
     },
     "execution_count": 33,
     "metadata": {},
     "output_type": "execute_result"
    }
   ],
   "source": [
    "mat[1:c][0]"
   ]
  },
  {
   "cell_type": "code",
   "execution_count": 39,
   "metadata": {
    "collapsed": false
   },
   "outputs": [
    {
     "data": {
      "text/plain": [
       "4"
      ]
     },
     "execution_count": 39,
     "metadata": {},
     "output_type": "execute_result"
    }
   ],
   "source": [
    "c"
   ]
  },
  {
   "cell_type": "markdown",
   "metadata": {},
   "source": [
    "# Official solution\n",
    "Each “ring” in the matrix rotates independently, so we will write a function that does just a single ring.\n",
    "\n",
    "We read all the elements in that ring into a temporary array, and then write them back into the ring with an appropriate shift. This needs to be done for each ring in the matrix. [historical note: Since we’ve been writing Scala recently, we’ll do that recursively. But an iterative solution would work just as well].\n",
    "\n",
    "Modulo with negative numbers in Python is a bit unintuitive: http://stackoverflow.com/a/3883019/3217870"
   ]
  },
  {
   "cell_type": "code",
   "execution_count": 40,
   "metadata": {
    "collapsed": false
   },
   "outputs": [
    {
     "ename": "ValueError",
     "evalue": "need more than 0 values to unpack",
     "output_type": "error",
     "traceback": [
      "\u001b[0;31m---------------------------------------------------------------------------\u001b[0m",
      "\u001b[0;31mValueError\u001b[0m                                Traceback (most recent call last)",
      "\u001b[0;32m<ipython-input-40-19c4e46fdc4c>\u001b[0m in \u001b[0;36m<module>\u001b[0;34m()\u001b[0m\n\u001b[1;32m     39\u001b[0m \u001b[0;32mif\u001b[0m \u001b[0m__name__\u001b[0m \u001b[0;34m==\u001b[0m \u001b[0;34m'__main__'\u001b[0m\u001b[0;34m:\u001b[0m\u001b[0;34m\u001b[0m\u001b[0m\n\u001b[1;32m     40\u001b[0m     \u001b[0;32mimport\u001b[0m \u001b[0msys\u001b[0m\u001b[0;34m\u001b[0m\u001b[0m\n\u001b[0;32m---> 41\u001b[0;31m     \u001b[0mm\u001b[0m\u001b[0;34m,\u001b[0m \u001b[0mn\u001b[0m\u001b[0;34m,\u001b[0m \u001b[0mr\u001b[0m \u001b[0;34m=\u001b[0m \u001b[0mmap\u001b[0m\u001b[0;34m(\u001b[0m\u001b[0mint\u001b[0m\u001b[0;34m,\u001b[0m \u001b[0msys\u001b[0m\u001b[0;34m.\u001b[0m\u001b[0mstdin\u001b[0m\u001b[0;34m.\u001b[0m\u001b[0mreadline\u001b[0m\u001b[0;34m(\u001b[0m\u001b[0;34m)\u001b[0m\u001b[0;34m.\u001b[0m\u001b[0msplit\u001b[0m\u001b[0;34m(\u001b[0m\u001b[0;34m)\u001b[0m\u001b[0;34m)\u001b[0m\u001b[0;34m\u001b[0m\u001b[0m\n\u001b[0m\u001b[1;32m     42\u001b[0m     \u001b[0mM\u001b[0m \u001b[0;34m=\u001b[0m \u001b[0;34m[\u001b[0m\u001b[0mline\u001b[0m\u001b[0;34m.\u001b[0m\u001b[0msplit\u001b[0m\u001b[0;34m(\u001b[0m\u001b[0;34m)\u001b[0m \u001b[0;32mfor\u001b[0m \u001b[0mline\u001b[0m \u001b[0;32min\u001b[0m \u001b[0msys\u001b[0m\u001b[0;34m.\u001b[0m\u001b[0mstdin\u001b[0m\u001b[0;34m]\u001b[0m\u001b[0;34m\u001b[0m\u001b[0m\n\u001b[1;32m     43\u001b[0m     \u001b[0mrotate_matrix\u001b[0m\u001b[0;34m(\u001b[0m\u001b[0mM\u001b[0m\u001b[0;34m,\u001b[0m \u001b[0mr\u001b[0m\u001b[0;34m)\u001b[0m\u001b[0;34m\u001b[0m\u001b[0m\n",
      "\u001b[0;31mValueError\u001b[0m: need more than 0 values to unpack"
     ]
    }
   ],
   "source": [
    "def rotate_matrix(M, r, offset=0):\n",
    "    m = len(M)\n",
    "    n = len(M[0])\n",
    "    if 2 * offset >= min((m, n)):\n",
    "        return\n",
    "    cycle = 2 * (m + n) - 8 * offset - 4\n",
    "    \n",
    "    # extract a ring\n",
    "    els = []\n",
    "    for i in xrange(offset, m-offset):\n",
    "        els.append(M[i][offset])\n",
    "    for i in xrange(offset+1, n-offset-1):\n",
    "        els.append(M[m-offset-1][i])\n",
    "    for i in xrange(m-offset-1, offset-1, -1):\n",
    "        els.append(M[i][n-offset-1])\n",
    "    for i in xrange(n-offset-2, offset, -1):\n",
    "        els.append(M[offset][i])\n",
    "\n",
    "    # rotate a ring\n",
    "    j = -r % cycle\n",
    "    for i in xrange(offset, m-offset):\n",
    "        M[i][offset] = els[j]\n",
    "        j = (j+1) % cycle\n",
    "    for i in xrange(offset+1, n-offset-1):\n",
    "        M[m-offset-1][i] = els[j]\n",
    "        j = (j+1) % cycle\n",
    "    for i in xrange(m-offset-1, offset-1, -1):\n",
    "        M[i][n-offset-1] = els[j]\n",
    "        j = (j+1) % cycle\n",
    "    for i in xrange(n-offset-2, offset, -1):\n",
    "        M[offset][i] = els[j]\n",
    "        j = (j+1) % cycle\n",
    "\n",
    "    rotate_matrix(M, r, offset+1)\n",
    "\n",
    "def matrix_string(M):\n",
    "    return '\\n'.join(' '.join(row) for row in M)\n",
    "\n",
    "if __name__ == '__main__':\n",
    "    import sys\n",
    "    m, n, r = map(int, sys.stdin.readline().split())\n",
    "    M = [line.split() for line in sys.stdin]\n",
    "    rotate_matrix(M, r)\n",
    "    print matrix_string(M)"
   ]
  },
  {
   "cell_type": "code",
   "execution_count": null,
   "metadata": {
    "collapsed": true
   },
   "outputs": [],
   "source": []
  }
 ],
 "metadata": {
  "kernelspec": {
   "display_name": "Python 2",
   "language": "python",
   "name": "python2"
  },
  "language_info": {
   "codemirror_mode": {
    "name": "ipython",
    "version": 2
   },
   "file_extension": ".py",
   "mimetype": "text/x-python",
   "name": "python",
   "nbconvert_exporter": "python",
   "pygments_lexer": "ipython2",
   "version": "2.7.13"
  }
 },
 "nbformat": 4,
 "nbformat_minor": 2
}
