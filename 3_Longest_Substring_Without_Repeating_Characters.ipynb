{
 "cells": [
  {
   "cell_type": "markdown",
   "metadata": {},
   "source": [
    "Given a string, find the length of the longest substring without repeating characters.\n",
    "\n",
    "Examples:\n",
    "\n",
    "Given \"abcabcbb\", the answer is \"abc\", which the length is 3.\n",
    "\n",
    "Given \"bbbbb\", the answer is \"b\", with the length of 1.\n",
    "\n",
    "Given \"pwwkew\", the answer is \"wke\", with the length of 3. Note that the answer must be a **substring**, \"pwke\" is a subsequence and not a substring."
   ]
  },
  {
   "cell_type": "code",
   "execution_count": 6,
   "metadata": {},
   "outputs": [],
   "source": [
    "from collections import Counter\n",
    "def lengthOfLongestSubstring(s):\n",
    "    \"\"\"\n",
    "    :type s: str\n",
    "    :rtype: int\n",
    "    \"\"\"\n",
    "    if len(s)==0:\n",
    "        return 0\n",
    "    c = Counter()\n",
    "    low = 0\n",
    "    curr = 0\n",
    "    submax = 0\n",
    "    for i,x in enumerate(s):\n",
    "        c[x] += 1\n",
    "        if max(c.values()) > 1:\n",
    "            c[s[low]] -= 1\n",
    "            low += 1\n",
    "            if submax < i-low+1:\n",
    "                submax = i-low+1\n",
    "        else:\n",
    "            submax = max(submax, i-low+1)\n",
    "    return submax"
   ]
  },
  {
   "cell_type": "code",
   "execution_count": 7,
   "metadata": {},
   "outputs": [
    {
     "name": "stdout",
     "output_type": "stream",
     "text": [
      "3\n",
      "1\n",
      "3\n",
      "1\n"
     ]
    }
   ],
   "source": [
    "print lengthOfLongestSubstring('abcabcbb')\n",
    "print lengthOfLongestSubstring('bbbbb')\n",
    "print lengthOfLongestSubstring('pwwkew')\n",
    "print lengthOfLongestSubstring('p')"
   ]
  },
  {
   "cell_type": "code",
   "execution_count": 8,
   "metadata": {
    "collapsed": true
   },
   "outputs": [],
   "source": [
    "#my submission\n",
    "\n",
    "from collections import Counter\n",
    "class Solution(object):\n",
    "    def lengthOfLongestSubstring(self, s):\n",
    "        \"\"\"\n",
    "        :type s: str\n",
    "        :rtype: int\n",
    "        \"\"\"\n",
    "        if len(s)==0:\n",
    "            return 0\n",
    "        c = Counter()\n",
    "        low = 0\n",
    "        curr = 0\n",
    "        submax = 0\n",
    "        for i,x in enumerate(s):\n",
    "            c[x] += 1\n",
    "            if max(c.values()) > 1:\n",
    "                c[s[low]] -= 1\n",
    "                low += 1\n",
    "                if submax < i-low+1:\n",
    "                    submax = i-low+1\n",
    "            else:\n",
    "                submax = max(submax, i-low+1)\n",
    "        return submax"
   ]
  },
  {
   "cell_type": "code",
   "execution_count": null,
   "metadata": {
    "collapsed": true
   },
   "outputs": [],
   "source": []
  }
 ],
 "metadata": {
  "kernelspec": {
   "display_name": "Python 2",
   "language": "python",
   "name": "python2"
  },
  "language_info": {
   "codemirror_mode": {
    "name": "ipython",
    "version": 2
   },
   "file_extension": ".py",
   "mimetype": "text/x-python",
   "name": "python",
   "nbconvert_exporter": "python",
   "pygments_lexer": "ipython2",
   "version": "2.7.13"
  }
 },
 "nbformat": 4,
 "nbformat_minor": 2
}
