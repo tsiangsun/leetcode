{
 "cells": [
  {
   "cell_type": "markdown",
   "metadata": {},
   "source": [
    "## Google interview\n",
    "\n",
    "Given a list of numbers and a target number, determine whether the target number can be calculated by applying \"+-*/\" operations. Parenthesis () can be added. \n",
    "\n",
    "For example, \n",
    "- [2 3 6 9] -> 75    \n",
    "> (2+3)*(6+9) = 75 return true\n",
    "\n",
    "- [2 3 6 9] -> 15    \n",
    "> return false"
   ]
  },
  {
   "cell_type": "code",
   "execution_count": 18,
   "metadata": {
    "collapsed": true
   },
   "outputs": [],
   "source": [
    "# NP problem: there is no known polynomial solution"
   ]
  },
  {
   "cell_type": "code",
   "execution_count": 16,
   "metadata": {
    "collapsed": true
   },
   "outputs": [],
   "source": [
    "# Solution to the case where the order of nums cannot be changed\n",
    "def isReachable(nums, target):\n",
    "    if nums == [] or len(nums) == 0:\n",
    "        return False\n",
    "    results = getResults(nums, 0, len(nums)-1)\n",
    "    for r in results:\n",
    "        if r == target:\n",
    "            return True\n",
    "    return False\n",
    "\n",
    "def getResults(nums, left, right):\n",
    "    res = []\n",
    "    if left > right:\n",
    "        return res\n",
    "    else:\n",
    "        if left == right:\n",
    "            res.append(nums[left])\n",
    "    for i in range(left, right):\n",
    "        result1 = getResults(nums, left, i)\n",
    "        result2 = getResults(nums, i+1, right)\n",
    "        for x in result1:\n",
    "            for y in result2:\n",
    "                res.append(x + y)\n",
    "                res.append(x - y)\n",
    "                res.append(x * y)\n",
    "                if y != 0:\n",
    "                    res.append(x / float(y))\n",
    "    return res\n",
    "    "
   ]
  },
  {
   "cell_type": "code",
   "execution_count": 17,
   "metadata": {},
   "outputs": [
    {
     "name": "stdout",
     "output_type": "stream",
     "text": [
      "0 True\n",
      "1 True\n",
      "2 True\n",
      "3 True\n",
      "4 True\n",
      "5 False\n",
      "6 False\n",
      "7 False\n",
      "8 True\n",
      "9 True\n",
      "10 True\n",
      "11 True\n",
      "12 True\n",
      "13 True\n",
      "14 True\n",
      "15 False\n",
      "16 False\n",
      "17 False\n",
      "18 True\n",
      "19 True\n",
      "20 True\n",
      "21 True\n",
      "22 False\n",
      "23 False\n",
      "24 False\n",
      "25 False\n",
      "26 False\n",
      "27 True\n",
      "28 False\n",
      "29 True\n",
      "30 False\n",
      "31 False\n",
      "32 False\n",
      "33 False\n",
      "34 False\n",
      "35 False\n",
      "36 True\n",
      "37 False\n",
      "38 False\n",
      "39 True\n",
      "40 False\n",
      "41 False\n",
      "42 False\n",
      "43 False\n",
      "44 False\n",
      "45 True\n",
      "46 False\n",
      "47 True\n",
      "48 False\n",
      "49 False\n",
      "50 False\n",
      "51 False\n",
      "52 False\n",
      "53 True\n",
      "54 True\n",
      "55 False\n",
      "56 False\n",
      "57 False\n",
      "58 False\n",
      "59 True\n",
      "60 True\n",
      "61 False\n",
      "62 False\n",
      "63 False\n",
      "64 False\n",
      "65 False\n",
      "66 False\n",
      "67 False\n",
      "68 False\n",
      "69 False\n",
      "70 False\n",
      "71 False\n",
      "72 False\n",
      "73 False\n",
      "74 False\n",
      "75 True\n",
      "76 False\n",
      "77 False\n",
      "78 False\n",
      "79 False\n"
     ]
    }
   ],
   "source": [
    "nums = [2,3,6,9]\n",
    "for i in range(80):\n",
    "    print i, isReachable(nums, i)"
   ]
  },
  {
   "cell_type": "markdown",
   "metadata": {},
   "source": [
    "------------\n",
    "### For the case where the order of nums CAN be changed, see C++11 code countdown.cpp in this folder\n",
    "\n",
    "http://stackoverflow.com/questions/15293232/how-to-design-an-algorithm-to-calculate-countdown-style-maths-number-puzzle\n",
    "\n",
    "The basic idea is to use a stack-based evaluation (see Reverse Polish notation) and convert the viable solutions to infix notation for display purposes only.\n",
    "\n",
    ">g++ countdown.cpp -o countdown -std=c++11\n",
    "\n",
    ">./countdown 75 2 3 6 9\n",
    "\n",
    "    75 = (3 + (9 * (2 + 6)))\n",
    "    75 = (3 + (9 * (6 + 2)))\n",
    "    75 = (3 + ((2 + 6) * 9))\n",
    "    75 = (3 + ((6 + 2) * 9))\n",
    "    75 = ((9 * (2 + 6)) + 3)\n",
    "    75 = ((9 * (6 + 2)) + 3)\n",
    "    75 = ((2 + 3) * (6 + 9))\n",
    "    75 = ((2 + 3) * (9 + 6))\n",
    "    75 = ((3 + 2) * (6 + 9))\n",
    "    75 = ((3 + 2) * (9 + 6))\n",
    "    75 = ((6 + 9) * (2 + 3))\n",
    "    75 = ((6 + 9) * (3 + 2))\n",
    "    75 = ((9 + 6) * (2 + 3))\n",
    "    75 = ((9 + 6) * (3 + 2))\n",
    "    75 = (((2 + 6) * 9) + 3)\n",
    "    75 = (((6 + 2) * 9) + 3)\n",
    "    Number of solutions: 16\n"
   ]
  },
  {
   "cell_type": "code",
   "execution_count": null,
   "metadata": {
    "collapsed": true
   },
   "outputs": [],
   "source": []
  }
 ],
 "metadata": {
  "kernelspec": {
   "display_name": "Python 2",
   "language": "python",
   "name": "python2"
  },
  "language_info": {
   "codemirror_mode": {
    "name": "ipython",
    "version": 2
   },
   "file_extension": ".py",
   "mimetype": "text/x-python",
   "name": "python",
   "nbconvert_exporter": "python",
   "pygments_lexer": "ipython2",
   "version": "2.7.13"
  }
 },
 "nbformat": 4,
 "nbformat_minor": 2
}
