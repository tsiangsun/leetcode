{
 "cells": [
  {
   "cell_type": "markdown",
   "metadata": {},
   "source": [
    "Given a non-empty array of integers, return the k most frequent elements.\n",
    "\n",
    "For example,\n",
    "\n",
    "Given [1,1,1,2,2,3] and k = 2, return [1,2].\n",
    "\n",
    "Note: \n",
    "\n",
    "- You may assume k is always valid, 1 <= k <= number of unique elements.\n",
    "- Your algorithm's time complexity **must be better than O(n log n)**, where n is the array's size."
   ]
  },
  {
   "cell_type": "code",
   "execution_count": 5,
   "metadata": {
    "collapsed": true
   },
   "outputs": [],
   "source": [
    "# my solution (HashTable + heapq approach)\n",
    "# Time Complexity: O(n log k)\n",
    "import heapq\n",
    "from collections import defaultdict\n",
    "\n",
    "def topKFrequent(nums, k):\n",
    "    \"\"\"\n",
    "    :type nums: List[int]\n",
    "    :type k: int\n",
    "    :rtype: List[int]\n",
    "    \"\"\"\n",
    "    counter = defaultdict(int)\n",
    "    for n in nums:\n",
    "        counter[n] += 1\n",
    "    mq = []\n",
    "    for i in counter:\n",
    "        heapq.heappush( mq, (-counter[i], i) )\n",
    "    result = []\n",
    "    for i in range(k):\n",
    "        result.append(heapq.heappop(mq)[1])\n",
    "    return result\n",
    "\n"
   ]
  },
  {
   "cell_type": "code",
   "execution_count": 6,
   "metadata": {},
   "outputs": [
    {
     "name": "stdout",
     "output_type": "stream",
     "text": [
      "[6, 1, 3]\n"
     ]
    }
   ],
   "source": [
    "nums = [1,1,3,1,5,3,7,6,6,4,2,6,6,6,9,8,8,7]\n",
    "k = 3\n",
    "\n",
    "print topKFrequent(nums, k)"
   ]
  },
  {
   "cell_type": "code",
   "execution_count": 13,
   "metadata": {},
   "outputs": [
    {
     "name": "stdout",
     "output_type": "stream",
     "text": [
      "[6, 1, 3]\n"
     ]
    }
   ],
   "source": [
    "# Bucket sort approach\n",
    "# Time Complexity: O(n)\n",
    "\n",
    "#1. 遍历数组nums，利用字典cntDict统计各元素出现次数。\n",
    "#2. 遍历cntDict，利用嵌套列表freqList记录出现次数为i（ i∈[1, n] ）的所有元素\n",
    "#3. 逆序遍历freqList，将其中的前k个元素输出。\n",
    "\n",
    "class Solution(object):\n",
    "    def topKFrequent(self, nums, k):\n",
    "        \"\"\"\n",
    "        :type nums: List[int]\n",
    "        :type k: int\n",
    "        :rtype: List[int]\n",
    "        \"\"\"\n",
    "        n = len(nums)\n",
    "        cntDict = defaultdict(int)\n",
    "        for i in nums:\n",
    "            cntDict[i] += 1\n",
    "        freqList = [[] for i in range(n + 1)]\n",
    "        for p in cntDict:\n",
    "            freqList[cntDict[p]] += p,\n",
    "        ans = []\n",
    "        for p in range(n, 0, -1):\n",
    "            ans += freqList[p]\n",
    "        return ans[:k]\n",
    "    \n",
    "sol = Solution()\n",
    "print sol.topKFrequent(nums, k)"
   ]
  },
  {
   "cell_type": "code",
   "execution_count": 19,
   "metadata": {},
   "outputs": [
    {
     "name": "stdout",
     "output_type": "stream",
     "text": [
      "[1]\n",
      "[1, 2]\n"
     ]
    }
   ],
   "source": [
    "l = []\n",
    "l += 1,\n",
    "print(l)\n",
    "l += [2,]\n",
    "print(l)"
   ]
  },
  {
   "cell_type": "code",
   "execution_count": null,
   "metadata": {
    "collapsed": true
   },
   "outputs": [],
   "source": []
  }
 ],
 "metadata": {
  "kernelspec": {
   "display_name": "Python 2",
   "language": "python",
   "name": "python2"
  },
  "language_info": {
   "codemirror_mode": {
    "name": "ipython",
    "version": 2
   },
   "file_extension": ".py",
   "mimetype": "text/x-python",
   "name": "python",
   "nbconvert_exporter": "python",
   "pygments_lexer": "ipython2",
   "version": "2.7.13"
  }
 },
 "nbformat": 4,
 "nbformat_minor": 2
}
