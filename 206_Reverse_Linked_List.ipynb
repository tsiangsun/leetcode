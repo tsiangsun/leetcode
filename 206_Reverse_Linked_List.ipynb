{
 "cells": [
  {
   "cell_type": "code",
   "execution_count": 1,
   "metadata": {
    "collapsed": true
   },
   "outputs": [],
   "source": [
    "class ListNode(object):\n",
    "    def __init__(self, x):\n",
    "        self.val = x\n",
    "        self.next = None"
   ]
  },
  {
   "cell_type": "code",
   "execution_count": 10,
   "metadata": {},
   "outputs": [],
   "source": [
    "head = ListNode(1)\n",
    "head.next = ListNode(2)\n",
    "head.next.next = ListNode(3)\n",
    "\n",
    "a = head\n",
    "\n",
    "def printList(head):\n",
    "    a = head\n",
    "    while a != None:\n",
    "        print a.val, ' ',\n",
    "        a = a.next\n",
    "    print ''"
   ]
  },
  {
   "cell_type": "code",
   "execution_count": 6,
   "metadata": {},
   "outputs": [
    {
     "name": "stdout",
     "output_type": "stream",
     "text": [
      "3   2   1   None\n"
     ]
    }
   ],
   "source": [
    "def reverseList(head):\n",
    "    \"\"\"\n",
    "    :type head: ListNode\n",
    "    :rtype: ListNode\n",
    "    \"\"\"\n",
    "    curr = head\n",
    "    orig = None\n",
    "    while curr != None:\n",
    "        tmp = curr.next\n",
    "        curr.next = orig\n",
    "        orig = curr\n",
    "        curr = tmp\n",
    "    return orig\n",
    "\n",
    "nhead = reverseList(head)\n",
    "a = nhead\n",
    "while a != None:\n",
    "    print a.val, ' ',\n",
    "    a = a.next\n",
    "print a"
   ]
  },
  {
   "cell_type": "code",
   "execution_count": 7,
   "metadata": {
    "collapsed": true
   },
   "outputs": [],
   "source": [
    "# my submission (iterative approach)\n",
    "# Time Complexity : O(n)\n",
    "# Space Complexity : O(1)\n",
    "class Solution(object):\n",
    "    def reverseList(self, head):\n",
    "        \"\"\"\n",
    "        :type head: ListNode\n",
    "        :rtype: ListNode\n",
    "        \"\"\"\n",
    "        curr = head\n",
    "        orig = None\n",
    "        while curr != None:\n",
    "            tmp = curr.next\n",
    "            curr.next = orig\n",
    "            orig = curr\n",
    "            curr = tmp\n",
    "        return orig"
   ]
  },
  {
   "cell_type": "code",
   "execution_count": 13,
   "metadata": {},
   "outputs": [
    {
     "name": "stdout",
     "output_type": "stream",
     "text": [
      "1   2   3   \n",
      "3   2   1   \n"
     ]
    }
   ],
   "source": [
    "# recursive approach\n",
    "# Time Complexity : O(n)\n",
    "# Space Complexity : O(n)\n",
    "\n",
    "def reverseList_rec(head):\n",
    "    return _reverse(head)\n",
    "\n",
    "def _reverse(curr, prev=None):\n",
    "    if curr == None:\n",
    "        return prev\n",
    "    n = curr.next\n",
    "    curr.next = prev\n",
    "    return _reverse(n, curr)\n",
    "\n",
    "\n",
    "head = ListNode(1)\n",
    "head.next = ListNode(2)\n",
    "head.next.next = ListNode(3)\n",
    "printList(head)\n",
    "\n",
    "newh = reverseList_rec(head)\n",
    "printList(newh)\n"
   ]
  },
  {
   "cell_type": "code",
   "execution_count": null,
   "metadata": {
    "collapsed": true
   },
   "outputs": [],
   "source": []
  }
 ],
 "metadata": {
  "kernelspec": {
   "display_name": "Python 2",
   "language": "python",
   "name": "python2"
  },
  "language_info": {
   "codemirror_mode": {
    "name": "ipython",
    "version": 2
   },
   "file_extension": ".py",
   "mimetype": "text/x-python",
   "name": "python",
   "nbconvert_exporter": "python",
   "pygments_lexer": "ipython2",
   "version": "2.7.13"
  }
 },
 "nbformat": 4,
 "nbformat_minor": 2
}
