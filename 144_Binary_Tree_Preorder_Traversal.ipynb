{
 "cells": [
  {
   "cell_type": "markdown",
   "metadata": {},
   "source": [
    "Given a binary tree, return the preorder traversal of its nodes' values.\n",
    "\n",
    "    For example:\n",
    "    Given binary tree {1,#,2,3},\n",
    "       1\n",
    "        \\\n",
    "         2\n",
    "        /\n",
    "       3\n",
    "    return [1,2,3].\n",
    "\n",
    "Note: Recursive solution is trivial, could you do it iteratively?"
   ]
  },
  {
   "cell_type": "code",
   "execution_count": 2,
   "metadata": {
    "collapsed": true
   },
   "outputs": [],
   "source": [
    "class TreeNode(object):\n",
    "    def __init__(self, x):\n",
    "        self.val = x\n",
    "        self.left = None\n",
    "        self.right = None"
   ]
  },
  {
   "cell_type": "code",
   "execution_count": 9,
   "metadata": {
    "collapsed": true
   },
   "outputs": [],
   "source": [
    "class Solution(object):\n",
    "    # Recursive solution\n",
    "    def preorderTraversal(self, root): \n",
    "        \"\"\"\n",
    "        :type root: TreeNode\n",
    "        :rtype: List[int]\n",
    "        \"\"\"\n",
    "        if root is None:\n",
    "            return []\n",
    "        else:\n",
    "            left = self.preorderTraversal(root.left)\n",
    "            right = self.preorderTraversal(root.right)\n",
    "            return [root.val,] + left + right\n",
    "        \n",
    "    # Iterative solution\n",
    "    def preorderIterative(self, root):\n",
    "        result = []\n",
    "        stack = []\n",
    "        node = root\n",
    "        while node != None or len(stack)>0:\n",
    "            if node != None:\n",
    "                result.append(node.val)\n",
    "                stack.append(node)\n",
    "                node = node.left\n",
    "            else:\n",
    "                node = stack.pop().right\n",
    "        return result"
   ]
  },
  {
   "cell_type": "code",
   "execution_count": 10,
   "metadata": {},
   "outputs": [
    {
     "name": "stdout",
     "output_type": "stream",
     "text": [
      "[1, 2, 3]\n"
     ]
    }
   ],
   "source": [
    "tree = TreeNode(1)\n",
    "tree.right = TreeNode(2)\n",
    "tree.right.left = TreeNode(3)\n",
    "\n",
    "sol = Solution()\n",
    "print sol.preorderTraversal(tree)\n",
    "#print sol.preorderIterative(tree)"
   ]
  },
  {
   "cell_type": "code",
   "execution_count": 12,
   "metadata": {},
   "outputs": [
    {
     "name": "stdout",
     "output_type": "stream",
     "text": [
      "[0, 1, 3, 4, 2, 5, 6]\n"
     ]
    }
   ],
   "source": [
    "root = TreeNode(0)\n",
    "root.left = TreeNode(1)\n",
    "root.right = TreeNode(2)\n",
    "root.left.left = TreeNode(3)\n",
    "root.left.right = TreeNode(4)\n",
    "root.right.left = TreeNode(5)\n",
    "root.right.left.right = TreeNode(6)\n",
    "sol = Solution()\n",
    "print sol.preorderIterative(root)"
   ]
  },
  {
   "cell_type": "code",
   "execution_count": 13,
   "metadata": {},
   "outputs": [
    {
     "name": "stdout",
     "output_type": "stream",
     "text": [
      "[0, 1, 3, 4, 2, 5, 6]\n"
     ]
    }
   ],
   "source": [
    "class Solution2:\n",
    "    def preorderTraversal(self, root):\n",
    "        res, stack = [], [root]\n",
    "        if root is None:\n",
    "            return res\n",
    "        while stack:\n",
    "            current = stack.pop()\n",
    "            if current.right:\n",
    "                stack.append(current.right)\n",
    "            if current.left:\n",
    "                stack.append(current.left)\n",
    "            res.append(current.val)\n",
    "        return res\n",
    "    \n",
    "    \n",
    "sol2 = Solution2()\n",
    "print sol2.preorderTraversal(root)"
   ]
  },
  {
   "cell_type": "code",
   "execution_count": null,
   "metadata": {
    "collapsed": true
   },
   "outputs": [],
   "source": []
  }
 ],
 "metadata": {
  "kernelspec": {
   "display_name": "Python 2",
   "language": "python",
   "name": "python2"
  },
  "language_info": {
   "codemirror_mode": {
    "name": "ipython",
    "version": 2
   },
   "file_extension": ".py",
   "mimetype": "text/x-python",
   "name": "python",
   "nbconvert_exporter": "python",
   "pygments_lexer": "ipython2",
   "version": "2.7.13"
  }
 },
 "nbformat": 4,
 "nbformat_minor": 2
}
