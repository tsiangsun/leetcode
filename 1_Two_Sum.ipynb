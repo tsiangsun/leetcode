{
 "cells": [
  {
   "cell_type": "markdown",
   "metadata": {},
   "source": [
    "Given an array of integers, return indices of the two numbers such that they add up to a specific target.\n",
    "\n",
    "You may assume that each input would have exactly one solution, and you may not use the same element twice.\n",
    "\n",
    "Example:\n",
    "Given nums = [2, 7, 11, 15], target = 9,\n",
    "\n",
    "Because nums[0] + nums[1] = 2 + 7 = 9,\n",
    "return [0, 1]."
   ]
  },
  {
   "cell_type": "code",
   "execution_count": 2,
   "metadata": {
    "collapsed": true
   },
   "outputs": [],
   "source": [
    "# my submission (sort first approach)\n",
    "# Time complexity: O(n log n)\n",
    "\n",
    "class Solution(object):\n",
    "    def twoSum(self, nums, target):\n",
    "        \"\"\"\n",
    "        :type nums: List[int]\n",
    "        :type target: int\n",
    "        :rtype: List[int]\n",
    "        \"\"\"\n",
    "        lp = 0\n",
    "        hp = len(nums)-1\n",
    "        nd = [ (i, x) for i, x in enumerate(nums) ]\n",
    "        nd = sorted(nd, key=lambda t: t[1])\n",
    "        while lp < hp:\n",
    "            s = nd[lp][1] + nd[hp][1]\n",
    "            if s == target:\n",
    "                return [ nd[lp][0], nd[hp][0] ]\n",
    "            elif s > target:\n",
    "                hp = hp - 1\n",
    "            else:\n",
    "                lp = lp + 1"
   ]
  },
  {
   "cell_type": "code",
   "execution_count": 4,
   "metadata": {},
   "outputs": [
    {
     "name": "stdout",
     "output_type": "stream",
     "text": [
      "[3, 4]\n"
     ]
    }
   ],
   "source": [
    "# HashTable approach\n",
    "# Time complexity: O(n)\n",
    "\n",
    "def twoSum(nums, target):\n",
    "    if len(nums) <= 1:\n",
    "        return False\n",
    "    buff_dict = {}\n",
    "    for i in range(len(nums)):\n",
    "        if nums[i] in buff_dict:\n",
    "            return [buff_dict[nums[i]], i]\n",
    "        else:\n",
    "            buff_dict[target - nums[i]] = i\n",
    "            \n",
    "nums = [3, 4, 16, 1, 9, 2]\n",
    "target= 10\n",
    "print twoSum(nums, target)"
   ]
  },
  {
   "cell_type": "code",
   "execution_count": null,
   "metadata": {
    "collapsed": true
   },
   "outputs": [],
   "source": []
  }
 ],
 "metadata": {
  "kernelspec": {
   "display_name": "Python 2",
   "language": "python",
   "name": "python2"
  },
  "language_info": {
   "codemirror_mode": {
    "name": "ipython",
    "version": 2
   },
   "file_extension": ".py",
   "mimetype": "text/x-python",
   "name": "python",
   "nbconvert_exporter": "python",
   "pygments_lexer": "ipython2",
   "version": "2.7.13"
  }
 },
 "nbformat": 4,
 "nbformat_minor": 2
}
